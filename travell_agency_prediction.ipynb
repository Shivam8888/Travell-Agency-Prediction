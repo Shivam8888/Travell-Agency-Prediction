{
  "nbformat": 4,
  "nbformat_minor": 0,
  "metadata": {
    "colab": {
      "provenance": [],
      "collapsed_sections": []
    },
    "kernelspec": {
      "name": "python3",
      "display_name": "Python 3"
    },
    "language_info": {
      "name": "python"
    }
  },
  "cells": [
    {
      "cell_type": "code",
      "source": [
        "#importing the libraries\n",
        "import numpy as np \n",
        "import pandas as pd\n",
        "import matplotlib.pyplot as plt\n",
        "import seaborn as sns\n",
        "import xgboost as xgb\n",
        "from sklearn.linear_model import LogisticRegression\n",
        "from sklearn.model_selection import train_test_split, cross_val_score,  RandomizedSearchCV\n",
        "from sklearn.metrics import accuracy_score, confusion_matrix, classification_report, roc_auc_score, roc_curve\n",
        "from sklearn.naive_bayes import GaussianNB\n",
        "from sklearn.tree import DecisionTreeClassifier\n",
        "from sklearn.ensemble import RandomForestClassifier\n",
        "from sklearn.neighbors import KNeighborsClassifier\n",
        "from sklearn.decomposition import PCA\n",
        "from sklearn.feature_selection import SelectKBest, chi2\n",
        "from imblearn.over_sampling import RandomOverSampler\n",
        "from sklearn.preprocessing import MinMaxScaler\n",
        "import warnings\n",
        "warnings.simplefilter('ignore')\n"
      ],
      "metadata": {
        "id": "Vi99da_ecjyp"
      },
      "execution_count": 3,
      "outputs": []
    },
    {
      "cell_type": "code",
      "source": [
        "#reading the first five rows\n",
        "df=pd.read_csv(\"/content/drive/MyDrive/train_small.csv\", nrows=100000)\n",
        "df.head()"
      ],
      "metadata": {
        "colab": {
          "base_uri": "https://localhost:8080/",
          "height": 473
        },
        "id": "5cM3-YvSSvZJ",
        "outputId": "33a4ff6c-7567-4cb9-d2e4-4e904f31666d"
      },
      "execution_count": 5,
      "outputs": [
        {
          "output_type": "execute_result",
          "data": {
            "text/plain": [
              "   search_id            timestamp  site_id  user_country_id  user_hist_stars  \\\n",
              "0          4  2012-12-31 08:59:22        5              219              NaN   \n",
              "1          4  2012-12-31 08:59:22        5              219              NaN   \n",
              "2          4  2012-12-31 08:59:22        5              219              NaN   \n",
              "3          4  2012-12-31 08:59:22        5              219              NaN   \n",
              "4          4  2012-12-31 08:59:22        5              219              NaN   \n",
              "\n",
              "   user_hist_paid  listing_country_id  listing_id  listing_stars  \\\n",
              "0             NaN                 219        3625              4   \n",
              "1             NaN                 219       11622              4   \n",
              "2             NaN                 219       11826              5   \n",
              "3             NaN                 219       22824              3   \n",
              "4             NaN                 219       37581              5   \n",
              "\n",
              "   listing_review_score  ...  competitor6_price_percent_diff  \\\n",
              "0                   4.0  ...                             NaN   \n",
              "1                   4.0  ...                             NaN   \n",
              "2                   4.5  ...                             NaN   \n",
              "3                   4.0  ...                             NaN   \n",
              "4                   4.5  ...                             NaN   \n",
              "\n",
              "   competitor7_rate  competitor7_has_availability  \\\n",
              "0               NaN                           NaN   \n",
              "1               NaN                           NaN   \n",
              "2               NaN                           NaN   \n",
              "3               NaN                           NaN   \n",
              "4               NaN                           NaN   \n",
              "\n",
              "   competitor7_price_percent_diff  competitor8_rate  \\\n",
              "0                             NaN               NaN   \n",
              "1                             NaN               NaN   \n",
              "2                             NaN               NaN   \n",
              "3                             NaN               NaN   \n",
              "4                             NaN               NaN   \n",
              "\n",
              "   competitor8_has_availability  competitor8_price_percent_diff  clicked  \\\n",
              "0                           NaN                             NaN        0   \n",
              "1                           NaN                             NaN        0   \n",
              "2                           NaN                             NaN        0   \n",
              "3                           NaN                             NaN        0   \n",
              "4                           NaN                             NaN        0   \n",
              "\n",
              "   booking_value  booked  \n",
              "0            NaN       0  \n",
              "1            NaN       0  \n",
              "2            NaN       0  \n",
              "3            NaN       0  \n",
              "4            NaN       0  \n",
              "\n",
              "[5 rows x 54 columns]"
            ],
            "text/html": [
              "\n",
              "  <div id=\"df-76efcddb-6d02-46a1-9f9b-a32fca116f73\">\n",
              "    <div class=\"colab-df-container\">\n",
              "      <div>\n",
              "<style scoped>\n",
              "    .dataframe tbody tr th:only-of-type {\n",
              "        vertical-align: middle;\n",
              "    }\n",
              "\n",
              "    .dataframe tbody tr th {\n",
              "        vertical-align: top;\n",
              "    }\n",
              "\n",
              "    .dataframe thead th {\n",
              "        text-align: right;\n",
              "    }\n",
              "</style>\n",
              "<table border=\"1\" class=\"dataframe\">\n",
              "  <thead>\n",
              "    <tr style=\"text-align: right;\">\n",
              "      <th></th>\n",
              "      <th>search_id</th>\n",
              "      <th>timestamp</th>\n",
              "      <th>site_id</th>\n",
              "      <th>user_country_id</th>\n",
              "      <th>user_hist_stars</th>\n",
              "      <th>user_hist_paid</th>\n",
              "      <th>listing_country_id</th>\n",
              "      <th>listing_id</th>\n",
              "      <th>listing_stars</th>\n",
              "      <th>listing_review_score</th>\n",
              "      <th>...</th>\n",
              "      <th>competitor6_price_percent_diff</th>\n",
              "      <th>competitor7_rate</th>\n",
              "      <th>competitor7_has_availability</th>\n",
              "      <th>competitor7_price_percent_diff</th>\n",
              "      <th>competitor8_rate</th>\n",
              "      <th>competitor8_has_availability</th>\n",
              "      <th>competitor8_price_percent_diff</th>\n",
              "      <th>clicked</th>\n",
              "      <th>booking_value</th>\n",
              "      <th>booked</th>\n",
              "    </tr>\n",
              "  </thead>\n",
              "  <tbody>\n",
              "    <tr>\n",
              "      <th>0</th>\n",
              "      <td>4</td>\n",
              "      <td>2012-12-31 08:59:22</td>\n",
              "      <td>5</td>\n",
              "      <td>219</td>\n",
              "      <td>NaN</td>\n",
              "      <td>NaN</td>\n",
              "      <td>219</td>\n",
              "      <td>3625</td>\n",
              "      <td>4</td>\n",
              "      <td>4.0</td>\n",
              "      <td>...</td>\n",
              "      <td>NaN</td>\n",
              "      <td>NaN</td>\n",
              "      <td>NaN</td>\n",
              "      <td>NaN</td>\n",
              "      <td>NaN</td>\n",
              "      <td>NaN</td>\n",
              "      <td>NaN</td>\n",
              "      <td>0</td>\n",
              "      <td>NaN</td>\n",
              "      <td>0</td>\n",
              "    </tr>\n",
              "    <tr>\n",
              "      <th>1</th>\n",
              "      <td>4</td>\n",
              "      <td>2012-12-31 08:59:22</td>\n",
              "      <td>5</td>\n",
              "      <td>219</td>\n",
              "      <td>NaN</td>\n",
              "      <td>NaN</td>\n",
              "      <td>219</td>\n",
              "      <td>11622</td>\n",
              "      <td>4</td>\n",
              "      <td>4.0</td>\n",
              "      <td>...</td>\n",
              "      <td>NaN</td>\n",
              "      <td>NaN</td>\n",
              "      <td>NaN</td>\n",
              "      <td>NaN</td>\n",
              "      <td>NaN</td>\n",
              "      <td>NaN</td>\n",
              "      <td>NaN</td>\n",
              "      <td>0</td>\n",
              "      <td>NaN</td>\n",
              "      <td>0</td>\n",
              "    </tr>\n",
              "    <tr>\n",
              "      <th>2</th>\n",
              "      <td>4</td>\n",
              "      <td>2012-12-31 08:59:22</td>\n",
              "      <td>5</td>\n",
              "      <td>219</td>\n",
              "      <td>NaN</td>\n",
              "      <td>NaN</td>\n",
              "      <td>219</td>\n",
              "      <td>11826</td>\n",
              "      <td>5</td>\n",
              "      <td>4.5</td>\n",
              "      <td>...</td>\n",
              "      <td>NaN</td>\n",
              "      <td>NaN</td>\n",
              "      <td>NaN</td>\n",
              "      <td>NaN</td>\n",
              "      <td>NaN</td>\n",
              "      <td>NaN</td>\n",
              "      <td>NaN</td>\n",
              "      <td>0</td>\n",
              "      <td>NaN</td>\n",
              "      <td>0</td>\n",
              "    </tr>\n",
              "    <tr>\n",
              "      <th>3</th>\n",
              "      <td>4</td>\n",
              "      <td>2012-12-31 08:59:22</td>\n",
              "      <td>5</td>\n",
              "      <td>219</td>\n",
              "      <td>NaN</td>\n",
              "      <td>NaN</td>\n",
              "      <td>219</td>\n",
              "      <td>22824</td>\n",
              "      <td>3</td>\n",
              "      <td>4.0</td>\n",
              "      <td>...</td>\n",
              "      <td>NaN</td>\n",
              "      <td>NaN</td>\n",
              "      <td>NaN</td>\n",
              "      <td>NaN</td>\n",
              "      <td>NaN</td>\n",
              "      <td>NaN</td>\n",
              "      <td>NaN</td>\n",
              "      <td>0</td>\n",
              "      <td>NaN</td>\n",
              "      <td>0</td>\n",
              "    </tr>\n",
              "    <tr>\n",
              "      <th>4</th>\n",
              "      <td>4</td>\n",
              "      <td>2012-12-31 08:59:22</td>\n",
              "      <td>5</td>\n",
              "      <td>219</td>\n",
              "      <td>NaN</td>\n",
              "      <td>NaN</td>\n",
              "      <td>219</td>\n",
              "      <td>37581</td>\n",
              "      <td>5</td>\n",
              "      <td>4.5</td>\n",
              "      <td>...</td>\n",
              "      <td>NaN</td>\n",
              "      <td>NaN</td>\n",
              "      <td>NaN</td>\n",
              "      <td>NaN</td>\n",
              "      <td>NaN</td>\n",
              "      <td>NaN</td>\n",
              "      <td>NaN</td>\n",
              "      <td>0</td>\n",
              "      <td>NaN</td>\n",
              "      <td>0</td>\n",
              "    </tr>\n",
              "  </tbody>\n",
              "</table>\n",
              "<p>5 rows × 54 columns</p>\n",
              "</div>\n",
              "      <button class=\"colab-df-convert\" onclick=\"convertToInteractive('df-76efcddb-6d02-46a1-9f9b-a32fca116f73')\"\n",
              "              title=\"Convert this dataframe to an interactive table.\"\n",
              "              style=\"display:none;\">\n",
              "        \n",
              "  <svg xmlns=\"http://www.w3.org/2000/svg\" height=\"24px\"viewBox=\"0 0 24 24\"\n",
              "       width=\"24px\">\n",
              "    <path d=\"M0 0h24v24H0V0z\" fill=\"none\"/>\n",
              "    <path d=\"M18.56 5.44l.94 2.06.94-2.06 2.06-.94-2.06-.94-.94-2.06-.94 2.06-2.06.94zm-11 1L8.5 8.5l.94-2.06 2.06-.94-2.06-.94L8.5 2.5l-.94 2.06-2.06.94zm10 10l.94 2.06.94-2.06 2.06-.94-2.06-.94-.94-2.06-.94 2.06-2.06.94z\"/><path d=\"M17.41 7.96l-1.37-1.37c-.4-.4-.92-.59-1.43-.59-.52 0-1.04.2-1.43.59L10.3 9.45l-7.72 7.72c-.78.78-.78 2.05 0 2.83L4 21.41c.39.39.9.59 1.41.59.51 0 1.02-.2 1.41-.59l7.78-7.78 2.81-2.81c.8-.78.8-2.07 0-2.86zM5.41 20L4 18.59l7.72-7.72 1.47 1.35L5.41 20z\"/>\n",
              "  </svg>\n",
              "      </button>\n",
              "      \n",
              "  <style>\n",
              "    .colab-df-container {\n",
              "      display:flex;\n",
              "      flex-wrap:wrap;\n",
              "      gap: 12px;\n",
              "    }\n",
              "\n",
              "    .colab-df-convert {\n",
              "      background-color: #E8F0FE;\n",
              "      border: none;\n",
              "      border-radius: 50%;\n",
              "      cursor: pointer;\n",
              "      display: none;\n",
              "      fill: #1967D2;\n",
              "      height: 32px;\n",
              "      padding: 0 0 0 0;\n",
              "      width: 32px;\n",
              "    }\n",
              "\n",
              "    .colab-df-convert:hover {\n",
              "      background-color: #E2EBFA;\n",
              "      box-shadow: 0px 1px 2px rgba(60, 64, 67, 0.3), 0px 1px 3px 1px rgba(60, 64, 67, 0.15);\n",
              "      fill: #174EA6;\n",
              "    }\n",
              "\n",
              "    [theme=dark] .colab-df-convert {\n",
              "      background-color: #3B4455;\n",
              "      fill: #D2E3FC;\n",
              "    }\n",
              "\n",
              "    [theme=dark] .colab-df-convert:hover {\n",
              "      background-color: #434B5C;\n",
              "      box-shadow: 0px 1px 3px 1px rgba(0, 0, 0, 0.15);\n",
              "      filter: drop-shadow(0px 1px 2px rgba(0, 0, 0, 0.3));\n",
              "      fill: #FFFFFF;\n",
              "    }\n",
              "  </style>\n",
              "\n",
              "      <script>\n",
              "        const buttonEl =\n",
              "          document.querySelector('#df-76efcddb-6d02-46a1-9f9b-a32fca116f73 button.colab-df-convert');\n",
              "        buttonEl.style.display =\n",
              "          google.colab.kernel.accessAllowed ? 'block' : 'none';\n",
              "\n",
              "        async function convertToInteractive(key) {\n",
              "          const element = document.querySelector('#df-76efcddb-6d02-46a1-9f9b-a32fca116f73');\n",
              "          const dataTable =\n",
              "            await google.colab.kernel.invokeFunction('convertToInteractive',\n",
              "                                                     [key], {});\n",
              "          if (!dataTable) return;\n",
              "\n",
              "          const docLinkHtml = 'Like what you see? Visit the ' +\n",
              "            '<a target=\"_blank\" href=https://colab.research.google.com/notebooks/data_table.ipynb>data table notebook</a>'\n",
              "            + ' to learn more about interactive tables.';\n",
              "          element.innerHTML = '';\n",
              "          dataTable['output_type'] = 'display_data';\n",
              "          await google.colab.output.renderOutput(dataTable, element);\n",
              "          const docLink = document.createElement('div');\n",
              "          docLink.innerHTML = docLinkHtml;\n",
              "          element.appendChild(docLink);\n",
              "        }\n",
              "      </script>\n",
              "    </div>\n",
              "  </div>\n",
              "  "
            ]
          },
          "metadata": {},
          "execution_count": 5
        }
      ]
    },
    {
      "cell_type": "code",
      "source": [
        "#checking the diamention of the dataset\n",
        "df.shape"
      ],
      "metadata": {
        "colab": {
          "base_uri": "https://localhost:8080/"
        },
        "id": "Jl2y6bhaWsi9",
        "outputId": "3cc9acad-74dd-4db0-c68c-0c8645e8ea52"
      },
      "execution_count": 6,
      "outputs": [
        {
          "output_type": "execute_result",
          "data": {
            "text/plain": [
              "(100000, 54)"
            ]
          },
          "metadata": {},
          "execution_count": 6
        }
      ]
    },
    {
      "cell_type": "code",
      "source": [
        "# printing the numbeer of columns\n",
        "df.columns"
      ],
      "metadata": {
        "colab": {
          "base_uri": "https://localhost:8080/"
        },
        "id": "9BcyoXIl88O-",
        "outputId": "191c4cff-66ab-438b-a6a0-7bc1f4370395"
      },
      "execution_count": 7,
      "outputs": [
        {
          "output_type": "execute_result",
          "data": {
            "text/plain": [
              "Index(['search_id', 'timestamp', 'site_id', 'user_country_id',\n",
              "       'user_hist_stars', 'user_hist_paid', 'listing_country_id', 'listing_id',\n",
              "       'listing_stars', 'listing_review_score', 'is_brand', 'location_score1',\n",
              "       'location_score2', 'log_historical_price', 'listing_position',\n",
              "       'price_usd', 'has_promotion', 'destination_id', 'length_of_stay',\n",
              "       'booking_window', 'num_adults', 'num_kids', 'num_rooms',\n",
              "       'stay_on_saturday', 'log_click_proportion', 'distance_to_dest',\n",
              "       'random_sort', 'competitor1_rate', 'competitor1_has_availability',\n",
              "       'competitor1_price_percent_diff', 'competitor2_rate',\n",
              "       'competitor2_has_availability', 'competitor2_price_percent_diff',\n",
              "       'competitor3_rate', 'competitor3_has_availability',\n",
              "       'competitor3_price_percent_diff', 'competitor4_rate',\n",
              "       'competitor4_has_availability', 'competitor4_price_percent_diff',\n",
              "       'competitor5_rate', 'competitor5_has_availability',\n",
              "       'competitor5_price_percent_diff', 'competitor6_rate',\n",
              "       'competitor6_has_availability', 'competitor6_price_percent_diff',\n",
              "       'competitor7_rate', 'competitor7_has_availability',\n",
              "       'competitor7_price_percent_diff', 'competitor8_rate',\n",
              "       'competitor8_has_availability', 'competitor8_price_percent_diff',\n",
              "       'clicked', 'booking_value', 'booked'],\n",
              "      dtype='object')"
            ]
          },
          "metadata": {},
          "execution_count": 7
        }
      ]
    },
    {
      "cell_type": "code",
      "source": [
        "#checking the missing values\n",
        "df.isnull().sum()/len(df)*100"
      ],
      "metadata": {
        "colab": {
          "base_uri": "https://localhost:8080/"
        },
        "id": "mB1txqTp8uZL",
        "outputId": "32bb9546-ad98-45ce-f23a-4aff61ebe446"
      },
      "execution_count": 8,
      "outputs": [
        {
          "output_type": "execute_result",
          "data": {
            "text/plain": [
              "search_id                          0.000\n",
              "timestamp                          0.000\n",
              "site_id                            0.000\n",
              "user_country_id                    0.000\n",
              "user_hist_stars                   94.619\n",
              "user_hist_paid                    94.619\n",
              "listing_country_id                 0.000\n",
              "listing_id                         0.000\n",
              "listing_stars                      0.000\n",
              "listing_review_score               0.130\n",
              "is_brand                           0.000\n",
              "location_score1                    0.000\n",
              "location_score2                   21.442\n",
              "log_historical_price               0.000\n",
              "listing_position                   0.000\n",
              "price_usd                          0.000\n",
              "has_promotion                      0.000\n",
              "destination_id                     0.000\n",
              "length_of_stay                     0.000\n",
              "booking_window                     0.000\n",
              "num_adults                         0.000\n",
              "num_kids                           0.000\n",
              "num_rooms                          0.000\n",
              "stay_on_saturday                   0.000\n",
              "log_click_proportion              93.881\n",
              "distance_to_dest                  32.666\n",
              "random_sort                        0.000\n",
              "competitor1_rate                  97.017\n",
              "competitor1_has_availability      96.813\n",
              "competitor1_price_percent_diff    97.604\n",
              "competitor2_rate                  59.705\n",
              "competitor2_has_availability      57.617\n",
              "competitor2_price_percent_diff    89.058\n",
              "competitor3_rate                  69.102\n",
              "competitor3_has_availability      66.864\n",
              "competitor3_price_percent_diff    90.303\n",
              "competitor4_rate                  93.495\n",
              "competitor4_has_availability      92.770\n",
              "competitor4_price_percent_diff    97.301\n",
              "competitor5_rate                  55.243\n",
              "competitor5_has_availability      52.624\n",
              "competitor5_price_percent_diff    83.346\n",
              "competitor6_rate                  94.249\n",
              "competitor6_has_availability      93.736\n",
              "competitor6_price_percent_diff    97.733\n",
              "competitor7_rate                  92.782\n",
              "competitor7_has_availability      91.791\n",
              "competitor7_price_percent_diff    96.942\n",
              "competitor8_rate                  62.271\n",
              "competitor8_has_availability      60.879\n",
              "competitor8_price_percent_diff    87.763\n",
              "clicked                            0.000\n",
              "booking_value                     97.239\n",
              "booked                             0.000\n",
              "dtype: float64"
            ]
          },
          "metadata": {},
          "execution_count": 8
        }
      ]
    },
    {
      "cell_type": "code",
      "source": [
        "#converting string into date time column\n",
        "df['timestamp']=pd.to_datetime(df['timestamp'])\n",
        "df['timestamp']\n"
      ],
      "metadata": {
        "colab": {
          "base_uri": "https://localhost:8080/"
        },
        "id": "tzxRypqNkLy8",
        "outputId": "f1ebd0dc-8586-4d3d-96c9-61ec96fa033f"
      },
      "execution_count": 9,
      "outputs": [
        {
          "output_type": "execute_result",
          "data": {
            "text/plain": [
              "0       2012-12-31 08:59:22\n",
              "1       2012-12-31 08:59:22\n",
              "2       2012-12-31 08:59:22\n",
              "3       2012-12-31 08:59:22\n",
              "4       2012-12-31 08:59:22\n",
              "                ...        \n",
              "99995   2012-11-16 21:40:08\n",
              "99996   2012-11-16 21:40:08\n",
              "99997   2012-11-16 21:40:08\n",
              "99998   2012-11-16 21:40:08\n",
              "99999   2012-11-16 21:40:08\n",
              "Name: timestamp, Length: 100000, dtype: datetime64[ns]"
            ]
          },
          "metadata": {},
          "execution_count": 9
        }
      ]
    },
    {
      "cell_type": "code",
      "source": [
        "#extracting year from timestamp\n",
        "df['year'] = pd.to_datetime(df['timestamp']).dt.year\n",
        "df['year']"
      ],
      "metadata": {
        "colab": {
          "base_uri": "https://localhost:8080/"
        },
        "id": "uqG2Z1hRoH_0",
        "outputId": "b93a0b12-a28f-49ba-e59d-b5aaca222394"
      },
      "execution_count": 10,
      "outputs": [
        {
          "output_type": "execute_result",
          "data": {
            "text/plain": [
              "0        2012\n",
              "1        2012\n",
              "2        2012\n",
              "3        2012\n",
              "4        2012\n",
              "         ... \n",
              "99995    2012\n",
              "99996    2012\n",
              "99997    2012\n",
              "99998    2012\n",
              "99999    2012\n",
              "Name: year, Length: 100000, dtype: int64"
            ]
          },
          "metadata": {},
          "execution_count": 10
        }
      ]
    },
    {
      "cell_type": "code",
      "source": [
        "#extracting month from timestamp\n",
        "df['month'] = pd.to_datetime(df['timestamp']).dt.month\n",
        "df['month']"
      ],
      "metadata": {
        "colab": {
          "base_uri": "https://localhost:8080/"
        },
        "id": "6CoFWSrdojmD",
        "outputId": "9c63e89d-5eee-4160-9fb6-7f427afe4d22"
      },
      "execution_count": 11,
      "outputs": [
        {
          "output_type": "execute_result",
          "data": {
            "text/plain": [
              "0        12\n",
              "1        12\n",
              "2        12\n",
              "3        12\n",
              "4        12\n",
              "         ..\n",
              "99995    11\n",
              "99996    11\n",
              "99997    11\n",
              "99998    11\n",
              "99999    11\n",
              "Name: month, Length: 100000, dtype: int64"
            ]
          },
          "metadata": {},
          "execution_count": 11
        }
      ]
    },
    {
      "cell_type": "code",
      "source": [
        "# dropping the irrelevant columns\n",
        "col=['booking_value', 'log_click_proportion','timestamp','search_id','site_id', 'user_country_id', 'user_hist_stars', 'user_hist_paid','listing_country_id',\n",
        "     'listing_id', 'listing_stars','listing_review_score','location_score1','location_score2', 'log_historical_price', 'listing_position',\n",
        "     'destination_id', 'length_of_stay','distance_to_dest','competitor1_rate', 'competitor1_has_availability','competitor1_price_percent_diff',\n",
        "     'competitor2_rate','competitor2_has_availability', 'competitor2_price_percent_diff','competitor3_rate','competitor3_has_availability',\n",
        "     'competitor3_price_percent_diff', 'competitor4_rate','competitor4_has_availability', 'competitor4_price_percent_diff',\n",
        "       'competitor5_rate', 'competitor5_has_availability','competitor5_price_percent_diff', 'competitor6_rate','competitor6_has_availability', \n",
        "     'competitor6_price_percent_diff','competitor7_rate', 'competitor7_has_availability','competitor7_price_percent_diff', 'competitor8_rate',\n",
        "     'competitor8_has_availability', 'competitor8_price_percent_diff']\n",
        "df = df.drop(col, axis=1)"
      ],
      "metadata": {
        "id": "eTF4D8a7oV9a"
      },
      "execution_count": 12,
      "outputs": []
    },
    {
      "cell_type": "code",
      "source": [
        "df.head()"
      ],
      "metadata": {
        "colab": {
          "base_uri": "https://localhost:8080/",
          "height": 206
        },
        "id": "H1upl-cXweQE",
        "outputId": "5acf3be5-b58f-4a03-fb19-327ab8f7a987"
      },
      "execution_count": 13,
      "outputs": [
        {
          "output_type": "execute_result",
          "data": {
            "text/plain": [
              "   is_brand  price_usd  has_promotion  booking_window  num_adults  num_kids  \\\n",
              "0         0      295.0              0              46           1         0   \n",
              "1         0      299.0              0              46           1         0   \n",
              "2         1      373.0              1              46           1         0   \n",
              "3         0      329.0              0              46           1         0   \n",
              "4         0      600.0              0              46           1         0   \n",
              "\n",
              "   num_rooms  stay_on_saturday  random_sort  clicked  booked  year  month  \n",
              "0          1                 1            1        0       0  2012     12  \n",
              "1          1                 1            1        0       0  2012     12  \n",
              "2          1                 1            1        0       0  2012     12  \n",
              "3          1                 1            1        0       0  2012     12  \n",
              "4          1                 1            1        0       0  2012     12  "
            ],
            "text/html": [
              "\n",
              "  <div id=\"df-23771d12-378d-44a5-aa2b-fa058df82af4\">\n",
              "    <div class=\"colab-df-container\">\n",
              "      <div>\n",
              "<style scoped>\n",
              "    .dataframe tbody tr th:only-of-type {\n",
              "        vertical-align: middle;\n",
              "    }\n",
              "\n",
              "    .dataframe tbody tr th {\n",
              "        vertical-align: top;\n",
              "    }\n",
              "\n",
              "    .dataframe thead th {\n",
              "        text-align: right;\n",
              "    }\n",
              "</style>\n",
              "<table border=\"1\" class=\"dataframe\">\n",
              "  <thead>\n",
              "    <tr style=\"text-align: right;\">\n",
              "      <th></th>\n",
              "      <th>is_brand</th>\n",
              "      <th>price_usd</th>\n",
              "      <th>has_promotion</th>\n",
              "      <th>booking_window</th>\n",
              "      <th>num_adults</th>\n",
              "      <th>num_kids</th>\n",
              "      <th>num_rooms</th>\n",
              "      <th>stay_on_saturday</th>\n",
              "      <th>random_sort</th>\n",
              "      <th>clicked</th>\n",
              "      <th>booked</th>\n",
              "      <th>year</th>\n",
              "      <th>month</th>\n",
              "    </tr>\n",
              "  </thead>\n",
              "  <tbody>\n",
              "    <tr>\n",
              "      <th>0</th>\n",
              "      <td>0</td>\n",
              "      <td>295.0</td>\n",
              "      <td>0</td>\n",
              "      <td>46</td>\n",
              "      <td>1</td>\n",
              "      <td>0</td>\n",
              "      <td>1</td>\n",
              "      <td>1</td>\n",
              "      <td>1</td>\n",
              "      <td>0</td>\n",
              "      <td>0</td>\n",
              "      <td>2012</td>\n",
              "      <td>12</td>\n",
              "    </tr>\n",
              "    <tr>\n",
              "      <th>1</th>\n",
              "      <td>0</td>\n",
              "      <td>299.0</td>\n",
              "      <td>0</td>\n",
              "      <td>46</td>\n",
              "      <td>1</td>\n",
              "      <td>0</td>\n",
              "      <td>1</td>\n",
              "      <td>1</td>\n",
              "      <td>1</td>\n",
              "      <td>0</td>\n",
              "      <td>0</td>\n",
              "      <td>2012</td>\n",
              "      <td>12</td>\n",
              "    </tr>\n",
              "    <tr>\n",
              "      <th>2</th>\n",
              "      <td>1</td>\n",
              "      <td>373.0</td>\n",
              "      <td>1</td>\n",
              "      <td>46</td>\n",
              "      <td>1</td>\n",
              "      <td>0</td>\n",
              "      <td>1</td>\n",
              "      <td>1</td>\n",
              "      <td>1</td>\n",
              "      <td>0</td>\n",
              "      <td>0</td>\n",
              "      <td>2012</td>\n",
              "      <td>12</td>\n",
              "    </tr>\n",
              "    <tr>\n",
              "      <th>3</th>\n",
              "      <td>0</td>\n",
              "      <td>329.0</td>\n",
              "      <td>0</td>\n",
              "      <td>46</td>\n",
              "      <td>1</td>\n",
              "      <td>0</td>\n",
              "      <td>1</td>\n",
              "      <td>1</td>\n",
              "      <td>1</td>\n",
              "      <td>0</td>\n",
              "      <td>0</td>\n",
              "      <td>2012</td>\n",
              "      <td>12</td>\n",
              "    </tr>\n",
              "    <tr>\n",
              "      <th>4</th>\n",
              "      <td>0</td>\n",
              "      <td>600.0</td>\n",
              "      <td>0</td>\n",
              "      <td>46</td>\n",
              "      <td>1</td>\n",
              "      <td>0</td>\n",
              "      <td>1</td>\n",
              "      <td>1</td>\n",
              "      <td>1</td>\n",
              "      <td>0</td>\n",
              "      <td>0</td>\n",
              "      <td>2012</td>\n",
              "      <td>12</td>\n",
              "    </tr>\n",
              "  </tbody>\n",
              "</table>\n",
              "</div>\n",
              "      <button class=\"colab-df-convert\" onclick=\"convertToInteractive('df-23771d12-378d-44a5-aa2b-fa058df82af4')\"\n",
              "              title=\"Convert this dataframe to an interactive table.\"\n",
              "              style=\"display:none;\">\n",
              "        \n",
              "  <svg xmlns=\"http://www.w3.org/2000/svg\" height=\"24px\"viewBox=\"0 0 24 24\"\n",
              "       width=\"24px\">\n",
              "    <path d=\"M0 0h24v24H0V0z\" fill=\"none\"/>\n",
              "    <path d=\"M18.56 5.44l.94 2.06.94-2.06 2.06-.94-2.06-.94-.94-2.06-.94 2.06-2.06.94zm-11 1L8.5 8.5l.94-2.06 2.06-.94-2.06-.94L8.5 2.5l-.94 2.06-2.06.94zm10 10l.94 2.06.94-2.06 2.06-.94-2.06-.94-.94-2.06-.94 2.06-2.06.94z\"/><path d=\"M17.41 7.96l-1.37-1.37c-.4-.4-.92-.59-1.43-.59-.52 0-1.04.2-1.43.59L10.3 9.45l-7.72 7.72c-.78.78-.78 2.05 0 2.83L4 21.41c.39.39.9.59 1.41.59.51 0 1.02-.2 1.41-.59l7.78-7.78 2.81-2.81c.8-.78.8-2.07 0-2.86zM5.41 20L4 18.59l7.72-7.72 1.47 1.35L5.41 20z\"/>\n",
              "  </svg>\n",
              "      </button>\n",
              "      \n",
              "  <style>\n",
              "    .colab-df-container {\n",
              "      display:flex;\n",
              "      flex-wrap:wrap;\n",
              "      gap: 12px;\n",
              "    }\n",
              "\n",
              "    .colab-df-convert {\n",
              "      background-color: #E8F0FE;\n",
              "      border: none;\n",
              "      border-radius: 50%;\n",
              "      cursor: pointer;\n",
              "      display: none;\n",
              "      fill: #1967D2;\n",
              "      height: 32px;\n",
              "      padding: 0 0 0 0;\n",
              "      width: 32px;\n",
              "    }\n",
              "\n",
              "    .colab-df-convert:hover {\n",
              "      background-color: #E2EBFA;\n",
              "      box-shadow: 0px 1px 2px rgba(60, 64, 67, 0.3), 0px 1px 3px 1px rgba(60, 64, 67, 0.15);\n",
              "      fill: #174EA6;\n",
              "    }\n",
              "\n",
              "    [theme=dark] .colab-df-convert {\n",
              "      background-color: #3B4455;\n",
              "      fill: #D2E3FC;\n",
              "    }\n",
              "\n",
              "    [theme=dark] .colab-df-convert:hover {\n",
              "      background-color: #434B5C;\n",
              "      box-shadow: 0px 1px 3px 1px rgba(0, 0, 0, 0.15);\n",
              "      filter: drop-shadow(0px 1px 2px rgba(0, 0, 0, 0.3));\n",
              "      fill: #FFFFFF;\n",
              "    }\n",
              "  </style>\n",
              "\n",
              "      <script>\n",
              "        const buttonEl =\n",
              "          document.querySelector('#df-23771d12-378d-44a5-aa2b-fa058df82af4 button.colab-df-convert');\n",
              "        buttonEl.style.display =\n",
              "          google.colab.kernel.accessAllowed ? 'block' : 'none';\n",
              "\n",
              "        async function convertToInteractive(key) {\n",
              "          const element = document.querySelector('#df-23771d12-378d-44a5-aa2b-fa058df82af4');\n",
              "          const dataTable =\n",
              "            await google.colab.kernel.invokeFunction('convertToInteractive',\n",
              "                                                     [key], {});\n",
              "          if (!dataTable) return;\n",
              "\n",
              "          const docLinkHtml = 'Like what you see? Visit the ' +\n",
              "            '<a target=\"_blank\" href=https://colab.research.google.com/notebooks/data_table.ipynb>data table notebook</a>'\n",
              "            + ' to learn more about interactive tables.';\n",
              "          element.innerHTML = '';\n",
              "          dataTable['output_type'] = 'display_data';\n",
              "          await google.colab.output.renderOutput(dataTable, element);\n",
              "          const docLink = document.createElement('div');\n",
              "          docLink.innerHTML = docLinkHtml;\n",
              "          element.appendChild(docLink);\n",
              "        }\n",
              "      </script>\n",
              "    </div>\n",
              "  </div>\n",
              "  "
            ]
          },
          "metadata": {},
          "execution_count": 13
        }
      ]
    },
    {
      "cell_type": "code",
      "source": [
        "# To know more about the datase\n",
        "df.info()"
      ],
      "metadata": {
        "colab": {
          "base_uri": "https://localhost:8080/"
        },
        "id": "DZ7RyUy8Kiev",
        "outputId": "9332a7fb-21bd-4b8d-8a7c-e1459730953d"
      },
      "execution_count": 14,
      "outputs": [
        {
          "output_type": "stream",
          "name": "stdout",
          "text": [
            "<class 'pandas.core.frame.DataFrame'>\n",
            "RangeIndex: 100000 entries, 0 to 99999\n",
            "Data columns (total 13 columns):\n",
            " #   Column            Non-Null Count   Dtype  \n",
            "---  ------            --------------   -----  \n",
            " 0   is_brand          100000 non-null  int64  \n",
            " 1   price_usd         100000 non-null  float64\n",
            " 2   has_promotion     100000 non-null  int64  \n",
            " 3   booking_window    100000 non-null  int64  \n",
            " 4   num_adults        100000 non-null  int64  \n",
            " 5   num_kids          100000 non-null  int64  \n",
            " 6   num_rooms         100000 non-null  int64  \n",
            " 7   stay_on_saturday  100000 non-null  int64  \n",
            " 8   random_sort       100000 non-null  int64  \n",
            " 9   clicked           100000 non-null  int64  \n",
            " 10  booked            100000 non-null  int64  \n",
            " 11  year              100000 non-null  int64  \n",
            " 12  month             100000 non-null  int64  \n",
            "dtypes: float64(1), int64(12)\n",
            "memory usage: 9.9 MB\n"
          ]
        }
      ]
    },
    {
      "cell_type": "code",
      "source": [
        "# To understand some statistical measurements\n",
        "df.describe()"
      ],
      "metadata": {
        "colab": {
          "base_uri": "https://localhost:8080/",
          "height": 364
        },
        "id": "yzoo2zKrLDTv",
        "outputId": "bf948b4d-277c-471e-dd2f-5d06778e208c"
      },
      "execution_count": 15,
      "outputs": [
        {
          "output_type": "execute_result",
          "data": {
            "text/plain": [
              "            is_brand      price_usd  has_promotion  booking_window  \\\n",
              "count  100000.000000  100000.000000  100000.000000   100000.000000   \n",
              "mean        0.642680     199.174000       0.215000       36.827360   \n",
              "std         0.479213    2039.638371       0.410824       50.644796   \n",
              "min         0.000000       0.690000       0.000000        0.000000   \n",
              "25%         0.000000      85.340000       0.000000        4.000000   \n",
              "50%         1.000000     123.000000       0.000000       17.000000   \n",
              "75%         1.000000     186.000000       0.000000       47.000000   \n",
              "max         1.000000  258254.510000       1.000000      364.000000   \n",
              "\n",
              "         num_adults       num_kids     num_rooms  stay_on_saturday  \\\n",
              "count  100000.00000  100000.000000  100000.00000     100000.000000   \n",
              "mean        1.95104       0.346130       1.10449          0.502210   \n",
              "std         0.84550       0.709344       0.39874          0.499998   \n",
              "min         1.00000       0.000000       1.00000          0.000000   \n",
              "25%         2.00000       0.000000       1.00000          0.000000   \n",
              "50%         2.00000       0.000000       1.00000          1.000000   \n",
              "75%         2.00000       0.000000       1.00000          1.000000   \n",
              "max         9.00000       6.000000       8.00000          1.000000   \n",
              "\n",
              "         random_sort        clicked         booked           year  \\\n",
              "count  100000.000000  100000.000000  100000.000000  100000.000000   \n",
              "mean        0.299260       0.045320       0.027610    2012.799190   \n",
              "std         0.457936       0.208006       0.163853       0.400608   \n",
              "min         0.000000       0.000000       0.000000    2012.000000   \n",
              "25%         0.000000       0.000000       0.000000    2013.000000   \n",
              "50%         0.000000       0.000000       0.000000    2013.000000   \n",
              "75%         1.000000       0.000000       0.000000    2013.000000   \n",
              "max         1.000000       1.000000       1.000000    2013.000000   \n",
              "\n",
              "               month  \n",
              "count  100000.000000  \n",
              "mean        5.172110  \n",
              "std         3.516324  \n",
              "min         1.000000  \n",
              "25%         3.000000  \n",
              "50%         4.000000  \n",
              "75%         6.000000  \n",
              "max        12.000000  "
            ],
            "text/html": [
              "\n",
              "  <div id=\"df-dc298493-81fb-417f-866f-2f8b5bdda255\">\n",
              "    <div class=\"colab-df-container\">\n",
              "      <div>\n",
              "<style scoped>\n",
              "    .dataframe tbody tr th:only-of-type {\n",
              "        vertical-align: middle;\n",
              "    }\n",
              "\n",
              "    .dataframe tbody tr th {\n",
              "        vertical-align: top;\n",
              "    }\n",
              "\n",
              "    .dataframe thead th {\n",
              "        text-align: right;\n",
              "    }\n",
              "</style>\n",
              "<table border=\"1\" class=\"dataframe\">\n",
              "  <thead>\n",
              "    <tr style=\"text-align: right;\">\n",
              "      <th></th>\n",
              "      <th>is_brand</th>\n",
              "      <th>price_usd</th>\n",
              "      <th>has_promotion</th>\n",
              "      <th>booking_window</th>\n",
              "      <th>num_adults</th>\n",
              "      <th>num_kids</th>\n",
              "      <th>num_rooms</th>\n",
              "      <th>stay_on_saturday</th>\n",
              "      <th>random_sort</th>\n",
              "      <th>clicked</th>\n",
              "      <th>booked</th>\n",
              "      <th>year</th>\n",
              "      <th>month</th>\n",
              "    </tr>\n",
              "  </thead>\n",
              "  <tbody>\n",
              "    <tr>\n",
              "      <th>count</th>\n",
              "      <td>100000.000000</td>\n",
              "      <td>100000.000000</td>\n",
              "      <td>100000.000000</td>\n",
              "      <td>100000.000000</td>\n",
              "      <td>100000.00000</td>\n",
              "      <td>100000.000000</td>\n",
              "      <td>100000.00000</td>\n",
              "      <td>100000.000000</td>\n",
              "      <td>100000.000000</td>\n",
              "      <td>100000.000000</td>\n",
              "      <td>100000.000000</td>\n",
              "      <td>100000.000000</td>\n",
              "      <td>100000.000000</td>\n",
              "    </tr>\n",
              "    <tr>\n",
              "      <th>mean</th>\n",
              "      <td>0.642680</td>\n",
              "      <td>199.174000</td>\n",
              "      <td>0.215000</td>\n",
              "      <td>36.827360</td>\n",
              "      <td>1.95104</td>\n",
              "      <td>0.346130</td>\n",
              "      <td>1.10449</td>\n",
              "      <td>0.502210</td>\n",
              "      <td>0.299260</td>\n",
              "      <td>0.045320</td>\n",
              "      <td>0.027610</td>\n",
              "      <td>2012.799190</td>\n",
              "      <td>5.172110</td>\n",
              "    </tr>\n",
              "    <tr>\n",
              "      <th>std</th>\n",
              "      <td>0.479213</td>\n",
              "      <td>2039.638371</td>\n",
              "      <td>0.410824</td>\n",
              "      <td>50.644796</td>\n",
              "      <td>0.84550</td>\n",
              "      <td>0.709344</td>\n",
              "      <td>0.39874</td>\n",
              "      <td>0.499998</td>\n",
              "      <td>0.457936</td>\n",
              "      <td>0.208006</td>\n",
              "      <td>0.163853</td>\n",
              "      <td>0.400608</td>\n",
              "      <td>3.516324</td>\n",
              "    </tr>\n",
              "    <tr>\n",
              "      <th>min</th>\n",
              "      <td>0.000000</td>\n",
              "      <td>0.690000</td>\n",
              "      <td>0.000000</td>\n",
              "      <td>0.000000</td>\n",
              "      <td>1.00000</td>\n",
              "      <td>0.000000</td>\n",
              "      <td>1.00000</td>\n",
              "      <td>0.000000</td>\n",
              "      <td>0.000000</td>\n",
              "      <td>0.000000</td>\n",
              "      <td>0.000000</td>\n",
              "      <td>2012.000000</td>\n",
              "      <td>1.000000</td>\n",
              "    </tr>\n",
              "    <tr>\n",
              "      <th>25%</th>\n",
              "      <td>0.000000</td>\n",
              "      <td>85.340000</td>\n",
              "      <td>0.000000</td>\n",
              "      <td>4.000000</td>\n",
              "      <td>2.00000</td>\n",
              "      <td>0.000000</td>\n",
              "      <td>1.00000</td>\n",
              "      <td>0.000000</td>\n",
              "      <td>0.000000</td>\n",
              "      <td>0.000000</td>\n",
              "      <td>0.000000</td>\n",
              "      <td>2013.000000</td>\n",
              "      <td>3.000000</td>\n",
              "    </tr>\n",
              "    <tr>\n",
              "      <th>50%</th>\n",
              "      <td>1.000000</td>\n",
              "      <td>123.000000</td>\n",
              "      <td>0.000000</td>\n",
              "      <td>17.000000</td>\n",
              "      <td>2.00000</td>\n",
              "      <td>0.000000</td>\n",
              "      <td>1.00000</td>\n",
              "      <td>1.000000</td>\n",
              "      <td>0.000000</td>\n",
              "      <td>0.000000</td>\n",
              "      <td>0.000000</td>\n",
              "      <td>2013.000000</td>\n",
              "      <td>4.000000</td>\n",
              "    </tr>\n",
              "    <tr>\n",
              "      <th>75%</th>\n",
              "      <td>1.000000</td>\n",
              "      <td>186.000000</td>\n",
              "      <td>0.000000</td>\n",
              "      <td>47.000000</td>\n",
              "      <td>2.00000</td>\n",
              "      <td>0.000000</td>\n",
              "      <td>1.00000</td>\n",
              "      <td>1.000000</td>\n",
              "      <td>1.000000</td>\n",
              "      <td>0.000000</td>\n",
              "      <td>0.000000</td>\n",
              "      <td>2013.000000</td>\n",
              "      <td>6.000000</td>\n",
              "    </tr>\n",
              "    <tr>\n",
              "      <th>max</th>\n",
              "      <td>1.000000</td>\n",
              "      <td>258254.510000</td>\n",
              "      <td>1.000000</td>\n",
              "      <td>364.000000</td>\n",
              "      <td>9.00000</td>\n",
              "      <td>6.000000</td>\n",
              "      <td>8.00000</td>\n",
              "      <td>1.000000</td>\n",
              "      <td>1.000000</td>\n",
              "      <td>1.000000</td>\n",
              "      <td>1.000000</td>\n",
              "      <td>2013.000000</td>\n",
              "      <td>12.000000</td>\n",
              "    </tr>\n",
              "  </tbody>\n",
              "</table>\n",
              "</div>\n",
              "      <button class=\"colab-df-convert\" onclick=\"convertToInteractive('df-dc298493-81fb-417f-866f-2f8b5bdda255')\"\n",
              "              title=\"Convert this dataframe to an interactive table.\"\n",
              "              style=\"display:none;\">\n",
              "        \n",
              "  <svg xmlns=\"http://www.w3.org/2000/svg\" height=\"24px\"viewBox=\"0 0 24 24\"\n",
              "       width=\"24px\">\n",
              "    <path d=\"M0 0h24v24H0V0z\" fill=\"none\"/>\n",
              "    <path d=\"M18.56 5.44l.94 2.06.94-2.06 2.06-.94-2.06-.94-.94-2.06-.94 2.06-2.06.94zm-11 1L8.5 8.5l.94-2.06 2.06-.94-2.06-.94L8.5 2.5l-.94 2.06-2.06.94zm10 10l.94 2.06.94-2.06 2.06-.94-2.06-.94-.94-2.06-.94 2.06-2.06.94z\"/><path d=\"M17.41 7.96l-1.37-1.37c-.4-.4-.92-.59-1.43-.59-.52 0-1.04.2-1.43.59L10.3 9.45l-7.72 7.72c-.78.78-.78 2.05 0 2.83L4 21.41c.39.39.9.59 1.41.59.51 0 1.02-.2 1.41-.59l7.78-7.78 2.81-2.81c.8-.78.8-2.07 0-2.86zM5.41 20L4 18.59l7.72-7.72 1.47 1.35L5.41 20z\"/>\n",
              "  </svg>\n",
              "      </button>\n",
              "      \n",
              "  <style>\n",
              "    .colab-df-container {\n",
              "      display:flex;\n",
              "      flex-wrap:wrap;\n",
              "      gap: 12px;\n",
              "    }\n",
              "\n",
              "    .colab-df-convert {\n",
              "      background-color: #E8F0FE;\n",
              "      border: none;\n",
              "      border-radius: 50%;\n",
              "      cursor: pointer;\n",
              "      display: none;\n",
              "      fill: #1967D2;\n",
              "      height: 32px;\n",
              "      padding: 0 0 0 0;\n",
              "      width: 32px;\n",
              "    }\n",
              "\n",
              "    .colab-df-convert:hover {\n",
              "      background-color: #E2EBFA;\n",
              "      box-shadow: 0px 1px 2px rgba(60, 64, 67, 0.3), 0px 1px 3px 1px rgba(60, 64, 67, 0.15);\n",
              "      fill: #174EA6;\n",
              "    }\n",
              "\n",
              "    [theme=dark] .colab-df-convert {\n",
              "      background-color: #3B4455;\n",
              "      fill: #D2E3FC;\n",
              "    }\n",
              "\n",
              "    [theme=dark] .colab-df-convert:hover {\n",
              "      background-color: #434B5C;\n",
              "      box-shadow: 0px 1px 3px 1px rgba(0, 0, 0, 0.15);\n",
              "      filter: drop-shadow(0px 1px 2px rgba(0, 0, 0, 0.3));\n",
              "      fill: #FFFFFF;\n",
              "    }\n",
              "  </style>\n",
              "\n",
              "      <script>\n",
              "        const buttonEl =\n",
              "          document.querySelector('#df-dc298493-81fb-417f-866f-2f8b5bdda255 button.colab-df-convert');\n",
              "        buttonEl.style.display =\n",
              "          google.colab.kernel.accessAllowed ? 'block' : 'none';\n",
              "\n",
              "        async function convertToInteractive(key) {\n",
              "          const element = document.querySelector('#df-dc298493-81fb-417f-866f-2f8b5bdda255');\n",
              "          const dataTable =\n",
              "            await google.colab.kernel.invokeFunction('convertToInteractive',\n",
              "                                                     [key], {});\n",
              "          if (!dataTable) return;\n",
              "\n",
              "          const docLinkHtml = 'Like what you see? Visit the ' +\n",
              "            '<a target=\"_blank\" href=https://colab.research.google.com/notebooks/data_table.ipynb>data table notebook</a>'\n",
              "            + ' to learn more about interactive tables.';\n",
              "          element.innerHTML = '';\n",
              "          dataTable['output_type'] = 'display_data';\n",
              "          await google.colab.output.renderOutput(dataTable, element);\n",
              "          const docLink = document.createElement('div');\n",
              "          docLink.innerHTML = docLinkHtml;\n",
              "          element.appendChild(docLink);\n",
              "        }\n",
              "      </script>\n",
              "    </div>\n",
              "  </div>\n",
              "  "
            ]
          },
          "metadata": {},
          "execution_count": 15
        }
      ]
    },
    {
      "cell_type": "code",
      "source": [
        "#checking the null values\n",
        "df.isnull().sum()"
      ],
      "metadata": {
        "colab": {
          "base_uri": "https://localhost:8080/"
        },
        "id": "B1kFwCLBxI0e",
        "outputId": "5b19e888-4823-4ca3-e9d0-d1196978fd41"
      },
      "execution_count": 16,
      "outputs": [
        {
          "output_type": "execute_result",
          "data": {
            "text/plain": [
              "is_brand            0\n",
              "price_usd           0\n",
              "has_promotion       0\n",
              "booking_window      0\n",
              "num_adults          0\n",
              "num_kids            0\n",
              "num_rooms           0\n",
              "stay_on_saturday    0\n",
              "random_sort         0\n",
              "clicked             0\n",
              "booked              0\n",
              "year                0\n",
              "month               0\n",
              "dtype: int64"
            ]
          },
          "metadata": {},
          "execution_count": 16
        }
      ]
    },
    {
      "cell_type": "code",
      "source": [
        "X = df.drop('booked',axis=1)\n",
        "Y = df['booked']\n"
      ],
      "metadata": {
        "id": "bzJKfOhvH0aN"
      },
      "execution_count": 17,
      "outputs": []
    },
    {
      "cell_type": "markdown",
      "source": [
        "Feature Selection"
      ],
      "metadata": {
        "id": "oddgIC40-LdQ"
      }
    },
    {
      "cell_type": "code",
      "source": [
        "BestFeatures = SelectKBest(score_func=chi2, k=5)\n",
        "fit = BestFeatures.fit(X,Y)"
      ],
      "metadata": {
        "id": "g1CbREXwH8AE"
      },
      "execution_count": 18,
      "outputs": []
    },
    {
      "cell_type": "code",
      "source": [
        "df_scores = pd.DataFrame(fit.scores_)\n",
        "df_columns = pd.DataFrame(X.columns)\n",
        "\n",
        "#concatenating two dataframes \n",
        "\n",
        "f_Scores = pd.concat([df_columns,df_scores],axis=1)               \n",
        "f_Scores.columns = ['Specs','Score'] \n",
        "f_Scores"
      ],
      "metadata": {
        "id": "UExnCf7DKTLb",
        "colab": {
          "base_uri": "https://localhost:8080/",
          "height": 426
        },
        "outputId": "f3d28bea-133d-4017-93a1-751d0f3824a7"
      },
      "execution_count": 19,
      "outputs": [
        {
          "output_type": "execute_result",
          "data": {
            "text/plain": [
              "               Specs         Score\n",
              "0           is_brand      1.256417\n",
              "1          price_usd   7860.272721\n",
              "2      has_promotion     81.116453\n",
              "3     booking_window   2906.234413\n",
              "4         num_adults      0.158584\n",
              "5           num_kids      1.664998\n",
              "6          num_rooms      1.821976\n",
              "7   stay_on_saturday      0.877564\n",
              "8        random_sort    559.148254\n",
              "9            clicked  57102.046110\n",
              "10              year      0.000017\n",
              "11             month      2.513038"
            ],
            "text/html": [
              "\n",
              "  <div id=\"df-56ba3723-aefa-4015-be9f-a1e0ccfb11b4\">\n",
              "    <div class=\"colab-df-container\">\n",
              "      <div>\n",
              "<style scoped>\n",
              "    .dataframe tbody tr th:only-of-type {\n",
              "        vertical-align: middle;\n",
              "    }\n",
              "\n",
              "    .dataframe tbody tr th {\n",
              "        vertical-align: top;\n",
              "    }\n",
              "\n",
              "    .dataframe thead th {\n",
              "        text-align: right;\n",
              "    }\n",
              "</style>\n",
              "<table border=\"1\" class=\"dataframe\">\n",
              "  <thead>\n",
              "    <tr style=\"text-align: right;\">\n",
              "      <th></th>\n",
              "      <th>Specs</th>\n",
              "      <th>Score</th>\n",
              "    </tr>\n",
              "  </thead>\n",
              "  <tbody>\n",
              "    <tr>\n",
              "      <th>0</th>\n",
              "      <td>is_brand</td>\n",
              "      <td>1.256417</td>\n",
              "    </tr>\n",
              "    <tr>\n",
              "      <th>1</th>\n",
              "      <td>price_usd</td>\n",
              "      <td>7860.272721</td>\n",
              "    </tr>\n",
              "    <tr>\n",
              "      <th>2</th>\n",
              "      <td>has_promotion</td>\n",
              "      <td>81.116453</td>\n",
              "    </tr>\n",
              "    <tr>\n",
              "      <th>3</th>\n",
              "      <td>booking_window</td>\n",
              "      <td>2906.234413</td>\n",
              "    </tr>\n",
              "    <tr>\n",
              "      <th>4</th>\n",
              "      <td>num_adults</td>\n",
              "      <td>0.158584</td>\n",
              "    </tr>\n",
              "    <tr>\n",
              "      <th>5</th>\n",
              "      <td>num_kids</td>\n",
              "      <td>1.664998</td>\n",
              "    </tr>\n",
              "    <tr>\n",
              "      <th>6</th>\n",
              "      <td>num_rooms</td>\n",
              "      <td>1.821976</td>\n",
              "    </tr>\n",
              "    <tr>\n",
              "      <th>7</th>\n",
              "      <td>stay_on_saturday</td>\n",
              "      <td>0.877564</td>\n",
              "    </tr>\n",
              "    <tr>\n",
              "      <th>8</th>\n",
              "      <td>random_sort</td>\n",
              "      <td>559.148254</td>\n",
              "    </tr>\n",
              "    <tr>\n",
              "      <th>9</th>\n",
              "      <td>clicked</td>\n",
              "      <td>57102.046110</td>\n",
              "    </tr>\n",
              "    <tr>\n",
              "      <th>10</th>\n",
              "      <td>year</td>\n",
              "      <td>0.000017</td>\n",
              "    </tr>\n",
              "    <tr>\n",
              "      <th>11</th>\n",
              "      <td>month</td>\n",
              "      <td>2.513038</td>\n",
              "    </tr>\n",
              "  </tbody>\n",
              "</table>\n",
              "</div>\n",
              "      <button class=\"colab-df-convert\" onclick=\"convertToInteractive('df-56ba3723-aefa-4015-be9f-a1e0ccfb11b4')\"\n",
              "              title=\"Convert this dataframe to an interactive table.\"\n",
              "              style=\"display:none;\">\n",
              "        \n",
              "  <svg xmlns=\"http://www.w3.org/2000/svg\" height=\"24px\"viewBox=\"0 0 24 24\"\n",
              "       width=\"24px\">\n",
              "    <path d=\"M0 0h24v24H0V0z\" fill=\"none\"/>\n",
              "    <path d=\"M18.56 5.44l.94 2.06.94-2.06 2.06-.94-2.06-.94-.94-2.06-.94 2.06-2.06.94zm-11 1L8.5 8.5l.94-2.06 2.06-.94-2.06-.94L8.5 2.5l-.94 2.06-2.06.94zm10 10l.94 2.06.94-2.06 2.06-.94-2.06-.94-.94-2.06-.94 2.06-2.06.94z\"/><path d=\"M17.41 7.96l-1.37-1.37c-.4-.4-.92-.59-1.43-.59-.52 0-1.04.2-1.43.59L10.3 9.45l-7.72 7.72c-.78.78-.78 2.05 0 2.83L4 21.41c.39.39.9.59 1.41.59.51 0 1.02-.2 1.41-.59l7.78-7.78 2.81-2.81c.8-.78.8-2.07 0-2.86zM5.41 20L4 18.59l7.72-7.72 1.47 1.35L5.41 20z\"/>\n",
              "  </svg>\n",
              "      </button>\n",
              "      \n",
              "  <style>\n",
              "    .colab-df-container {\n",
              "      display:flex;\n",
              "      flex-wrap:wrap;\n",
              "      gap: 12px;\n",
              "    }\n",
              "\n",
              "    .colab-df-convert {\n",
              "      background-color: #E8F0FE;\n",
              "      border: none;\n",
              "      border-radius: 50%;\n",
              "      cursor: pointer;\n",
              "      display: none;\n",
              "      fill: #1967D2;\n",
              "      height: 32px;\n",
              "      padding: 0 0 0 0;\n",
              "      width: 32px;\n",
              "    }\n",
              "\n",
              "    .colab-df-convert:hover {\n",
              "      background-color: #E2EBFA;\n",
              "      box-shadow: 0px 1px 2px rgba(60, 64, 67, 0.3), 0px 1px 3px 1px rgba(60, 64, 67, 0.15);\n",
              "      fill: #174EA6;\n",
              "    }\n",
              "\n",
              "    [theme=dark] .colab-df-convert {\n",
              "      background-color: #3B4455;\n",
              "      fill: #D2E3FC;\n",
              "    }\n",
              "\n",
              "    [theme=dark] .colab-df-convert:hover {\n",
              "      background-color: #434B5C;\n",
              "      box-shadow: 0px 1px 3px 1px rgba(0, 0, 0, 0.15);\n",
              "      filter: drop-shadow(0px 1px 2px rgba(0, 0, 0, 0.3));\n",
              "      fill: #FFFFFF;\n",
              "    }\n",
              "  </style>\n",
              "\n",
              "      <script>\n",
              "        const buttonEl =\n",
              "          document.querySelector('#df-56ba3723-aefa-4015-be9f-a1e0ccfb11b4 button.colab-df-convert');\n",
              "        buttonEl.style.display =\n",
              "          google.colab.kernel.accessAllowed ? 'block' : 'none';\n",
              "\n",
              "        async function convertToInteractive(key) {\n",
              "          const element = document.querySelector('#df-56ba3723-aefa-4015-be9f-a1e0ccfb11b4');\n",
              "          const dataTable =\n",
              "            await google.colab.kernel.invokeFunction('convertToInteractive',\n",
              "                                                     [key], {});\n",
              "          if (!dataTable) return;\n",
              "\n",
              "          const docLinkHtml = 'Like what you see? Visit the ' +\n",
              "            '<a target=\"_blank\" href=https://colab.research.google.com/notebooks/data_table.ipynb>data table notebook</a>'\n",
              "            + ' to learn more about interactive tables.';\n",
              "          element.innerHTML = '';\n",
              "          dataTable['output_type'] = 'display_data';\n",
              "          await google.colab.output.renderOutput(dataTable, element);\n",
              "          const docLink = document.createElement('div');\n",
              "          docLink.innerHTML = docLinkHtml;\n",
              "          element.appendChild(docLink);\n",
              "        }\n",
              "      </script>\n",
              "    </div>\n",
              "  </div>\n",
              "  "
            ]
          },
          "metadata": {},
          "execution_count": 19
        }
      ]
    },
    {
      "cell_type": "code",
      "source": [
        "# print 10 best features in descending order\n",
        "print(f_Scores.nlargest(6,'Score'))"
      ],
      "metadata": {
        "colab": {
          "base_uri": "https://localhost:8080/"
        },
        "id": "0SS4h0U6u0p1",
        "outputId": "fbb98ebd-3231-410b-9f1e-6ab2f8a94a2f"
      },
      "execution_count": 20,
      "outputs": [
        {
          "output_type": "stream",
          "name": "stdout",
          "text": [
            "             Specs         Score\n",
            "9          clicked  57102.046110\n",
            "1        price_usd   7860.272721\n",
            "3   booking_window   2906.234413\n",
            "8      random_sort    559.148254\n",
            "2    has_promotion     81.116453\n",
            "11           month      2.513038\n"
          ]
        }
      ]
    },
    {
      "cell_type": "code",
      "source": [
        "#checking the skewness\n",
        "df.skew()"
      ],
      "metadata": {
        "colab": {
          "base_uri": "https://localhost:8080/"
        },
        "id": "71Ey612g6JCQ",
        "outputId": "b0f24878-1248-4414-c1da-97b3bac56758"
      },
      "execution_count": 21,
      "outputs": [
        {
          "output_type": "execute_result",
          "data": {
            "text/plain": [
              "is_brand            -0.595489\n",
              "price_usd           72.153486\n",
              "has_promotion        1.387482\n",
              "booking_window       2.347770\n",
              "num_adults           2.339620\n",
              "num_kids             2.335835\n",
              "num_rooms            6.258685\n",
              "stay_on_saturday    -0.008840\n",
              "random_sort          0.876734\n",
              "clicked              4.371883\n",
              "booked               5.766121\n",
              "year                -1.493709\n",
              "month                0.852843\n",
              "dtype: float64"
            ]
          },
          "metadata": {},
          "execution_count": 21
        }
      ]
    },
    {
      "cell_type": "code",
      "source": [
        "df['booked'].value_counts()"
      ],
      "metadata": {
        "colab": {
          "base_uri": "https://localhost:8080/"
        },
        "id": "5ksfE9p0vQJz",
        "outputId": "9bdd8851-9b85-46e0-9f1b-c39154ea968a"
      },
      "execution_count": 22,
      "outputs": [
        {
          "output_type": "execute_result",
          "data": {
            "text/plain": [
              "0    97239\n",
              "1     2761\n",
              "Name: booked, dtype: int64"
            ]
          },
          "metadata": {},
          "execution_count": 22
        }
      ]
    },
    {
      "cell_type": "code",
      "source": [
        "#checking the correlation \n",
        "df.corr()"
      ],
      "metadata": {
        "colab": {
          "base_uri": "https://localhost:8080/",
          "height": 521
        },
        "id": "yeKtexsb0VNM",
        "outputId": "c00848e2-dbba-4159-81fe-0231d8372a1e"
      },
      "execution_count": 23,
      "outputs": [
        {
          "output_type": "execute_result",
          "data": {
            "text/plain": [
              "                  is_brand  price_usd  has_promotion  booking_window  \\\n",
              "is_brand          1.000000  -0.006623      -0.101926       -0.098115   \n",
              "price_usd        -0.006623   1.000000       0.025047       -0.005148   \n",
              "has_promotion    -0.101926   0.025047       1.000000        0.026435   \n",
              "booking_window   -0.098115  -0.005148       0.026435        1.000000   \n",
              "num_adults        0.016205  -0.012062       0.015507        0.119342   \n",
              "num_kids          0.017796   0.016953       0.003164        0.056369   \n",
              "num_rooms         0.016257   0.041693       0.016816        0.048783   \n",
              "stay_on_saturday  0.079756  -0.017207      -0.048319       -0.090619   \n",
              "random_sort      -0.033805  -0.006032      -0.028762        0.146233   \n",
              "clicked          -0.004276  -0.003049       0.037052       -0.000740   \n",
              "booked            0.005930  -0.001940       0.032145       -0.020428   \n",
              "year             -0.007675   0.008430      -0.010304        0.039359   \n",
              "month             0.017203  -0.006723       0.004836       -0.075062   \n",
              "\n",
              "                  num_adults  num_kids  num_rooms  stay_on_saturday  \\\n",
              "is_brand            0.016205  0.017796   0.016257          0.079756   \n",
              "price_usd          -0.012062  0.016953   0.041693         -0.017207   \n",
              "has_promotion       0.015507  0.003164   0.016816         -0.048319   \n",
              "booking_window      0.119342  0.056369   0.048783         -0.090619   \n",
              "num_adults          1.000000  0.053967   0.414100          0.089293   \n",
              "num_kids            0.053967  1.000000   0.109612          0.000677   \n",
              "num_rooms           0.414100  0.109612   1.000000         -0.006801   \n",
              "stay_on_saturday    0.089293  0.000677  -0.006801          1.000000   \n",
              "random_sort         0.049000  0.006610  -0.004653         -0.013283   \n",
              "clicked             0.006760  0.004293   0.010785         -0.000194   \n",
              "booked             -0.002080  0.003384   0.011250          0.004199   \n",
              "year                0.050805  0.057594   0.024181          0.005885   \n",
              "month              -0.037027 -0.043649  -0.014474         -0.012613   \n",
              "\n",
              "                  random_sort   clicked    booked      year     month  \n",
              "is_brand            -0.033805 -0.004276  0.005930 -0.007675  0.017203  \n",
              "price_usd           -0.006032 -0.003049 -0.001940  0.008430 -0.006723  \n",
              "has_promotion       -0.028762  0.037052  0.032145 -0.010304  0.004836  \n",
              "booking_window       0.146233 -0.000740 -0.020428  0.039359 -0.075062  \n",
              "num_adults           0.049000  0.006760 -0.002080  0.050805 -0.037027  \n",
              "num_kids             0.006610  0.004293  0.003384  0.057594 -0.043649  \n",
              "num_rooms           -0.004653  0.010785  0.011250  0.024181 -0.014474  \n",
              "stay_on_saturday    -0.013283 -0.000194  0.004199  0.005885 -0.012613  \n",
              "random_sort          1.000000  0.005118 -0.089327 -0.005918  0.001766  \n",
              "clicked              0.005118  1.000000  0.773387  0.002289 -0.002844  \n",
              "booked              -0.089327  0.773387  1.000000 -0.001457  0.003242  \n",
              "year                -0.005918  0.002289 -0.001457  1.000000 -0.899986  \n",
              "month                0.001766 -0.002844  0.003242 -0.899986  1.000000  "
            ],
            "text/html": [
              "\n",
              "  <div id=\"df-b12df62c-6906-4871-99d8-cccd8a4f190e\">\n",
              "    <div class=\"colab-df-container\">\n",
              "      <div>\n",
              "<style scoped>\n",
              "    .dataframe tbody tr th:only-of-type {\n",
              "        vertical-align: middle;\n",
              "    }\n",
              "\n",
              "    .dataframe tbody tr th {\n",
              "        vertical-align: top;\n",
              "    }\n",
              "\n",
              "    .dataframe thead th {\n",
              "        text-align: right;\n",
              "    }\n",
              "</style>\n",
              "<table border=\"1\" class=\"dataframe\">\n",
              "  <thead>\n",
              "    <tr style=\"text-align: right;\">\n",
              "      <th></th>\n",
              "      <th>is_brand</th>\n",
              "      <th>price_usd</th>\n",
              "      <th>has_promotion</th>\n",
              "      <th>booking_window</th>\n",
              "      <th>num_adults</th>\n",
              "      <th>num_kids</th>\n",
              "      <th>num_rooms</th>\n",
              "      <th>stay_on_saturday</th>\n",
              "      <th>random_sort</th>\n",
              "      <th>clicked</th>\n",
              "      <th>booked</th>\n",
              "      <th>year</th>\n",
              "      <th>month</th>\n",
              "    </tr>\n",
              "  </thead>\n",
              "  <tbody>\n",
              "    <tr>\n",
              "      <th>is_brand</th>\n",
              "      <td>1.000000</td>\n",
              "      <td>-0.006623</td>\n",
              "      <td>-0.101926</td>\n",
              "      <td>-0.098115</td>\n",
              "      <td>0.016205</td>\n",
              "      <td>0.017796</td>\n",
              "      <td>0.016257</td>\n",
              "      <td>0.079756</td>\n",
              "      <td>-0.033805</td>\n",
              "      <td>-0.004276</td>\n",
              "      <td>0.005930</td>\n",
              "      <td>-0.007675</td>\n",
              "      <td>0.017203</td>\n",
              "    </tr>\n",
              "    <tr>\n",
              "      <th>price_usd</th>\n",
              "      <td>-0.006623</td>\n",
              "      <td>1.000000</td>\n",
              "      <td>0.025047</td>\n",
              "      <td>-0.005148</td>\n",
              "      <td>-0.012062</td>\n",
              "      <td>0.016953</td>\n",
              "      <td>0.041693</td>\n",
              "      <td>-0.017207</td>\n",
              "      <td>-0.006032</td>\n",
              "      <td>-0.003049</td>\n",
              "      <td>-0.001940</td>\n",
              "      <td>0.008430</td>\n",
              "      <td>-0.006723</td>\n",
              "    </tr>\n",
              "    <tr>\n",
              "      <th>has_promotion</th>\n",
              "      <td>-0.101926</td>\n",
              "      <td>0.025047</td>\n",
              "      <td>1.000000</td>\n",
              "      <td>0.026435</td>\n",
              "      <td>0.015507</td>\n",
              "      <td>0.003164</td>\n",
              "      <td>0.016816</td>\n",
              "      <td>-0.048319</td>\n",
              "      <td>-0.028762</td>\n",
              "      <td>0.037052</td>\n",
              "      <td>0.032145</td>\n",
              "      <td>-0.010304</td>\n",
              "      <td>0.004836</td>\n",
              "    </tr>\n",
              "    <tr>\n",
              "      <th>booking_window</th>\n",
              "      <td>-0.098115</td>\n",
              "      <td>-0.005148</td>\n",
              "      <td>0.026435</td>\n",
              "      <td>1.000000</td>\n",
              "      <td>0.119342</td>\n",
              "      <td>0.056369</td>\n",
              "      <td>0.048783</td>\n",
              "      <td>-0.090619</td>\n",
              "      <td>0.146233</td>\n",
              "      <td>-0.000740</td>\n",
              "      <td>-0.020428</td>\n",
              "      <td>0.039359</td>\n",
              "      <td>-0.075062</td>\n",
              "    </tr>\n",
              "    <tr>\n",
              "      <th>num_adults</th>\n",
              "      <td>0.016205</td>\n",
              "      <td>-0.012062</td>\n",
              "      <td>0.015507</td>\n",
              "      <td>0.119342</td>\n",
              "      <td>1.000000</td>\n",
              "      <td>0.053967</td>\n",
              "      <td>0.414100</td>\n",
              "      <td>0.089293</td>\n",
              "      <td>0.049000</td>\n",
              "      <td>0.006760</td>\n",
              "      <td>-0.002080</td>\n",
              "      <td>0.050805</td>\n",
              "      <td>-0.037027</td>\n",
              "    </tr>\n",
              "    <tr>\n",
              "      <th>num_kids</th>\n",
              "      <td>0.017796</td>\n",
              "      <td>0.016953</td>\n",
              "      <td>0.003164</td>\n",
              "      <td>0.056369</td>\n",
              "      <td>0.053967</td>\n",
              "      <td>1.000000</td>\n",
              "      <td>0.109612</td>\n",
              "      <td>0.000677</td>\n",
              "      <td>0.006610</td>\n",
              "      <td>0.004293</td>\n",
              "      <td>0.003384</td>\n",
              "      <td>0.057594</td>\n",
              "      <td>-0.043649</td>\n",
              "    </tr>\n",
              "    <tr>\n",
              "      <th>num_rooms</th>\n",
              "      <td>0.016257</td>\n",
              "      <td>0.041693</td>\n",
              "      <td>0.016816</td>\n",
              "      <td>0.048783</td>\n",
              "      <td>0.414100</td>\n",
              "      <td>0.109612</td>\n",
              "      <td>1.000000</td>\n",
              "      <td>-0.006801</td>\n",
              "      <td>-0.004653</td>\n",
              "      <td>0.010785</td>\n",
              "      <td>0.011250</td>\n",
              "      <td>0.024181</td>\n",
              "      <td>-0.014474</td>\n",
              "    </tr>\n",
              "    <tr>\n",
              "      <th>stay_on_saturday</th>\n",
              "      <td>0.079756</td>\n",
              "      <td>-0.017207</td>\n",
              "      <td>-0.048319</td>\n",
              "      <td>-0.090619</td>\n",
              "      <td>0.089293</td>\n",
              "      <td>0.000677</td>\n",
              "      <td>-0.006801</td>\n",
              "      <td>1.000000</td>\n",
              "      <td>-0.013283</td>\n",
              "      <td>-0.000194</td>\n",
              "      <td>0.004199</td>\n",
              "      <td>0.005885</td>\n",
              "      <td>-0.012613</td>\n",
              "    </tr>\n",
              "    <tr>\n",
              "      <th>random_sort</th>\n",
              "      <td>-0.033805</td>\n",
              "      <td>-0.006032</td>\n",
              "      <td>-0.028762</td>\n",
              "      <td>0.146233</td>\n",
              "      <td>0.049000</td>\n",
              "      <td>0.006610</td>\n",
              "      <td>-0.004653</td>\n",
              "      <td>-0.013283</td>\n",
              "      <td>1.000000</td>\n",
              "      <td>0.005118</td>\n",
              "      <td>-0.089327</td>\n",
              "      <td>-0.005918</td>\n",
              "      <td>0.001766</td>\n",
              "    </tr>\n",
              "    <tr>\n",
              "      <th>clicked</th>\n",
              "      <td>-0.004276</td>\n",
              "      <td>-0.003049</td>\n",
              "      <td>0.037052</td>\n",
              "      <td>-0.000740</td>\n",
              "      <td>0.006760</td>\n",
              "      <td>0.004293</td>\n",
              "      <td>0.010785</td>\n",
              "      <td>-0.000194</td>\n",
              "      <td>0.005118</td>\n",
              "      <td>1.000000</td>\n",
              "      <td>0.773387</td>\n",
              "      <td>0.002289</td>\n",
              "      <td>-0.002844</td>\n",
              "    </tr>\n",
              "    <tr>\n",
              "      <th>booked</th>\n",
              "      <td>0.005930</td>\n",
              "      <td>-0.001940</td>\n",
              "      <td>0.032145</td>\n",
              "      <td>-0.020428</td>\n",
              "      <td>-0.002080</td>\n",
              "      <td>0.003384</td>\n",
              "      <td>0.011250</td>\n",
              "      <td>0.004199</td>\n",
              "      <td>-0.089327</td>\n",
              "      <td>0.773387</td>\n",
              "      <td>1.000000</td>\n",
              "      <td>-0.001457</td>\n",
              "      <td>0.003242</td>\n",
              "    </tr>\n",
              "    <tr>\n",
              "      <th>year</th>\n",
              "      <td>-0.007675</td>\n",
              "      <td>0.008430</td>\n",
              "      <td>-0.010304</td>\n",
              "      <td>0.039359</td>\n",
              "      <td>0.050805</td>\n",
              "      <td>0.057594</td>\n",
              "      <td>0.024181</td>\n",
              "      <td>0.005885</td>\n",
              "      <td>-0.005918</td>\n",
              "      <td>0.002289</td>\n",
              "      <td>-0.001457</td>\n",
              "      <td>1.000000</td>\n",
              "      <td>-0.899986</td>\n",
              "    </tr>\n",
              "    <tr>\n",
              "      <th>month</th>\n",
              "      <td>0.017203</td>\n",
              "      <td>-0.006723</td>\n",
              "      <td>0.004836</td>\n",
              "      <td>-0.075062</td>\n",
              "      <td>-0.037027</td>\n",
              "      <td>-0.043649</td>\n",
              "      <td>-0.014474</td>\n",
              "      <td>-0.012613</td>\n",
              "      <td>0.001766</td>\n",
              "      <td>-0.002844</td>\n",
              "      <td>0.003242</td>\n",
              "      <td>-0.899986</td>\n",
              "      <td>1.000000</td>\n",
              "    </tr>\n",
              "  </tbody>\n",
              "</table>\n",
              "</div>\n",
              "      <button class=\"colab-df-convert\" onclick=\"convertToInteractive('df-b12df62c-6906-4871-99d8-cccd8a4f190e')\"\n",
              "              title=\"Convert this dataframe to an interactive table.\"\n",
              "              style=\"display:none;\">\n",
              "        \n",
              "  <svg xmlns=\"http://www.w3.org/2000/svg\" height=\"24px\"viewBox=\"0 0 24 24\"\n",
              "       width=\"24px\">\n",
              "    <path d=\"M0 0h24v24H0V0z\" fill=\"none\"/>\n",
              "    <path d=\"M18.56 5.44l.94 2.06.94-2.06 2.06-.94-2.06-.94-.94-2.06-.94 2.06-2.06.94zm-11 1L8.5 8.5l.94-2.06 2.06-.94-2.06-.94L8.5 2.5l-.94 2.06-2.06.94zm10 10l.94 2.06.94-2.06 2.06-.94-2.06-.94-.94-2.06-.94 2.06-2.06.94z\"/><path d=\"M17.41 7.96l-1.37-1.37c-.4-.4-.92-.59-1.43-.59-.52 0-1.04.2-1.43.59L10.3 9.45l-7.72 7.72c-.78.78-.78 2.05 0 2.83L4 21.41c.39.39.9.59 1.41.59.51 0 1.02-.2 1.41-.59l7.78-7.78 2.81-2.81c.8-.78.8-2.07 0-2.86zM5.41 20L4 18.59l7.72-7.72 1.47 1.35L5.41 20z\"/>\n",
              "  </svg>\n",
              "      </button>\n",
              "      \n",
              "  <style>\n",
              "    .colab-df-container {\n",
              "      display:flex;\n",
              "      flex-wrap:wrap;\n",
              "      gap: 12px;\n",
              "    }\n",
              "\n",
              "    .colab-df-convert {\n",
              "      background-color: #E8F0FE;\n",
              "      border: none;\n",
              "      border-radius: 50%;\n",
              "      cursor: pointer;\n",
              "      display: none;\n",
              "      fill: #1967D2;\n",
              "      height: 32px;\n",
              "      padding: 0 0 0 0;\n",
              "      width: 32px;\n",
              "    }\n",
              "\n",
              "    .colab-df-convert:hover {\n",
              "      background-color: #E2EBFA;\n",
              "      box-shadow: 0px 1px 2px rgba(60, 64, 67, 0.3), 0px 1px 3px 1px rgba(60, 64, 67, 0.15);\n",
              "      fill: #174EA6;\n",
              "    }\n",
              "\n",
              "    [theme=dark] .colab-df-convert {\n",
              "      background-color: #3B4455;\n",
              "      fill: #D2E3FC;\n",
              "    }\n",
              "\n",
              "    [theme=dark] .colab-df-convert:hover {\n",
              "      background-color: #434B5C;\n",
              "      box-shadow: 0px 1px 3px 1px rgba(0, 0, 0, 0.15);\n",
              "      filter: drop-shadow(0px 1px 2px rgba(0, 0, 0, 0.3));\n",
              "      fill: #FFFFFF;\n",
              "    }\n",
              "  </style>\n",
              "\n",
              "      <script>\n",
              "        const buttonEl =\n",
              "          document.querySelector('#df-b12df62c-6906-4871-99d8-cccd8a4f190e button.colab-df-convert');\n",
              "        buttonEl.style.display =\n",
              "          google.colab.kernel.accessAllowed ? 'block' : 'none';\n",
              "\n",
              "        async function convertToInteractive(key) {\n",
              "          const element = document.querySelector('#df-b12df62c-6906-4871-99d8-cccd8a4f190e');\n",
              "          const dataTable =\n",
              "            await google.colab.kernel.invokeFunction('convertToInteractive',\n",
              "                                                     [key], {});\n",
              "          if (!dataTable) return;\n",
              "\n",
              "          const docLinkHtml = 'Like what you see? Visit the ' +\n",
              "            '<a target=\"_blank\" href=https://colab.research.google.com/notebooks/data_table.ipynb>data table notebook</a>'\n",
              "            + ' to learn more about interactive tables.';\n",
              "          element.innerHTML = '';\n",
              "          dataTable['output_type'] = 'display_data';\n",
              "          await google.colab.output.renderOutput(dataTable, element);\n",
              "          const docLink = document.createElement('div');\n",
              "          docLink.innerHTML = docLinkHtml;\n",
              "          element.appendChild(docLink);\n",
              "        }\n",
              "      </script>\n",
              "    </div>\n",
              "  </div>\n",
              "  "
            ]
          },
          "metadata": {},
          "execution_count": 23
        }
      ]
    },
    {
      "cell_type": "code",
      "source": [
        "#plotting the correlation\n",
        "plt.figure(figsize=(15,7))\n",
        "sns.heatmap(df.corr(), annot=True)"
      ],
      "metadata": {
        "colab": {
          "base_uri": "https://localhost:8080/",
          "height": 527
        },
        "id": "XSI7fQBA0gOO",
        "outputId": "8b1fc0ab-ce6f-461c-b58d-943d90c85806"
      },
      "execution_count": 24,
      "outputs": [
        {
          "output_type": "execute_result",
          "data": {
            "text/plain": [
              "<matplotlib.axes._subplots.AxesSubplot at 0x7f798061fd90>"
            ]
          },
          "metadata": {},
          "execution_count": 24
        },
        {
          "output_type": "display_data",
          "data": {
            "text/plain": [
              "<Figure size 1080x504 with 2 Axes>"
            ],
            "image/png": "[encoded data removed]"
          },
          "metadata": {
            "needs_background": "light"
          }
        }
      ]
    },
    {
      "cell_type": "code",
      "source": [
        "sns.countplot(x='is_brand',hue='booked', data=df)"
      ],
      "metadata": {
        "colab": {
          "base_uri": "https://localhost:8080/",
          "height": 297
        },
        "id": "shPOTD11C6od",
        "outputId": "4e770426-6953-4cbe-86cb-b3a1fdc68987"
      },
      "execution_count": 25,
      "outputs": [
        {
          "output_type": "execute_result",
          "data": {
            "text/plain": [
              "<matplotlib.axes._subplots.AxesSubplot at 0x7f797d6b1e10>"
            ]
          },
          "metadata": {},
          "execution_count": 25
        },
        {
          "output_type": "display_data",
          "data": {
            "text/plain": [
              "<Figure size 432x288 with 1 Axes>"
            ],
            "image/png": "[encoded data removed]"
          },
          "metadata": {
            "needs_background": "light"
          }
        }
      ]
    },
    {
      "cell_type": "code",
      "source": [
        "plt.figure(figsize=(15,7))\n",
        "sns.distplot(df['price_usd'])\n",
        "plt.title(\"Distribution plot for price_usd\")\n",
        "plt.show()"
      ],
      "metadata": {
        "colab": {
          "base_uri": "https://localhost:8080/",
          "height": 459
        },
        "id": "Vqon8Pd9ClFr",
        "outputId": "8b19dd9d-5276-4848-92f3-017869841468"
      },
      "execution_count": 26,
      "outputs": [
        {
          "output_type": "display_data",
          "data": {
            "text/plain": [
              "<Figure size 1080x504 with 1 Axes>"
            ],
            "image/png": "[encoded data removed]"
          },
          "metadata": {
            "needs_background": "light"
          }
        }
      ]
    },
    {
      "cell_type": "code",
      "source": [
        "sns.countplot(x='has_promotion', hue='booked', data=df)\n",
        "plt.title(\"countplot for has_promotion per class\")\n",
        "plt.show()"
      ],
      "metadata": {
        "colab": {
          "base_uri": "https://localhost:8080/",
          "height": 296
        },
        "id": "HLsGJDOf-2tw",
        "outputId": "9842f166-bc57-4220-96a4-028eeae37ed1"
      },
      "execution_count": 27,
      "outputs": [
        {
          "output_type": "display_data",
          "data": {
            "text/plain": [
              "<Figure size 432x288 with 1 Axes>"
            ],
            "image/png": "[encoded data removed]"
          },
          "metadata": {
            "needs_background": "light"
          }
        }
      ]
    },
    {
      "cell_type": "code",
      "source": [
        "plt.figure(figsize=(27,17))\n",
        "sns.countplot(x='booking_window', hue='booked', data=df)\n",
        "plt.title(\"countplot for booking_window per class\")\n",
        "plt.show()"
      ],
      "metadata": {
        "colab": {
          "base_uri": "https://localhost:8080/",
          "height": 797
        },
        "id": "X_8gXXR_-2mB",
        "outputId": "dd5a232b-6470-4c53-ca49-72b10cd25543"
      },
      "execution_count": 28,
      "outputs": [
        {
          "output_type": "display_data",
          "data": {
            "text/plain": [
              "<Figure size 1944x1224 with 1 Axes>"
            ],
            "image/png": "[encoded data removed]"
          },
          "metadata": {
            "needs_background": "light"
          }
        }
      ]
    },
    {
      "cell_type": "code",
      "source": [
        "sns.countplot(x='clicked', hue='booked', data=df)\n",
        "plt.title(\"countplot for clicked per class\")\n",
        "plt.show()"
      ],
      "metadata": {
        "colab": {
          "base_uri": "https://localhost:8080/",
          "height": 295
        },
        "id": "nHnWSZD2-2d4",
        "outputId": "14666c3e-e007-45a5-e631-0ee1e747738a"
      },
      "execution_count": 29,
      "outputs": [
        {
          "output_type": "display_data",
          "data": {
            "text/plain": [
              "<Figure size 432x288 with 1 Axes>"
            ],
            "image/png": "[encoded data removed]"
          },
          "metadata": {
            "needs_background": "light"
          }
        }
      ]
    },
    {
      "cell_type": "code",
      "source": [
        "sns.countplot(x='random_sort', hue='booked', data=df)\n",
        "plt.title(\"countplot for random_sort per class\")\n",
        "plt.show()"
      ],
      "metadata": {
        "colab": {
          "base_uri": "https://localhost:8080/",
          "height": 296
        },
        "id": "JdHqNvnU-2WF",
        "outputId": "befb4f5a-9e26-4bed-b603-829467d24bec"
      },
      "execution_count": 30,
      "outputs": [
        {
          "output_type": "display_data",
          "data": {
            "text/plain": [
              "<Figure size 432x288 with 1 Axes>"
            ],
            "image/png": "[encoded data removed]"
          },
          "metadata": {
            "needs_background": "light"
          }
        }
      ]
    },
    {
      "cell_type": "code",
      "source": [
        "sns.countplot(x='month', hue='booked', data=df)\n",
        "plt.title(\"countplot for month per class\")\n",
        "plt.show()"
      ],
      "metadata": {
        "colab": {
          "base_uri": "https://localhost:8080/",
          "height": 295
        },
        "id": "HNgO7hxL-2PU",
        "outputId": "2310971e-0276-4a93-cc35-a3af78507159"
      },
      "execution_count": 31,
      "outputs": [
        {
          "output_type": "display_data",
          "data": {
            "text/plain": [
              "<Figure size 432x288 with 1 Axes>"
            ],
            "image/png": "[encoded data removed]"
          },
          "metadata": {
            "needs_background": "light"
          }
        }
      ]
    },
    {
      "cell_type": "code",
      "source": [],
      "metadata": {
        "id": "s_E3oUxAt8IZ"
      },
      "execution_count": 31,
      "outputs": []
    },
    {
      "cell_type": "code",
      "source": [
        "col = ['clicked','price_usd','booking_window','random_sort','has_promotion','month']\n",
        "x=df[col]\n",
        "y=df['booked']"
      ],
      "metadata": {
        "id": "DR5A5T8ku-hu"
      },
      "execution_count": 32,
      "outputs": []
    },
    {
      "cell_type": "code",
      "source": [
        "print(x)"
      ],
      "metadata": {
        "colab": {
          "base_uri": "https://localhost:8080/"
        },
        "id": "N7S5ObJNv5s4",
        "outputId": "222600bb-45e2-4f34-9696-1a0f40a7130a"
      },
      "execution_count": 33,
      "outputs": [
        {
          "output_type": "stream",
          "name": "stdout",
          "text": [
            "       clicked  price_usd  booking_window  random_sort  has_promotion  month\n",
            "0            0     295.00              46            1              0     12\n",
            "1            0     299.00              46            1              0     12\n",
            "2            0     373.00              46            1              1     12\n",
            "3            0     329.00              46            1              0     12\n",
            "4            0     600.00              46            1              0     12\n",
            "...        ...        ...             ...          ...            ...    ...\n",
            "99995        0     182.78               6            1              0     11\n",
            "99996        0     118.86               6            1              1     11\n",
            "99997        0      97.88               6            1              0     11\n",
            "99998        0      74.91               6            1              1     11\n",
            "99999        0     195.77               6            1              0     11\n",
            "\n",
            "[100000 rows x 6 columns]\n"
          ]
        }
      ]
    },
    {
      "cell_type": "code",
      "source": [
        "print(y)"
      ],
      "metadata": {
        "colab": {
          "base_uri": "https://localhost:8080/"
        },
        "id": "NRJaiCnAv7kZ",
        "outputId": "e7388daf-3de4-45da-e6c6-cae79e32205b"
      },
      "execution_count": 34,
      "outputs": [
        {
          "output_type": "stream",
          "name": "stdout",
          "text": [
            "0        0\n",
            "1        0\n",
            "2        0\n",
            "3        0\n",
            "4        0\n",
            "        ..\n",
            "99995    0\n",
            "99996    0\n",
            "99997    0\n",
            "99998    0\n",
            "99999    0\n",
            "Name: booked, Length: 100000, dtype: int64\n"
          ]
        }
      ]
    },
    {
      "cell_type": "markdown",
      "source": [
        "Oversampling"
      ],
      "metadata": {
        "id": "ZPBt5xQhvBHs"
      }
    },
    {
      "cell_type": "code",
      "source": [
        "# plot before sampling\n",
        "sns.countplot(df['booked'])\n",
        "plt.title(\"before sampling\")\n",
        "plt.show()"
      ],
      "metadata": {
        "colab": {
          "base_uri": "https://localhost:8080/",
          "height": 295
        },
        "id": "nNeIOp3EulOP",
        "outputId": "f944752c-00f3-41e9-fcf5-05c372ee9ead"
      },
      "execution_count": 35,
      "outputs": [
        {
          "output_type": "display_data",
          "data": {
            "text/plain": [
              "<Figure size 432x288 with 1 Axes>"
            ],
            "image/png": "[encoded data removed]"
          },
          "metadata": {
            "needs_background": "light"
          }
        }
      ]
    },
    {
      "cell_type": "code",
      "source": [
        "# Oversampling\n",
        "ros = RandomOverSampler(random_state=42)\n",
        "ros.fit(x,y)"
      ],
      "metadata": {
        "colab": {
          "base_uri": "https://localhost:8080/"
        },
        "id": "aL5KH129wAfT",
        "outputId": "fbca82e0-d4ce-46ec-ff30-ad03cfff8276"
      },
      "execution_count": 36,
      "outputs": [
        {
          "output_type": "execute_result",
          "data": {
            "text/plain": [
              "RandomOverSampler(random_state=42)"
            ]
          },
          "metadata": {},
          "execution_count": 36
        }
      ]
    },
    {
      "cell_type": "code",
      "source": [
        "x_resampled, y_resampled  = ros.fit_resample(x,y)\n"
      ],
      "metadata": {
        "id": "yH3X-Xh2uRt8"
      },
      "execution_count": 37,
      "outputs": []
    },
    {
      "cell_type": "code",
      "source": [
        "# plot after sampling\n",
        "sns.countplot(y_resampled)\n",
        "plt.title(\"after sampling\")\n",
        "plt.show()"
      ],
      "metadata": {
        "colab": {
          "base_uri": "https://localhost:8080/",
          "height": 295
        },
        "id": "DOnaUu1KuWj1",
        "outputId": "e9b651b3-00a3-4b59-8205-eff962fa9088"
      },
      "execution_count": 38,
      "outputs": [
        {
          "output_type": "display_data",
          "data": {
            "text/plain": [
              "<Figure size 432x288 with 1 Axes>"
            ],
            "image/png": "[encoded data removed]"
          },
          "metadata": {
            "needs_background": "light"
          }
        }
      ]
    },
    {
      "cell_type": "code",
      "source": [
        "#Splitting data into train and test\n",
        "x_train, x_test, y_train, y_test = train_test_split(x_resampled, y_resampled, test_size=0.2, random_state= 8)\n",
        "print(x.shape, x_train.shape, x_test.shape)"
      ],
      "metadata": {
        "colab": {
          "base_uri": "https://localhost:8080/"
        },
        "id": "mLdidACbvmAn",
        "outputId": "ffe67cdb-5a50-4942-eb21-b7eb211a9bdf"
      },
      "execution_count": 39,
      "outputs": [
        {
          "output_type": "stream",
          "name": "stdout",
          "text": [
            "(100000, 6) (155582, 6) (38896, 6)\n"
          ]
        }
      ]
    },
    {
      "cell_type": "markdown",
      "source": [
        "Feature Selection"
      ],
      "metadata": {
        "id": "_Z_4p9g2kN_J"
      }
    },
    {
      "cell_type": "code",
      "source": [
        "# define min max scaler\n",
        "scaler = MinMaxScaler()\n",
        "# transform data\n",
        "scaled = scaler.fit_transform(df)\n",
        "print(scaled)"
      ],
      "metadata": {
        "colab": {
          "base_uri": "https://localhost:8080/"
        },
        "id": "4pLxjd8mkDrw",
        "outputId": "d7cb78b4-402c-4616-837e-c5e1e00746b5"
      },
      "execution_count": 40,
      "outputs": [
        {
          "output_type": "stream",
          "name": "stdout",
          "text": [
            "[[0.00000000e+00 1.13961528e-03 0.00000000e+00 ... 0.00000000e+00\n",
            "  0.00000000e+00 1.00000000e+00]\n",
            " [0.00000000e+00 1.15510392e-03 0.00000000e+00 ... 0.00000000e+00\n",
            "  0.00000000e+00 1.00000000e+00]\n",
            " [1.00000000e+00 1.44164373e-03 1.00000000e+00 ... 0.00000000e+00\n",
            "  0.00000000e+00 1.00000000e+00]\n",
            " ...\n",
            " [1.00000000e+00 3.76335188e-04 0.00000000e+00 ... 0.00000000e+00\n",
            "  0.00000000e+00 9.09090909e-01]\n",
            " [1.00000000e+00 2.87391683e-04 1.00000000e+00 ... 0.00000000e+00\n",
            "  0.00000000e+00 9.09090909e-01]\n",
            " [1.00000000e+00 7.55380888e-04 0.00000000e+00 ... 0.00000000e+00\n",
            "  0.00000000e+00 9.09090909e-01]]\n"
          ]
        }
      ]
    },
    {
      "cell_type": "markdown",
      "source": [
        "PCA"
      ],
      "metadata": {
        "id": "71PQbFMCwAxv"
      }
    },
    {
      "cell_type": "code",
      "source": [
        "pca = PCA()\n",
        "x_train = pca.fit_transform(x_train)\n",
        "x_test = pca.fit_transform(x_test)"
      ],
      "metadata": {
        "id": "oqjHpXDMvw8-"
      },
      "execution_count": 41,
      "outputs": []
    },
    {
      "cell_type": "markdown",
      "source": [
        "Logistic Regression"
      ],
      "metadata": {
        "id": "WUXObW89wF_3"
      }
    },
    {
      "cell_type": "code",
      "source": [
        "LR = LogisticRegression()\n",
        "LR.fit(x_train,y_train)"
      ],
      "metadata": {
        "colab": {
          "base_uri": "https://localhost:8080/"
        },
        "id": "DJeD4Zh2wCii",
        "outputId": "5e2c490c-55ec-4bf4-d77f-1499b5edf463"
      },
      "execution_count": 42,
      "outputs": [
        {
          "output_type": "execute_result",
          "data": {
            "text/plain": [
              "LogisticRegression()"
            ]
          },
          "metadata": {},
          "execution_count": 42
        }
      ]
    },
    {
      "cell_type": "code",
      "source": [
        "#accuracy on training data\n",
        "x_train_prediction = LR.predict(x_train)\n",
        "training_data_accuracy = accuracy_score(x_train_prediction,y_train)\n",
        "print('Accuracy on training data:',training_data_accuracy)\n",
        "\n",
        "#Accuracy on test data\n",
        "x_test_prediction = LR.predict(x_test)\n",
        "test_data_accuracy = accuracy_score(x_test_prediction, y_test)\n",
        "print('Accuracy on test data:',test_data_accuracy)"
      ],
      "metadata": {
        "colab": {
          "base_uri": "https://localhost:8080/"
        },
        "id": "pjkcEnxXwJQE",
        "outputId": "97afb4cb-19c2-4826-aac5-0d2b706fe69a"
      },
      "execution_count": 43,
      "outputs": [
        {
          "output_type": "stream",
          "name": "stdout",
          "text": [
            "Accuracy on training data: 0.9910400946124873\n",
            "Accuracy on test data: 0.9776840806252571\n"
          ]
        }
      ]
    },
    {
      "cell_type": "code",
      "source": [
        "#checking the confusion matrix\n",
        "cm = confusion_matrix(x_test_prediction, y_test)\n",
        "print(cm)"
      ],
      "metadata": {
        "colab": {
          "base_uri": "https://localhost:8080/"
        },
        "id": "t1wOQ5ycwagO",
        "outputId": "1030c60f-f377-4940-b6ba-1f54398f83a6"
      },
      "execution_count": 44,
      "outputs": [
        {
          "output_type": "stream",
          "name": "stdout",
          "text": [
            "[[19337   699]\n",
            " [  169 18691]]\n"
          ]
        }
      ]
    },
    {
      "cell_type": "code",
      "source": [
        "#plotting the confusion matrix\n",
        "sns.heatmap(cm, annot=True, cmap='YlGnBu', fmt='d')"
      ],
      "metadata": {
        "colab": {
          "base_uri": "https://localhost:8080/",
          "height": 282
        },
        "id": "wd6rXJgFzoZn",
        "outputId": "08f1b211-a0e8-4135-b1dd-4383dd6c087b"
      },
      "execution_count": 45,
      "outputs": [
        {
          "output_type": "execute_result",
          "data": {
            "text/plain": [
              "<matplotlib.axes._subplots.AxesSubplot at 0x7f797be72e10>"
            ]
          },
          "metadata": {},
          "execution_count": 45
        },
        {
          "output_type": "display_data",
          "data": {
            "text/plain": [
              "<Figure size 432x288 with 2 Axes>"
            ],
            "image/png": "[encoded data removed]"
          },
          "metadata": {
            "needs_background": "light"
          }
        }
      ]
    },
    {
      "cell_type": "code",
      "source": [
        "#printing classification report precision, recall, f1-score   \n",
        "print(classification_report(x_test_prediction, y_test))"
      ],
      "metadata": {
        "colab": {
          "base_uri": "https://localhost:8080/"
        },
        "id": "C5SsHTP-zrPg",
        "outputId": "851224cd-1512-4e98-a4d2-0785e3f91796"
      },
      "execution_count": 46,
      "outputs": [
        {
          "output_type": "stream",
          "name": "stdout",
          "text": [
            "              precision    recall  f1-score   support\n",
            "\n",
            "           0       0.99      0.97      0.98     20036\n",
            "           1       0.96      0.99      0.98     18860\n",
            "\n",
            "    accuracy                           0.98     38896\n",
            "   macro avg       0.98      0.98      0.98     38896\n",
            "weighted avg       0.98      0.98      0.98     38896\n",
            "\n"
          ]
        }
      ]
    },
    {
      "cell_type": "code",
      "source": [
        "# cross validation score\n",
        "scores = cross_val_score(LR, x_train,y_train,cv=5)\n",
        "print(\"cross-validation_scores: \",scores)\n",
        "print(\"%0.2f accuracy with a standard deviation of %0.2f\" % (scores.mean(), scores.std()))"
      ],
      "metadata": {
        "colab": {
          "base_uri": "https://localhost:8080/"
        },
        "id": "DQdL1eOY5OfS",
        "outputId": "8faa066b-2308-4809-c3ba-fe476c72bbdc"
      },
      "execution_count": 47,
      "outputs": [
        {
          "output_type": "stream",
          "name": "stdout",
          "text": [
            "cross-validation_scores:  [0.99061606 0.99048751 0.99093714 0.99151562 0.99167631]\n",
            "0.99 accuracy with a standard deviation of 0.00\n"
          ]
        }
      ]
    },
    {
      "cell_type": "code",
      "source": [
        "#calculating the predicted probability for Logistic Regression\n",
        "y_hat = LR.predict_proba(x_test)[:,1]\n",
        "\n",
        "#defining thresold score\n",
        "thresholds = np.linspace(0,1,100)\n",
        "\n",
        "#defining fpr and tpr\n",
        "fpr, tpr, thresold = roc_curve(y_test, y_hat)\n",
        "\n",
        "#roc_auc_score\n",
        "LR_roc_auc = roc_auc_score(y_test, LR.predict(x_test))\n",
        "LR_roc_auc"
      ],
      "metadata": {
        "colab": {
          "base_uri": "https://localhost:8080/"
        },
        "id": "4dP5WeMBzxMu",
        "outputId": "771afa98-88e8-461e-bb52-c4a1976884ae"
      },
      "execution_count": 48,
      "outputs": [
        {
          "output_type": "execute_result",
          "data": {
            "text/plain": [
              "0.9776432445615045"
            ]
          },
          "metadata": {},
          "execution_count": 48
        }
      ]
    },
    {
      "cell_type": "code",
      "source": [
        "# plotting the roc curve\n",
        "plt.figure()\n",
        "plt.plot(fpr, tpr, label='Logistic Regression (senstivity = %0.3f)',color='r' %LR_roc_auc)\n",
        "plt.plot([0,1],[0,1], 'g--')\n",
        "plt.xlabel('False positive rate')\n",
        "plt.ylabel('True positive rate')\n",
        "plt.title(\"Receiver operating characteristics\")\n",
        "plt.legend(loc=\"lower right\")"
      ],
      "metadata": {
        "colab": {
          "base_uri": "https://localhost:8080/",
          "height": 312
        },
        "id": "8MMyEVivz40a",
        "outputId": "03443a07-8eb5-4fb9-a453-35ac9fc11fd1"
      },
      "execution_count": 49,
      "outputs": [
        {
          "output_type": "execute_result",
          "data": {
            "text/plain": [
              "<matplotlib.legend.Legend at 0x7f797b4e2410>"
            ]
          },
          "metadata": {},
          "execution_count": 49
        },
        {
          "output_type": "display_data",
          "data": {
            "text/plain": [
              "<Figure size 432x288 with 1 Axes>"
            ],
            "image/png": "[encoded data removed]"
          },
          "metadata": {
            "needs_background": "light"
          }
        }
      ]
    },
    {
      "cell_type": "markdown",
      "source": [
        "Naive Bayes"
      ],
      "metadata": {
        "id": "aDVY3KReCt0_"
      }
    },
    {
      "cell_type": "code",
      "source": [
        "NB = GaussianNB()\n",
        "NB.fit(x_train, y_train)"
      ],
      "metadata": {
        "colab": {
          "base_uri": "https://localhost:8080/"
        },
        "id": "qAdkayOf0Aay",
        "outputId": "2b096204-dba1-4490-dc55-1bc561dc4370"
      },
      "execution_count": 50,
      "outputs": [
        {
          "output_type": "execute_result",
          "data": {
            "text/plain": [
              "GaussianNB()"
            ]
          },
          "metadata": {},
          "execution_count": 50
        }
      ]
    },
    {
      "cell_type": "code",
      "source": [
        "#accuracy on training data\n",
        "x_train_prediction = NB.predict(x_train)\n",
        "training_data_accuracy = accuracy_score(x_train_prediction,y_train)\n",
        "print('Accuracy on training data:',training_data_accuracy)\n",
        "\n",
        "#Accuracy on test data\n",
        "x_test_prediction = NB.predict(x_test)\n",
        "test_data_accuracy = accuracy_score(x_test_prediction, y_test)\n",
        "print('Accuracy on test data:',test_data_accuracy)"
      ],
      "metadata": {
        "colab": {
          "base_uri": "https://localhost:8080/"
        },
        "id": "i7G0vhlADwfd",
        "outputId": "8c61cce2-b252-4718-daa6-83fdfd0dba57"
      },
      "execution_count": 51,
      "outputs": [
        {
          "output_type": "stream",
          "name": "stdout",
          "text": [
            "Accuracy on training data: 0.9734737951691069\n",
            "Accuracy on test data: 0.9736219662690251\n"
          ]
        }
      ]
    },
    {
      "cell_type": "code",
      "source": [
        "#printing classification report precision, recall, f1-score   \n",
        "print(classification_report(x_test_prediction, y_test))"
      ],
      "metadata": {
        "colab": {
          "base_uri": "https://localhost:8080/"
        },
        "id": "OaXK2swlEVhw",
        "outputId": "bd310b10-14c6-420a-949b-85f34872e540"
      },
      "execution_count": 52,
      "outputs": [
        {
          "output_type": "stream",
          "name": "stdout",
          "text": [
            "              precision    recall  f1-score   support\n",
            "\n",
            "           0       0.99      0.96      0.97     20212\n",
            "           1       0.96      0.99      0.97     18684\n",
            "\n",
            "    accuracy                           0.97     38896\n",
            "   macro avg       0.97      0.97      0.97     38896\n",
            "weighted avg       0.97      0.97      0.97     38896\n",
            "\n"
          ]
        }
      ]
    },
    {
      "cell_type": "code",
      "source": [
        "# cross validation score\n",
        "scores = cross_val_score(NB, x_train,y_train,cv=5)\n",
        "print(\"cross-validation_scores: \",scores)\n",
        "print(\"%0.2f accuracy with a standard deviation of %0.2f\" % (scores.mean(), scores.std()))"
      ],
      "metadata": {
        "colab": {
          "base_uri": "https://localhost:8080/"
        },
        "id": "ezGoUljWE8bH",
        "outputId": "3a835e6e-b3a9-4f18-a8ae-48fb05904ef5"
      },
      "execution_count": 53,
      "outputs": [
        {
          "output_type": "stream",
          "name": "stdout",
          "text": [
            "cross-validation_scores:  [0.97265161 0.97348716 0.97348631 0.97448258 0.97303638]\n",
            "0.97 accuracy with a standard deviation of 0.00\n"
          ]
        }
      ]
    },
    {
      "cell_type": "code",
      "source": [
        "#checking the confusion matrix\n",
        "cm = confusion_matrix(x_test_prediction, y_test)\n",
        "print(cm)"
      ],
      "metadata": {
        "colab": {
          "base_uri": "https://localhost:8080/"
        },
        "id": "gXNWc0GDEo8O",
        "outputId": "0af7343b-315c-43fa-d4ee-66f0c8eb89fd"
      },
      "execution_count": 54,
      "outputs": [
        {
          "output_type": "stream",
          "name": "stdout",
          "text": [
            "[[19346   866]\n",
            " [  160 18524]]\n"
          ]
        }
      ]
    },
    {
      "cell_type": "code",
      "source": [
        "#plotting the confusion matrix\n",
        "sns.heatmap(cm, annot=True, cmap='YlGnBu', fmt='d')"
      ],
      "metadata": {
        "colab": {
          "base_uri": "https://localhost:8080/",
          "height": 282
        },
        "id": "gXuIKR24Et9C",
        "outputId": "300edd87-38c5-4f59-f537-5db97bdf6d5f"
      },
      "execution_count": 55,
      "outputs": [
        {
          "output_type": "execute_result",
          "data": {
            "text/plain": [
              "<matplotlib.axes._subplots.AxesSubplot at 0x7f797b891390>"
            ]
          },
          "metadata": {},
          "execution_count": 55
        },
        {
          "output_type": "display_data",
          "data": {
            "text/plain": [
              "<Figure size 432x288 with 2 Axes>"
            ],
            "image/png": "[encoded data removed]"
          },
          "metadata": {
            "needs_background": "light"
          }
        }
      ]
    },
    {
      "cell_type": "code",
      "source": [
        "#calculating the predicted probability for Naive Bayes\n",
        "y_hat = NB.predict_proba(x_test)[:,1]\n",
        "\n",
        "#defining thresold score\n",
        "thresholds = np.linspace(0,1,100)\n",
        "\n",
        "#defining fpr and tpr\n",
        "fpr, tpr, thresold = roc_curve(y_test, y_hat)\n",
        "\n",
        "#roc_auc_score\n",
        "NB_roc_auc = roc_auc_score(y_test, NB.predict(x_test))\n",
        "NB_roc_auc"
      ],
      "metadata": {
        "colab": {
          "base_uri": "https://localhost:8080/"
        },
        "id": "Tpp69WT8Ezyz",
        "outputId": "d32879b9-8046-4a37-ab35-094034a52d65"
      },
      "execution_count": 67,
      "outputs": [
        {
          "output_type": "execute_result",
          "data": {
            "text/plain": [
              "0.9735675993321794"
            ]
          },
          "metadata": {},
          "execution_count": 67
        }
      ]
    },
    {
      "cell_type": "code",
      "source": [
        "# plotting the roc curve\n",
        "plt.figure()\n",
        "plt.plot(fpr, tpr, label='Naive Bayes (senstivity = %0.3f)',color='r' %NB_roc_auc)\n",
        "plt.plot([0,1],[0,1], 'g--')\n",
        "plt.xlabel('False positive rate')\n",
        "plt.ylabel('True positive rate')\n",
        "plt.title(\"Receiver operating characteristics\")\n",
        "plt.legend(loc=\"lower right\")"
      ],
      "metadata": {
        "colab": {
          "base_uri": "https://localhost:8080/",
          "height": 312
        },
        "id": "pCnwXr15FJsB",
        "outputId": "6820c44e-cad9-4a21-b095-b78d59954dce"
      },
      "execution_count": 57,
      "outputs": [
        {
          "output_type": "execute_result",
          "data": {
            "text/plain": [
              "<matplotlib.legend.Legend at 0x7f797b797d90>"
            ]
          },
          "metadata": {},
          "execution_count": 57
        },
        {
          "output_type": "display_data",
          "data": {
            "text/plain": [
              "<Figure size 432x288 with 1 Axes>"
            ],
            "image/png": "[encoded data removed]"
          },
          "metadata": {
            "needs_background": "light"
          }
        }
      ]
    },
    {
      "cell_type": "markdown",
      "source": [
        "Decision Tree"
      ],
      "metadata": {
        "id": "cLoxTtV3F144"
      }
    },
    {
      "cell_type": "code",
      "source": [
        "DT = DecisionTreeClassifier()\n",
        "DT.fit(x_train,y_train)"
      ],
      "metadata": {
        "colab": {
          "base_uri": "https://localhost:8080/"
        },
        "id": "avnS_OvFFsa0",
        "outputId": "806e3ec7-f9d7-4a61-9b81-f7b09d72429e"
      },
      "execution_count": 58,
      "outputs": [
        {
          "output_type": "execute_result",
          "data": {
            "text/plain": [
              "DecisionTreeClassifier()"
            ]
          },
          "metadata": {},
          "execution_count": 58
        }
      ]
    },
    {
      "cell_type": "code",
      "source": [
        "#accuracy on training data\n",
        "x_train_prediction = DT.predict(x_train)\n",
        "training_data_accuracy = accuracy_score(x_train_prediction,y_train)\n",
        "print('Accuracy on training data:',training_data_accuracy)\n",
        "\n",
        "#Accuracy on test data\n",
        "x_test_prediction = DT.predict(x_test)\n",
        "test_data_accuracy = accuracy_score(x_test_prediction, y_test)\n",
        "print('Accuracy on test data:',test_data_accuracy)"
      ],
      "metadata": {
        "colab": {
          "base_uri": "https://localhost:8080/"
        },
        "id": "fDPXWJFVGLzs",
        "outputId": "ed13c542-f8ed-4604-9c5d-0c768eb889a9"
      },
      "execution_count": 59,
      "outputs": [
        {
          "output_type": "stream",
          "name": "stdout",
          "text": [
            "Accuracy on training data: 0.9998907328611278\n",
            "Accuracy on test data: 0.8678784450843274\n"
          ]
        }
      ]
    },
    {
      "cell_type": "code",
      "source": [
        "#printing classification report precision, recall, f1-score   \n",
        "print(classification_report(x_test_prediction, y_test))"
      ],
      "metadata": {
        "id": "R_gv3FnwGheX",
        "colab": {
          "base_uri": "https://localhost:8080/"
        },
        "outputId": "df245fe6-ea14-4a64-abb8-d144b69ec6b5"
      },
      "execution_count": 60,
      "outputs": [
        {
          "output_type": "stream",
          "name": "stdout",
          "text": [
            "              precision    recall  f1-score   support\n",
            "\n",
            "           0       0.99      0.79      0.88     24435\n",
            "           1       0.74      0.99      0.85     14461\n",
            "\n",
            "    accuracy                           0.87     38896\n",
            "   macro avg       0.87      0.89      0.87     38896\n",
            "weighted avg       0.90      0.87      0.87     38896\n",
            "\n"
          ]
        }
      ]
    },
    {
      "cell_type": "code",
      "source": [
        "# cross validation score\n",
        "scores = cross_val_score(DT, x_train,y_train,cv=5)\n",
        "print(\"cross-validation_scores: \",scores)\n",
        "print(\"%0.2f accuracy with a standard deviation of %0.2f\" % (scores.mean(), scores.std()))"
      ],
      "metadata": {
        "colab": {
          "base_uri": "https://localhost:8080/"
        },
        "id": "mWmBootxRFcv",
        "outputId": "49f4746a-e038-42d1-ce9d-bed77a5b99db"
      },
      "execution_count": 61,
      "outputs": [
        {
          "output_type": "stream",
          "name": "stdout",
          "text": [
            "cross-validation_scores:  [0.99704342 0.99688273 0.99688263 0.99765394 0.99765394]\n",
            "1.00 accuracy with a standard deviation of 0.00\n"
          ]
        }
      ]
    },
    {
      "cell_type": "code",
      "source": [
        "#checking the confusion matrix\n",
        "cm = confusion_matrix(x_test_prediction, y_test)\n",
        "print(cm)"
      ],
      "metadata": {
        "colab": {
          "base_uri": "https://localhost:8080/"
        },
        "id": "boLBXHIFRMAN",
        "outputId": "3336b579-0124-4c57-f408-f43ff7f6371b"
      },
      "execution_count": 62,
      "outputs": [
        {
          "output_type": "stream",
          "name": "stdout",
          "text": [
            "[[19401  5034]\n",
            " [  105 14356]]\n"
          ]
        }
      ]
    },
    {
      "cell_type": "code",
      "source": [
        "#plotting the confusion matrix\n",
        "sns.heatmap(cm, annot=True, cmap='YlGnBu', fmt='d')"
      ],
      "metadata": {
        "colab": {
          "base_uri": "https://localhost:8080/",
          "height": 282
        },
        "id": "udSxEVAdRX9O",
        "outputId": "88532778-d2fd-4abc-ddc7-521b2f914dbf"
      },
      "execution_count": 63,
      "outputs": [
        {
          "output_type": "execute_result",
          "data": {
            "text/plain": [
              "<matplotlib.axes._subplots.AxesSubplot at 0x7f797bc85950>"
            ]
          },
          "metadata": {},
          "execution_count": 63
        },
        {
          "output_type": "display_data",
          "data": {
            "text/plain": [
              "<Figure size 432x288 with 2 Axes>"
            ],
            "image/png": "[encoded data removed]"
          },
          "metadata": {
            "needs_background": "light"
          }
        }
      ]
    },
    {
      "cell_type": "code",
      "source": [
        "#calculating the predicted probability for Decision Tree\n",
        "y_hat = DT.predict_proba(x_test)[:,1]\n",
        "\n",
        "#defining thresold score\n",
        "thresholds = np.linspace(0,1,100)\n",
        "\n",
        "#defining fpr and tpr\n",
        "fpr, tpr, thresold = roc_curve(y_test, y_hat)\n",
        "\n",
        "#roc_auc_score\n",
        "DT_roc_auc = roc_auc_score(y_test, DT.predict(x_test))\n",
        "DT_roc_auc"
      ],
      "metadata": {
        "colab": {
          "base_uri": "https://localhost:8080/"
        },
        "id": "SHcGUHk0ReEQ",
        "outputId": "a300ed62-5ef8-477b-a989-cb5d76e5fd07"
      },
      "execution_count": 66,
      "outputs": [
        {
          "output_type": "execute_result",
          "data": {
            "text/plain": [
              "0.8674993404655591"
            ]
          },
          "metadata": {},
          "execution_count": 66
        }
      ]
    },
    {
      "cell_type": "code",
      "source": [
        "# plotting the roc curve\n",
        "plt.figure()\n",
        "plt.plot(fpr, tpr, label='Decision Tree (senstivity = %0.3f)',color='y' %DT_roc_auc)\n",
        "plt.plot([0,1],[0,1], 'g--')\n",
        "plt.xlabel('False positive rate')\n",
        "plt.ylabel('True positive rate')\n",
        "plt.title(\"Receiver operating characteristics\")\n",
        "plt.legend(loc=\"lower right\")"
      ],
      "metadata": {
        "colab": {
          "base_uri": "https://localhost:8080/",
          "height": 312
        },
        "id": "l_TjHET7Ro1X",
        "outputId": "e72a6b69-c0d1-4d94-96fd-55e455b22e32"
      },
      "execution_count": 65,
      "outputs": [
        {
          "output_type": "execute_result",
          "data": {
            "text/plain": [
              "<matplotlib.legend.Legend at 0x7f797b9be9d0>"
            ]
          },
          "metadata": {},
          "execution_count": 65
        },
        {
          "output_type": "display_data",
          "data": {
            "text/plain": [
              "<Figure size 432x288 with 1 Axes>"
            ],
            "image/png": "[encoded data removed]"
          },
          "metadata": {
            "needs_background": "light"
          }
        }
      ]
    },
    {
      "cell_type": "markdown",
      "source": [
        "Random Forest"
      ],
      "metadata": {
        "id": "6tdpA5lZR1cW"
      }
    },
    {
      "cell_type": "code",
      "source": [
        "RF = RandomForestClassifier()\n",
        "RF.fit(x_train,y_train)"
      ],
      "metadata": {
        "colab": {
          "base_uri": "https://localhost:8080/"
        },
        "id": "-qHjHnEPRzUy",
        "outputId": "e9156fd6-0d43-4144-94ca-1f42d26a3056"
      },
      "execution_count": 68,
      "outputs": [
        {
          "output_type": "execute_result",
          "data": {
            "text/plain": [
              "RandomForestClassifier()"
            ]
          },
          "metadata": {},
          "execution_count": 68
        }
      ]
    },
    {
      "cell_type": "code",
      "source": [
        "#accuracy on training data\n",
        "x_train_prediction = RF.predict(x_train)\n",
        "training_data_accuracy = accuracy_score(x_train_prediction,y_train)\n",
        "print('Accuracy on training data:',training_data_accuracy)\n",
        "\n",
        "#Accuracy on test data\n",
        "x_test_prediction = RF.predict(x_test)\n",
        "test_data_accuracy = accuracy_score(x_test_prediction, y_test)\n",
        "print('Accuracy on test data:',test_data_accuracy)"
      ],
      "metadata": {
        "colab": {
          "base_uri": "https://localhost:8080/"
        },
        "id": "nR8LqkzbSB50",
        "outputId": "63032e53-5cd6-4b17-b322-355ee33a7880"
      },
      "execution_count": 69,
      "outputs": [
        {
          "output_type": "stream",
          "name": "stdout",
          "text": [
            "Accuracy on training data: 0.9998843053823707\n",
            "Accuracy on test data: 0.9391711229946524\n"
          ]
        }
      ]
    },
    {
      "cell_type": "code",
      "source": [
        "#printing classification report precision, recall, f1-score   \n",
        "print(classification_report(x_test_prediction, y_test))"
      ],
      "metadata": {
        "colab": {
          "base_uri": "https://localhost:8080/"
        },
        "id": "yreUOH8KSYR0",
        "outputId": "a7472a51-766f-49d5-d143-a3bd3d2eb849"
      },
      "execution_count": 70,
      "outputs": [
        {
          "output_type": "stream",
          "name": "stdout",
          "text": [
            "              precision    recall  f1-score   support\n",
            "\n",
            "           0       1.00      0.89      0.94     21710\n",
            "           1       0.88      1.00      0.94     17186\n",
            "\n",
            "    accuracy                           0.94     38896\n",
            "   macro avg       0.94      0.95      0.94     38896\n",
            "weighted avg       0.95      0.94      0.94     38896\n",
            "\n"
          ]
        }
      ]
    },
    {
      "cell_type": "code",
      "source": [
        "# cross validation score\n",
        "scores = cross_val_score(RF, x_train,y_train,cv=5)\n",
        "print(\"cross-validation_scores: \",scores)\n",
        "print(\"%0.2f accuracy with a standard deviation of %0.2f\" % (scores.mean(), scores.std()))"
      ],
      "metadata": {
        "colab": {
          "base_uri": "https://localhost:8080/"
        },
        "id": "y10--7aYSuO2",
        "outputId": "6a9661dc-8e7d-4611-f400-4ca04375903c"
      },
      "execution_count": 71,
      "outputs": [
        {
          "output_type": "stream",
          "name": "stdout",
          "text": [
            "cross-validation_scores:  [0.99681846 0.99675419 0.99688263 0.99765394 0.99723615]\n",
            "1.00 accuracy with a standard deviation of 0.00\n"
          ]
        }
      ]
    },
    {
      "cell_type": "code",
      "source": [
        "#checking the confusion matrix\n",
        "cm = confusion_matrix(x_test_prediction, y_test)"
      ],
      "metadata": {
        "id": "FVo8ygwhSfIw"
      },
      "execution_count": 72,
      "outputs": []
    },
    {
      "cell_type": "code",
      "source": [
        "#plotting the confusion matrix\n",
        "sns.heatmap(cm, annot=True, cmap='YlGnBu', fmt='d')"
      ],
      "metadata": {
        "colab": {
          "base_uri": "https://localhost:8080/",
          "height": 282
        },
        "id": "4Uz4ICnbSkei",
        "outputId": "79e4a503-1b18-45ab-a6c4-b6ff70302b61"
      },
      "execution_count": 73,
      "outputs": [
        {
          "output_type": "execute_result",
          "data": {
            "text/plain": [
              "<matplotlib.axes._subplots.AxesSubplot at 0x7f797bb18890>"
            ]
          },
          "metadata": {},
          "execution_count": 73
        },
        {
          "output_type": "display_data",
          "data": {
            "text/plain": [
              "<Figure size 432x288 with 2 Axes>"
            ],
            "image/png": "[encoded data removed]"
          },
          "metadata": {
            "needs_background": "light"
          }
        }
      ]
    },
    {
      "cell_type": "code",
      "source": [
        "#calculating the predicted probability for Random Forest\n",
        "y_hat = RF.predict_proba(x_test)[:,1]\n",
        "\n",
        "#defining thresold score\n",
        "thresholds = np.linspace(0,1,100)\n",
        "\n",
        "#defining fpr and tpr\n",
        "fpr, tpr, thresold = roc_curve(y_test, y_hat)\n",
        "\n",
        "#roc_auc_score\n",
        "RF_roc_auc = roc_auc_score(y_test, RF.predict(x_test))\n",
        "RF_roc_auc"
      ],
      "metadata": {
        "colab": {
          "base_uri": "https://localhost:8080/"
        },
        "id": "gSi-UPucS4gs",
        "outputId": "32a1eda8-8091-4314-ef26-812183afea1a"
      },
      "execution_count": 74,
      "outputs": [
        {
          "output_type": "execute_result",
          "data": {
            "text/plain": [
              "0.9390015909731586"
            ]
          },
          "metadata": {},
          "execution_count": 74
        }
      ]
    },
    {
      "cell_type": "code",
      "source": [
        "# plotting the roc curve\n",
        "plt.figure()\n",
        "plt.plot(fpr, tpr, label='Random Forest (senstivity = %0.2f)',color='g' %RF_roc_auc)\n",
        "plt.plot([0,1],[0,1], 'y--')\n",
        "plt.xlabel('False positive rate')\n",
        "plt.ylabel('True positive rate')\n",
        "plt.title(\"Receiver operating characteristics\")\n",
        "plt.legend(loc=\"lower right\")"
      ],
      "metadata": {
        "colab": {
          "base_uri": "https://localhost:8080/",
          "height": 312
        },
        "id": "p2aOvRtwTEO6",
        "outputId": "217eeaa1-3e2d-4989-b104-e8c33760bacd"
      },
      "execution_count": 75,
      "outputs": [
        {
          "output_type": "execute_result",
          "data": {
            "text/plain": [
              "<matplotlib.legend.Legend at 0x7f797bc13a10>"
            ]
          },
          "metadata": {},
          "execution_count": 75
        },
        {
          "output_type": "display_data",
          "data": {
            "text/plain": [
              "<Figure size 432x288 with 1 Axes>"
            ],
            "image/png": "[encoded data removed]"
          },
          "metadata": {
            "needs_background": "light"
          }
        }
      ]
    },
    {
      "cell_type": "markdown",
      "source": [
        "XGB"
      ],
      "metadata": {
        "id": "13HmCG1dTUgq"
      }
    },
    {
      "cell_type": "code",
      "source": [
        "xgb = xgb.XGBClassifier()\n",
        "xgb.fit(x_train,y_train)"
      ],
      "metadata": {
        "colab": {
          "base_uri": "https://localhost:8080/"
        },
        "id": "90VSgHXwTPb-",
        "outputId": "286e50e7-4a6e-4ad9-f8e6-02f672e9f226"
      },
      "execution_count": 76,
      "outputs": [
        {
          "output_type": "execute_result",
          "data": {
            "text/plain": [
              "XGBClassifier()"
            ]
          },
          "metadata": {},
          "execution_count": 76
        }
      ]
    },
    {
      "cell_type": "code",
      "source": [
        "#accuracy on training data\n",
        "x_train_prediction = xgb.predict(x_train)\n",
        "training_data_accuracy = accuracy_score(x_train_prediction,y_train)\n",
        "print('Accuracy on training data:',training_data_accuracy)\n",
        "\n",
        "#Accuracy on test data\n",
        "x_test_prediction = xgb.predict(x_test)\n",
        "test_data_accuracy = accuracy_score(x_test_prediction, y_test)\n",
        "print('Accuracy on test data:',test_data_accuracy)"
      ],
      "metadata": {
        "colab": {
          "base_uri": "https://localhost:8080/"
        },
        "id": "kQPKC8V0TkjE",
        "outputId": "6db20c9e-cab5-426e-93da-9b90de5dc829"
      },
      "execution_count": 77,
      "outputs": [
        {
          "output_type": "stream",
          "name": "stdout",
          "text": [
            "Accuracy on training data: 0.992081346171151\n",
            "Accuracy on test data: 0.9902046482928836\n"
          ]
        }
      ]
    },
    {
      "cell_type": "code",
      "source": [
        "#printing classification report precision, recall, f1-score   \n",
        "print(classification_report(x_test_prediction, y_test))"
      ],
      "metadata": {
        "colab": {
          "base_uri": "https://localhost:8080/"
        },
        "id": "9D7ng-UKTuV9",
        "outputId": "a4ed8516-77e6-422e-cd69-06227a8c7cc2"
      },
      "execution_count": 78,
      "outputs": [
        {
          "output_type": "stream",
          "name": "stdout",
          "text": [
            "              precision    recall  f1-score   support\n",
            "\n",
            "           0       0.98      1.00      0.99     19235\n",
            "           1       1.00      0.98      0.99     19661\n",
            "\n",
            "    accuracy                           0.99     38896\n",
            "   macro avg       0.99      0.99      0.99     38896\n",
            "weighted avg       0.99      0.99      0.99     38896\n",
            "\n"
          ]
        }
      ]
    },
    {
      "cell_type": "code",
      "source": [
        "# cross validation score\n",
        "scores = cross_val_score(xgb, x_train,y_train,cv=5)\n",
        "print(\"cross-validation_scores: \",scores)\n",
        "print(\"%0.2f accuracy with a standard deviation of %0.2f\" % (scores.mean(), scores.std()))"
      ],
      "metadata": {
        "colab": {
          "base_uri": "https://localhost:8080/"
        },
        "id": "025lJP4tT0uh",
        "outputId": "c16ebf54-88cc-4052-c943-14791077dd8c"
      },
      "execution_count": 79,
      "outputs": [
        {
          "output_type": "stream",
          "name": "stdout",
          "text": [
            "cross-validation_scores:  [0.99141948 0.99158017 0.99180486 0.99222265 0.99238334]\n",
            "0.99 accuracy with a standard deviation of 0.00\n"
          ]
        }
      ]
    },
    {
      "cell_type": "code",
      "source": [
        "#checking the confusion matrix\n",
        "cm = confusion_matrix(x_test_prediction, y_test)\n",
        "print(cm)\n",
        "\n"
      ],
      "metadata": {
        "colab": {
          "base_uri": "https://localhost:8080/"
        },
        "id": "74QjXxA5T7Qh",
        "outputId": "557c9d20-897a-4b58-c243-41568912be4a"
      },
      "execution_count": 80,
      "outputs": [
        {
          "output_type": "stream",
          "name": "stdout",
          "text": [
            "[[19180    55]\n",
            " [  326 19335]]\n"
          ]
        }
      ]
    },
    {
      "cell_type": "code",
      "source": [
        "#plotting the confusion matrix\n",
        "sns.heatmap(cm, annot=True, cmap='YlGnBu', fmt='d')"
      ],
      "metadata": {
        "colab": {
          "base_uri": "https://localhost:8080/",
          "height": 282
        },
        "id": "LFhgmIB-UEjU",
        "outputId": "258e07e7-d4b2-4901-b800-e243b10950a9"
      },
      "execution_count": 81,
      "outputs": [
        {
          "output_type": "execute_result",
          "data": {
            "text/plain": [
              "<matplotlib.axes._subplots.AxesSubplot at 0x7f797b7e1850>"
            ]
          },
          "metadata": {},
          "execution_count": 81
        },
        {
          "output_type": "display_data",
          "data": {
            "text/plain": [
              "<Figure size 432x288 with 2 Axes>"
            ],
            "image/png": "[encoded data removed]"
          },
          "metadata": {
            "needs_background": "light"
          }
        }
      ]
    },
    {
      "cell_type": "code",
      "source": [
        "#calculating the predicted probability for XGB\n",
        "y_hat = xgb.predict_proba(x_test)[:,1]\n",
        "\n",
        "#defining thresold score\n",
        "thresholds = np.linspace(0,1,100)\n",
        "\n",
        "#defining fpr and tpr\n",
        "fpr, tpr, thresold = roc_curve(y_test, y_hat)\n",
        "\n",
        "#roc_auc_score\n",
        "xgb_roc_auc = roc_auc_score(y_test, xgb.predict(x_test))\n",
        "xgb_roc_auc"
      ],
      "metadata": {
        "colab": {
          "base_uri": "https://localhost:8080/"
        },
        "id": "T4Ks4JfZUI17",
        "outputId": "18f67af9-1803-4eec-ba96-1b9984e5cba1"
      },
      "execution_count": 82,
      "outputs": [
        {
          "output_type": "execute_result",
          "data": {
            "text/plain": [
              "0.990225340008578"
            ]
          },
          "metadata": {},
          "execution_count": 82
        }
      ]
    },
    {
      "cell_type": "code",
      "source": [
        "# plotting the roc curve\n",
        "plt.figure()\n",
        "plt.plot(fpr, tpr, label='XGB (senstivity = %0.2f)',color='g' %xgb_roc_auc)\n",
        "plt.plot([0,1],[0,1], 'r--')\n",
        "plt.xlabel('False positive rate')\n",
        "plt.ylabel('True positive rate')\n",
        "plt.title(\"Receiver operating characteristics\")\n",
        "plt.legend(loc=\"lower right\")"
      ],
      "metadata": {
        "colab": {
          "base_uri": "https://localhost:8080/",
          "height": 312
        },
        "id": "eB4OyfLMUZ3S",
        "outputId": "c04b6647-d2bb-406b-95cd-96d1d1d96017"
      },
      "execution_count": 92,
      "outputs": [
        {
          "output_type": "execute_result",
          "data": {
            "text/plain": [
              "<matplotlib.legend.Legend at 0x7f797b4f6c50>"
            ]
          },
          "metadata": {},
          "execution_count": 92
        },
        {
          "output_type": "display_data",
          "data": {
            "text/plain": [
              "<Figure size 432x288 with 1 Axes>"
            ],
            "image/png": "[encoded data removed]"
          },
          "metadata": {
            "needs_background": "light"
          }
        }
      ]
    },
    {
      "cell_type": "markdown",
      "source": [
        "KNN"
      ],
      "metadata": {
        "id": "yZrGo4ZyU4ef"
      }
    },
    {
      "cell_type": "code",
      "source": [
        "KNN = KNeighborsClassifier()\n",
        "KNN.fit(x_train,y_train)"
      ],
      "metadata": {
        "colab": {
          "base_uri": "https://localhost:8080/"
        },
        "id": "gfJfzCRDUxou",
        "outputId": "a9c12611-72c3-4a13-bc52-1fa1cd09b80d"
      },
      "execution_count": 93,
      "outputs": [
        {
          "output_type": "execute_result",
          "data": {
            "text/plain": [
              "KNeighborsClassifier()"
            ]
          },
          "metadata": {},
          "execution_count": 93
        }
      ]
    },
    {
      "cell_type": "code",
      "source": [
        "#accuracy on training data\n",
        "x_train_prediction = KNN.predict(x_train)\n",
        "training_data_accuracy = accuracy_score(x_train_prediction,y_train)\n",
        "print('Accuracy on training data:',training_data_accuracy)\n",
        "\n",
        "#Accuracy on test data\n",
        "x_test_prediction = KNN.predict(x_test)\n",
        "test_data_accuracy = accuracy_score(x_test_prediction, y_test)\n",
        "print('Accuracy on test data:',test_data_accuracy)"
      ],
      "metadata": {
        "colab": {
          "base_uri": "https://localhost:8080/"
        },
        "id": "0WzYamWwVCr7",
        "outputId": "57935325-8a19-4606-9b1a-74da016bd016"
      },
      "execution_count": 94,
      "outputs": [
        {
          "output_type": "stream",
          "name": "stdout",
          "text": [
            "Accuracy on training data: 0.9893432402205911\n",
            "Accuracy on test data: 0.612582270670506\n"
          ]
        }
      ]
    },
    {
      "cell_type": "code",
      "source": [
        "#printing classification report precision, recall, f1-score   \n",
        "print(classification_report(x_test_prediction, y_test))"
      ],
      "metadata": {
        "colab": {
          "base_uri": "https://localhost:8080/"
        },
        "id": "PnrwvXt0VLcC",
        "outputId": "aa0c2397-97b0-423f-b37d-1ac4f88216e0"
      },
      "execution_count": 95,
      "outputs": [
        {
          "output_type": "stream",
          "name": "stdout",
          "text": [
            "              precision    recall  f1-score   support\n",
            "\n",
            "           0       0.96      0.57      0.71     32911\n",
            "           1       0.27      0.86      0.41      5985\n",
            "\n",
            "    accuracy                           0.61     38896\n",
            "   macro avg       0.61      0.71      0.56     38896\n",
            "weighted avg       0.85      0.61      0.67     38896\n",
            "\n"
          ]
        }
      ]
    },
    {
      "cell_type": "code",
      "source": [
        "# cross validation score\n",
        "scores = cross_val_score(KNN, x_train,y_train,cv=5)\n",
        "print(\"cross-validation_scores: \",scores)\n",
        "print(\"%0.2f accuracy with a standard deviation of %0.2f\" % (scores.mean(), scores.std()))"
      ],
      "metadata": {
        "colab": {
          "base_uri": "https://localhost:8080/"
        },
        "id": "yg6im9bwVQZM",
        "outputId": "adacc9e2-aebe-4292-f9d8-890ca4a63f60"
      },
      "execution_count": 96,
      "outputs": [
        {
          "output_type": "stream",
          "name": "stdout",
          "text": [
            "cross-validation_scores:  [0.97657229 0.97628306 0.97682864 0.97596092 0.97660368]\n",
            "0.98 accuracy with a standard deviation of 0.00\n"
          ]
        }
      ]
    },
    {
      "cell_type": "code",
      "source": [
        "#checking the confusion matrix\n",
        "cm = confusion_matrix(x_test_prediction, y_test)\n",
        "print(cm)"
      ],
      "metadata": {
        "colab": {
          "base_uri": "https://localhost:8080/"
        },
        "id": "oCahfuqRVXHS",
        "outputId": "6abc40a3-86ec-4124-c9ca-11a81a5d2328"
      },
      "execution_count": 97,
      "outputs": [
        {
          "output_type": "stream",
          "name": "stdout",
          "text": [
            "[[18674 14237]\n",
            " [  832  5153]]\n"
          ]
        }
      ]
    },
    {
      "cell_type": "code",
      "source": [
        "#plotting the confusion matrix\n",
        "sns.heatmap(cm, annot=True, cmap='YlGnBu', fmt='d')"
      ],
      "metadata": {
        "colab": {
          "base_uri": "https://localhost:8080/",
          "height": 282
        },
        "id": "369iUxXZVj80",
        "outputId": "97666775-2458-47d6-c1bd-17ba4733448c"
      },
      "execution_count": 98,
      "outputs": [
        {
          "output_type": "execute_result",
          "data": {
            "text/plain": [
              "<matplotlib.axes._subplots.AxesSubplot at 0x7f797bac33d0>"
            ]
          },
          "metadata": {},
          "execution_count": 98
        },
        {
          "output_type": "display_data",
          "data": {
            "text/plain": [
              "<Figure size 432x288 with 2 Axes>"
            ],
            "image/png": "[encoded data removed]"
          },
          "metadata": {
            "needs_background": "light"
          }
        }
      ]
    },
    {
      "cell_type": "code",
      "source": [
        "#calculating the predicted probability for k-nearesr neighbor\n",
        "y_hat = KNN.predict_proba(x_test)[:,1]\n",
        "\n",
        "#defining thresold score\n",
        "thresholds = np.linspace(0,1,100)\n",
        "\n",
        "#defining fpr and tpr\n",
        "fpr, tpr, thresold = roc_curve(y_test, y_hat)\n",
        "\n",
        "#roc_auc_score\n",
        "KNN_roc_auc = roc_auc_score(y_test, KNN.predict(x_test))\n",
        "KNN_roc_auc"
      ],
      "metadata": {
        "colab": {
          "base_uri": "https://localhost:8080/"
        },
        "id": "8F2kgfSgVoD6",
        "outputId": "88fc6055-4246-4aee-bbb7-db4669bd4793"
      },
      "execution_count": 99,
      "outputs": [
        {
          "output_type": "execute_result",
          "data": {
            "text/plain": [
              "0.6115510007975753"
            ]
          },
          "metadata": {},
          "execution_count": 99
        }
      ]
    },
    {
      "cell_type": "code",
      "source": [
        "# plotting the roc curve\n",
        "plt.figure()\n",
        "plt.plot(fpr, tpr, label='K Nearest Neighbors (senstivity = %0.2f)',color='g' %KNN_roc_auc)\n",
        "plt.plot([0,1],[0,1], 'b--')\n",
        "plt.xlabel('False positive rate')\n",
        "plt.ylabel('True positive rate')\n",
        "plt.title(\"Receiver operating characteristics\")\n",
        "plt.legend(loc=\"lower right\")"
      ],
      "metadata": {
        "colab": {
          "base_uri": "https://localhost:8080/",
          "height": 312
        },
        "id": "k51sSL60Vznj",
        "outputId": "ba78ae48-74a3-4ff6-de6b-66a51afdde97"
      },
      "execution_count": 100,
      "outputs": [
        {
          "output_type": "execute_result",
          "data": {
            "text/plain": [
              "<matplotlib.legend.Legend at 0x7f797bb65f90>"
            ]
          },
          "metadata": {},
          "execution_count": 100
        },
        {
          "output_type": "display_data",
          "data": {
            "text/plain": [
              "<Figure size 432x288 with 1 Axes>"
            ],
            "image/png": "[encoded data removed]"
          },
          "metadata": {
            "needs_background": "light"
          }
        }
      ]
    },
    {
      "cell_type": "markdown",
      "source": [
        "Hyper Parameter Tuning"
      ],
      "metadata": {
        "id": "iSUy681e2XpW"
      }
    },
    {
      "cell_type": "code",
      "source": [
        "n_estimators = [int(x) for x in np.linspace(start=40, stop=150, num=15)]\n",
        "max_depth = [int(x) for x in np.linspace(40, 150, num=15)]\n",
        "\n",
        "param_dist = {\n",
        "    'n_estimators': n_estimators,\n",
        "    'max_depth': max_depth,\n",
        "}\n",
        "\n",
        "RF_tuned = RandomForestClassifier(random_state=42)\n",
        "\n",
        "RF_cv = RandomizedSearchCV(\n",
        "    estimator=RF_tuned, param_distributions=param_dist, cv=5, random_state=42)\n",
        "\n",
        "RF_cv.fit(x_train, y_train)"
      ],
      "metadata": {
        "id": "9p8ZlfEPWCcC",
        "colab": {
          "base_uri": "https://localhost:8080/"
        },
        "outputId": "90724679-25b2-4a52-ef26-b6dca433e19c"
      },
      "execution_count": 101,
      "outputs": [
        {
          "output_type": "execute_result",
          "data": {
            "text/plain": [
              "RandomizedSearchCV(cv=5, estimator=RandomForestClassifier(random_state=42),\n",
              "                   param_distributions={'max_depth': [40, 47, 55, 63, 71, 79,\n",
              "                                                      87, 95, 102, 110, 118,\n",
              "                                                      126, 134, 142, 150],\n",
              "                                        'n_estimators': [40, 47, 55, 63, 71, 79,\n",
              "                                                         87, 95, 102, 110, 118,\n",
              "                                                         126, 134, 142, 150]},\n",
              "                   random_state=42)"
            ]
          },
          "metadata": {},
          "execution_count": 101
        }
      ]
    },
    {
      "cell_type": "code",
      "source": [
        "print(\"Best score: \", RF_cv.best_score_)\n",
        "print(\"Best parameters: \", RF_cv.best_params_)"
      ],
      "metadata": {
        "colab": {
          "base_uri": "https://localhost:8080/"
        },
        "id": "wvPTf5sJ2flR",
        "outputId": "21a6f214-abe9-42ee-9589-ba68b86f47fa"
      },
      "execution_count": 102,
      "outputs": [
        {
          "output_type": "stream",
          "name": "stdout",
          "text": [
            "Best score:  0.9971397750507611\n",
            "Best parameters:  {'n_estimators': 110, 'max_depth': 40}\n"
          ]
        }
      ]
    },
    {
      "cell_type": "code",
      "source": [
        "RF_best = RandomForestClassifier(\n",
        "    max_depth=102, n_estimators=40, random_state=42)"
      ],
      "metadata": {
        "id": "X9lCjUidXyYu"
      },
      "execution_count": 103,
      "outputs": []
    },
    {
      "cell_type": "code",
      "source": [
        "RF_best.fit(x_train, y_train)"
      ],
      "metadata": {
        "colab": {
          "base_uri": "https://localhost:8080/"
        },
        "id": "PSp1fU_QdUlH",
        "outputId": "e7ad5d79-be13-4d23-82ab-57992ac1d627"
      },
      "execution_count": 104,
      "outputs": [
        {
          "output_type": "execute_result",
          "data": {
            "text/plain": [
              "RandomForestClassifier(max_depth=102, n_estimators=40, random_state=42)"
            ]
          },
          "metadata": {},
          "execution_count": 104
        }
      ]
    },
    {
      "cell_type": "code",
      "source": [
        "#accuracy on training data\n",
        "x_train_prediction = RF_best.predict(x_train)\n",
        "training_data_accuracy = accuracy_score(x_train_prediction,y_train)\n",
        "print('Accuracy on training data:',training_data_accuracy)\n",
        "\n",
        "#Accuracy on test data\n",
        "x_test_prediction = RF_best.predict(x_test)\n",
        "test_data_accuracy = accuracy_score(x_test_prediction, y_test)\n",
        "print('Accuracy on test data:',test_data_accuracy)"
      ],
      "metadata": {
        "colab": {
          "base_uri": "https://localhost:8080/"
        },
        "id": "vuyC_d10dXSm",
        "outputId": "e6eb04d5-1190-46c8-e0a1-6d8169275a89"
      },
      "execution_count": 105,
      "outputs": [
        {
          "output_type": "stream",
          "name": "stdout",
          "text": [
            "Accuracy on training data: 0.9998521679885848\n",
            "Accuracy on test data: 0.8976244343891403\n"
          ]
        }
      ]
    },
    {
      "cell_type": "code",
      "source": [
        "#printing classification report precision, recall, f1-score   \n",
        "print(classification_report(x_test_prediction, y_test))"
      ],
      "metadata": {
        "colab": {
          "base_uri": "https://localhost:8080/"
        },
        "id": "AXdtWDuudce7",
        "outputId": "7ae21ab9-b620-4f9b-ecbe-1d79269e109a"
      },
      "execution_count": 106,
      "outputs": [
        {
          "output_type": "stream",
          "name": "stdout",
          "text": [
            "              precision    recall  f1-score   support\n",
            "\n",
            "           0       1.00      0.83      0.91     23358\n",
            "           1       0.80      1.00      0.89     15538\n",
            "\n",
            "    accuracy                           0.90     38896\n",
            "   macro avg       0.90      0.91      0.90     38896\n",
            "weighted avg       0.92      0.90      0.90     38896\n",
            "\n"
          ]
        }
      ]
    },
    {
      "cell_type": "code",
      "source": [],
      "metadata": {
        "id": "rT7JpDtzjb9e"
      },
      "execution_count": 106,
      "outputs": []
    }
  ]
}