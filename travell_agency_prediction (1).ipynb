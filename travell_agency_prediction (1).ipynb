{
  "nbformat": 4,
  "nbformat_minor": 0,
  "metadata": {
    "colab": {
      "provenance": [],
      "collapsed_sections": []
    },
    "kernelspec": {
      "name": "python3",
      "display_name": "Python 3"
    },
    "language_info": {
      "name": "python"
    }
  },
  "cells": [
    {
      "cell_type": "code",
      "source": [
        "#importing the libraries\n",
        "import numpy as np \n",
        "import pandas as pd\n",
        "import matplotlib.pyplot as plt\n",
        "import seaborn as sns\n",
        "import xgboost as xgb\n",
        "from sklearn.linear_model import LogisticRegression\n",
        "from sklearn.model_selection import train_test_split, cross_val_score,  RandomizedSearchCV\n",
        "from sklearn.metrics import accuracy_score, confusion_matrix, classification_report, roc_auc_score, roc_curve\n",
        "from sklearn.naive_bayes import GaussianNB\n",
        "from sklearn.tree import DecisionTreeClassifier\n",
        "from sklearn.ensemble import RandomForestClassifier\n",
        "from sklearn.neighbors import KNeighborsClassifier\n",
        "from sklearn.decomposition import PCA\n",
        "from sklearn.cluster import KMeans\n",
        "from sklearn.feature_selection import SelectKBest, chi2\n",
        "from imblearn.over_sampling import RandomOverSampler\n",
        "from sklearn.preprocessing import MinMaxScaler\n",
        "import warnings\n",
        "warnings.simplefilter('ignore')\n"
      ],
      "metadata": {
        "id": "Vi99da_ecjyp"
      },
      "execution_count": 1,
      "outputs": []
    },
    {
      "cell_type": "code",
      "source": [
        "#reading the first five rows\n",
        "df=pd.read_csv(\"/content/drive/MyDrive/train_small.csv\", nrows=100000)\n",
        "df.head()"
      ],
      "metadata": {
        "colab": {
          "base_uri": "https://localhost:8080/",
          "height": 473
        },
        "id": "5cM3-YvSSvZJ",
        "outputId": "4f66a1b0-00c5-41dd-9faa-2cd211dc06a2"
      },
      "execution_count": 2,
      "outputs": [
        {
          "output_type": "execute_result",
          "data": {
            "text/plain": [
              "   search_id            timestamp  site_id  user_country_id  user_hist_stars  \\\n",
              "0          4  2012-12-31 08:59:22        5              219              NaN   \n",
              "1          4  2012-12-31 08:59:22        5              219              NaN   \n",
              "2          4  2012-12-31 08:59:22        5              219              NaN   \n",
              "3          4  2012-12-31 08:59:22        5              219              NaN   \n",
              "4          4  2012-12-31 08:59:22        5              219              NaN   \n",
              "\n",
              "   user_hist_paid  listing_country_id  listing_id  listing_stars  \\\n",
              "0             NaN                 219        3625              4   \n",
              "1             NaN                 219       11622              4   \n",
              "2             NaN                 219       11826              5   \n",
              "3             NaN                 219       22824              3   \n",
              "4             NaN                 219       37581              5   \n",
              "\n",
              "   listing_review_score  ...  competitor6_price_percent_diff  \\\n",
              "0                   4.0  ...                             NaN   \n",
              "1                   4.0  ...                             NaN   \n",
              "2                   4.5  ...                             NaN   \n",
              "3                   4.0  ...                             NaN   \n",
              "4                   4.5  ...                             NaN   \n",
              "\n",
              "   competitor7_rate  competitor7_has_availability  \\\n",
              "0               NaN                           NaN   \n",
              "1               NaN                           NaN   \n",
              "2               NaN                           NaN   \n",
              "3               NaN                           NaN   \n",
              "4               NaN                           NaN   \n",
              "\n",
              "   competitor7_price_percent_diff  competitor8_rate  \\\n",
              "0                             NaN               NaN   \n",
              "1                             NaN               NaN   \n",
              "2                             NaN               NaN   \n",
              "3                             NaN               NaN   \n",
              "4                             NaN               NaN   \n",
              "\n",
              "   competitor8_has_availability  competitor8_price_percent_diff  clicked  \\\n",
              "0                           NaN                             NaN        0   \n",
              "1                           NaN                             NaN        0   \n",
              "2                           NaN                             NaN        0   \n",
              "3                           NaN                             NaN        0   \n",
              "4                           NaN                             NaN        0   \n",
              "\n",
              "   booking_value  booked  \n",
              "0            NaN       0  \n",
              "1            NaN       0  \n",
              "2            NaN       0  \n",
              "3            NaN       0  \n",
              "4            NaN       0  \n",
              "\n",
              "[5 rows x 54 columns]"
            ],
            "text/html": [
              "\n",
              "  <div id=\"df-971c5bf9-9941-414c-89e0-de5f4b7aba96\">\n",
              "    <div class=\"colab-df-container\">\n",
              "      <div>\n",
              "<style scoped>\n",
              "    .dataframe tbody tr th:only-of-type {\n",
              "        vertical-align: middle;\n",
              "    }\n",
              "\n",
              "    .dataframe tbody tr th {\n",
              "        vertical-align: top;\n",
              "    }\n",
              "\n",
              "    .dataframe thead th {\n",
              "        text-align: right;\n",
              "    }\n",
              "</style>\n",
              "<table border=\"1\" class=\"dataframe\">\n",
              "  <thead>\n",
              "    <tr style=\"text-align: right;\">\n",
              "      <th></th>\n",
              "      <th>search_id</th>\n",
              "      <th>timestamp</th>\n",
              "      <th>site_id</th>\n",
              "      <th>user_country_id</th>\n",
              "      <th>user_hist_stars</th>\n",
              "      <th>user_hist_paid</th>\n",
              "      <th>listing_country_id</th>\n",
              "      <th>listing_id</th>\n",
              "      <th>listing_stars</th>\n",
              "      <th>listing_review_score</th>\n",
              "      <th>...</th>\n",
              "      <th>competitor6_price_percent_diff</th>\n",
              "      <th>competitor7_rate</th>\n",
              "      <th>competitor7_has_availability</th>\n",
              "      <th>competitor7_price_percent_diff</th>\n",
              "      <th>competitor8_rate</th>\n",
              "      <th>competitor8_has_availability</th>\n",
              "      <th>competitor8_price_percent_diff</th>\n",
              "      <th>clicked</th>\n",
              "      <th>booking_value</th>\n",
              "      <th>booked</th>\n",
              "    </tr>\n",
              "  </thead>\n",
              "  <tbody>\n",
              "    <tr>\n",
              "      <th>0</th>\n",
              "      <td>4</td>\n",
              "      <td>2012-12-31 08:59:22</td>\n",
              "      <td>5</td>\n",
              "      <td>219</td>\n",
              "      <td>NaN</td>\n",
              "      <td>NaN</td>\n",
              "      <td>219</td>\n",
              "      <td>3625</td>\n",
              "      <td>4</td>\n",
              "      <td>4.0</td>\n",
              "      <td>...</td>\n",
              "      <td>NaN</td>\n",
              "      <td>NaN</td>\n",
              "      <td>NaN</td>\n",
              "      <td>NaN</td>\n",
              "      <td>NaN</td>\n",
              "      <td>NaN</td>\n",
              "      <td>NaN</td>\n",
              "      <td>0</td>\n",
              "      <td>NaN</td>\n",
              "      <td>0</td>\n",
              "    </tr>\n",
              "    <tr>\n",
              "      <th>1</th>\n",
              "      <td>4</td>\n",
              "      <td>2012-12-31 08:59:22</td>\n",
              "      <td>5</td>\n",
              "      <td>219</td>\n",
              "      <td>NaN</td>\n",
              "      <td>NaN</td>\n",
              "      <td>219</td>\n",
              "      <td>11622</td>\n",
              "      <td>4</td>\n",
              "      <td>4.0</td>\n",
              "      <td>...</td>\n",
              "      <td>NaN</td>\n",
              "      <td>NaN</td>\n",
              "      <td>NaN</td>\n",
              "      <td>NaN</td>\n",
              "      <td>NaN</td>\n",
              "      <td>NaN</td>\n",
              "      <td>NaN</td>\n",
              "      <td>0</td>\n",
              "      <td>NaN</td>\n",
              "      <td>0</td>\n",
              "    </tr>\n",
              "    <tr>\n",
              "      <th>2</th>\n",
              "      <td>4</td>\n",
              "      <td>2012-12-31 08:59:22</td>\n",
              "      <td>5</td>\n",
              "      <td>219</td>\n",
              "      <td>NaN</td>\n",
              "      <td>NaN</td>\n",
              "      <td>219</td>\n",
              "      <td>11826</td>\n",
              "      <td>5</td>\n",
              "      <td>4.5</td>\n",
              "      <td>...</td>\n",
              "      <td>NaN</td>\n",
              "      <td>NaN</td>\n",
              "      <td>NaN</td>\n",
              "      <td>NaN</td>\n",
              "      <td>NaN</td>\n",
              "      <td>NaN</td>\n",
              "      <td>NaN</td>\n",
              "      <td>0</td>\n",
              "      <td>NaN</td>\n",
              "      <td>0</td>\n",
              "    </tr>\n",
              "    <tr>\n",
              "      <th>3</th>\n",
              "      <td>4</td>\n",
              "      <td>2012-12-31 08:59:22</td>\n",
              "      <td>5</td>\n",
              "      <td>219</td>\n",
              "      <td>NaN</td>\n",
              "      <td>NaN</td>\n",
              "      <td>219</td>\n",
              "      <td>22824</td>\n",
              "      <td>3</td>\n",
              "      <td>4.0</td>\n",
              "      <td>...</td>\n",
              "      <td>NaN</td>\n",
              "      <td>NaN</td>\n",
              "      <td>NaN</td>\n",
              "      <td>NaN</td>\n",
              "      <td>NaN</td>\n",
              "      <td>NaN</td>\n",
              "      <td>NaN</td>\n",
              "      <td>0</td>\n",
              "      <td>NaN</td>\n",
              "      <td>0</td>\n",
              "    </tr>\n",
              "    <tr>\n",
              "      <th>4</th>\n",
              "      <td>4</td>\n",
              "      <td>2012-12-31 08:59:22</td>\n",
              "      <td>5</td>\n",
              "      <td>219</td>\n",
              "      <td>NaN</td>\n",
              "      <td>NaN</td>\n",
              "      <td>219</td>\n",
              "      <td>37581</td>\n",
              "      <td>5</td>\n",
              "      <td>4.5</td>\n",
              "      <td>...</td>\n",
              "      <td>NaN</td>\n",
              "      <td>NaN</td>\n",
              "      <td>NaN</td>\n",
              "      <td>NaN</td>\n",
              "      <td>NaN</td>\n",
              "      <td>NaN</td>\n",
              "      <td>NaN</td>\n",
              "      <td>0</td>\n",
              "      <td>NaN</td>\n",
              "      <td>0</td>\n",
              "    </tr>\n",
              "  </tbody>\n",
              "</table>\n",
              "<p>5 rows × 54 columns</p>\n",
              "</div>\n",
              "      <button class=\"colab-df-convert\" onclick=\"convertToInteractive('df-971c5bf9-9941-414c-89e0-de5f4b7aba96')\"\n",
              "              title=\"Convert this dataframe to an interactive table.\"\n",
              "              style=\"display:none;\">\n",
              "        \n",
              "  <svg xmlns=\"http://www.w3.org/2000/svg\" height=\"24px\"viewBox=\"0 0 24 24\"\n",
              "       width=\"24px\">\n",
              "    <path d=\"M0 0h24v24H0V0z\" fill=\"none\"/>\n",
              "    <path d=\"M18.56 5.44l.94 2.06.94-2.06 2.06-.94-2.06-.94-.94-2.06-.94 2.06-2.06.94zm-11 1L8.5 8.5l.94-2.06 2.06-.94-2.06-.94L8.5 2.5l-.94 2.06-2.06.94zm10 10l.94 2.06.94-2.06 2.06-.94-2.06-.94-.94-2.06-.94 2.06-2.06.94z\"/><path d=\"M17.41 7.96l-1.37-1.37c-.4-.4-.92-.59-1.43-.59-.52 0-1.04.2-1.43.59L10.3 9.45l-7.72 7.72c-.78.78-.78 2.05 0 2.83L4 21.41c.39.39.9.59 1.41.59.51 0 1.02-.2 1.41-.59l7.78-7.78 2.81-2.81c.8-.78.8-2.07 0-2.86zM5.41 20L4 18.59l7.72-7.72 1.47 1.35L5.41 20z\"/>\n",
              "  </svg>\n",
              "      </button>\n",
              "      \n",
              "  <style>\n",
              "    .colab-df-container {\n",
              "      display:flex;\n",
              "      flex-wrap:wrap;\n",
              "      gap: 12px;\n",
              "    }\n",
              "\n",
              "    .colab-df-convert {\n",
              "      background-color: #E8F0FE;\n",
              "      border: none;\n",
              "      border-radius: 50%;\n",
              "      cursor: pointer;\n",
              "      display: none;\n",
              "      fill: #1967D2;\n",
              "      height: 32px;\n",
              "      padding: 0 0 0 0;\n",
              "      width: 32px;\n",
              "    }\n",
              "\n",
              "    .colab-df-convert:hover {\n",
              "      background-color: #E2EBFA;\n",
              "      box-shadow: 0px 1px 2px rgba(60, 64, 67, 0.3), 0px 1px 3px 1px rgba(60, 64, 67, 0.15);\n",
              "      fill: #174EA6;\n",
              "    }\n",
              "\n",
              "    [theme=dark] .colab-df-convert {\n",
              "      background-color: #3B4455;\n",
              "      fill: #D2E3FC;\n",
              "    }\n",
              "\n",
              "    [theme=dark] .colab-df-convert:hover {\n",
              "      background-color: #434B5C;\n",
              "      box-shadow: 0px 1px 3px 1px rgba(0, 0, 0, 0.15);\n",
              "      filter: drop-shadow(0px 1px 2px rgba(0, 0, 0, 0.3));\n",
              "      fill: #FFFFFF;\n",
              "    }\n",
              "  </style>\n",
              "\n",
              "      <script>\n",
              "        const buttonEl =\n",
              "          document.querySelector('#df-971c5bf9-9941-414c-89e0-de5f4b7aba96 button.colab-df-convert');\n",
              "        buttonEl.style.display =\n",
              "          google.colab.kernel.accessAllowed ? 'block' : 'none';\n",
              "\n",
              "        async function convertToInteractive(key) {\n",
              "          const element = document.querySelector('#df-971c5bf9-9941-414c-89e0-de5f4b7aba96');\n",
              "          const dataTable =\n",
              "            await google.colab.kernel.invokeFunction('convertToInteractive',\n",
              "                                                     [key], {});\n",
              "          if (!dataTable) return;\n",
              "\n",
              "          const docLinkHtml = 'Like what you see? Visit the ' +\n",
              "            '<a target=\"_blank\" href=https://colab.research.google.com/notebooks/data_table.ipynb>data table notebook</a>'\n",
              "            + ' to learn more about interactive tables.';\n",
              "          element.innerHTML = '';\n",
              "          dataTable['output_type'] = 'display_data';\n",
              "          await google.colab.output.renderOutput(dataTable, element);\n",
              "          const docLink = document.createElement('div');\n",
              "          docLink.innerHTML = docLinkHtml;\n",
              "          element.appendChild(docLink);\n",
              "        }\n",
              "      </script>\n",
              "    </div>\n",
              "  </div>\n",
              "  "
            ]
          },
          "metadata": {},
          "execution_count": 2
        }
      ]
    },
    {
      "cell_type": "code",
      "source": [
        "#checking the diamention of the dataset\n",
        "df.shape"
      ],
      "metadata": {
        "colab": {
          "base_uri": "https://localhost:8080/"
        },
        "id": "Jl2y6bhaWsi9",
        "outputId": "15d5a9da-2cd2-412f-e830-24ca9132162e"
      },
      "execution_count": 3,
      "outputs": [
        {
          "output_type": "execute_result",
          "data": {
            "text/plain": [
              "(100000, 54)"
            ]
          },
          "metadata": {},
          "execution_count": 3
        }
      ]
    },
    {
      "cell_type": "code",
      "source": [
        "# printing the numbeer of columns\n",
        "df.columns"
      ],
      "metadata": {
        "colab": {
          "base_uri": "https://localhost:8080/"
        },
        "id": "9BcyoXIl88O-",
        "outputId": "1f77f758-74c7-410d-c7c8-dcd170578cd1"
      },
      "execution_count": 4,
      "outputs": [
        {
          "output_type": "execute_result",
          "data": {
            "text/plain": [
              "Index(['search_id', 'timestamp', 'site_id', 'user_country_id',\n",
              "       'user_hist_stars', 'user_hist_paid', 'listing_country_id', 'listing_id',\n",
              "       'listing_stars', 'listing_review_score', 'is_brand', 'location_score1',\n",
              "       'location_score2', 'log_historical_price', 'listing_position',\n",
              "       'price_usd', 'has_promotion', 'destination_id', 'length_of_stay',\n",
              "       'booking_window', 'num_adults', 'num_kids', 'num_rooms',\n",
              "       'stay_on_saturday', 'log_click_proportion', 'distance_to_dest',\n",
              "       'random_sort', 'competitor1_rate', 'competitor1_has_availability',\n",
              "       'competitor1_price_percent_diff', 'competitor2_rate',\n",
              "       'competitor2_has_availability', 'competitor2_price_percent_diff',\n",
              "       'competitor3_rate', 'competitor3_has_availability',\n",
              "       'competitor3_price_percent_diff', 'competitor4_rate',\n",
              "       'competitor4_has_availability', 'competitor4_price_percent_diff',\n",
              "       'competitor5_rate', 'competitor5_has_availability',\n",
              "       'competitor5_price_percent_diff', 'competitor6_rate',\n",
              "       'competitor6_has_availability', 'competitor6_price_percent_diff',\n",
              "       'competitor7_rate', 'competitor7_has_availability',\n",
              "       'competitor7_price_percent_diff', 'competitor8_rate',\n",
              "       'competitor8_has_availability', 'competitor8_price_percent_diff',\n",
              "       'clicked', 'booking_value', 'booked'],\n",
              "      dtype='object')"
            ]
          },
          "metadata": {},
          "execution_count": 4
        }
      ]
    },
    {
      "cell_type": "code",
      "source": [
        "#checking the missing values\n",
        "df.isnull().sum()/len(df)*100"
      ],
      "metadata": {
        "colab": {
          "base_uri": "https://localhost:8080/"
        },
        "id": "mB1txqTp8uZL",
        "outputId": "26a2ea4d-69c4-40b6-dc1b-ff05729c465a"
      },
      "execution_count": 6,
      "outputs": [
        {
          "output_type": "execute_result",
          "data": {
            "text/plain": [
              "search_id                          0.000\n",
              "timestamp                          0.000\n",
              "site_id                            0.000\n",
              "user_country_id                    0.000\n",
              "user_hist_stars                   94.619\n",
              "user_hist_paid                    94.619\n",
              "listing_country_id                 0.000\n",
              "listing_id                         0.000\n",
              "listing_stars                      0.000\n",
              "listing_review_score               0.130\n",
              "is_brand                           0.000\n",
              "location_score1                    0.000\n",
              "location_score2                   21.442\n",
              "log_historical_price               0.000\n",
              "listing_position                   0.000\n",
              "price_usd                          0.000\n",
              "has_promotion                      0.000\n",
              "destination_id                     0.000\n",
              "length_of_stay                     0.000\n",
              "booking_window                     0.000\n",
              "num_adults                         0.000\n",
              "num_kids                           0.000\n",
              "num_rooms                          0.000\n",
              "stay_on_saturday                   0.000\n",
              "log_click_proportion              93.881\n",
              "distance_to_dest                  32.666\n",
              "random_sort                        0.000\n",
              "competitor1_rate                  97.017\n",
              "competitor1_has_availability      96.813\n",
              "competitor1_price_percent_diff    97.604\n",
              "competitor2_rate                  59.705\n",
              "competitor2_has_availability      57.617\n",
              "competitor2_price_percent_diff    89.058\n",
              "competitor3_rate                  69.102\n",
              "competitor3_has_availability      66.864\n",
              "competitor3_price_percent_diff    90.303\n",
              "competitor4_rate                  93.495\n",
              "competitor4_has_availability      92.770\n",
              "competitor4_price_percent_diff    97.301\n",
              "competitor5_rate                  55.243\n",
              "competitor5_has_availability      52.624\n",
              "competitor5_price_percent_diff    83.346\n",
              "competitor6_rate                  94.249\n",
              "competitor6_has_availability      93.736\n",
              "competitor6_price_percent_diff    97.733\n",
              "competitor7_rate                  92.782\n",
              "competitor7_has_availability      91.791\n",
              "competitor7_price_percent_diff    96.942\n",
              "competitor8_rate                  62.271\n",
              "competitor8_has_availability      60.879\n",
              "competitor8_price_percent_diff    87.763\n",
              "clicked                            0.000\n",
              "booking_value                     97.239\n",
              "booked                             0.000\n",
              "dtype: float64"
            ]
          },
          "metadata": {},
          "execution_count": 6
        }
      ]
    },
    {
      "cell_type": "code",
      "source": [
        "#converting string into date time column\n",
        "df['timestamp']=pd.to_datetime(df['timestamp'])\n",
        "df['timestamp']\n"
      ],
      "metadata": {
        "colab": {
          "base_uri": "https://localhost:8080/"
        },
        "id": "tzxRypqNkLy8",
        "outputId": "80285bd8-605f-4555-bd6b-a10b9ccc0a4e"
      },
      "execution_count": null,
      "outputs": [
        {
          "output_type": "execute_result",
          "data": {
            "text/plain": [
              "0       2012-12-31 08:59:22\n",
              "1       2012-12-31 08:59:22\n",
              "2       2012-12-31 08:59:22\n",
              "3       2012-12-31 08:59:22\n",
              "4       2012-12-31 08:59:22\n",
              "                ...        \n",
              "99995   2012-11-16 21:40:08\n",
              "99996   2012-11-16 21:40:08\n",
              "99997   2012-11-16 21:40:08\n",
              "99998   2012-11-16 21:40:08\n",
              "99999   2012-11-16 21:40:08\n",
              "Name: timestamp, Length: 100000, dtype: datetime64[ns]"
            ]
          },
          "metadata": {},
          "execution_count": 6
        }
      ]
    },
    {
      "cell_type": "code",
      "source": [
        "#extracting year from timestamp\n",
        "df['year'] = pd.to_datetime(df['timestamp']).dt.year\n",
        "df['year']"
      ],
      "metadata": {
        "colab": {
          "base_uri": "https://localhost:8080/"
        },
        "id": "uqG2Z1hRoH_0",
        "outputId": "fb9e079f-847b-41e8-a396-dfac48faf3bd"
      },
      "execution_count": null,
      "outputs": [
        {
          "output_type": "execute_result",
          "data": {
            "text/plain": [
              "0        2012\n",
              "1        2012\n",
              "2        2012\n",
              "3        2012\n",
              "4        2012\n",
              "         ... \n",
              "99995    2012\n",
              "99996    2012\n",
              "99997    2012\n",
              "99998    2012\n",
              "99999    2012\n",
              "Name: year, Length: 100000, dtype: int64"
            ]
          },
          "metadata": {},
          "execution_count": 7
        }
      ]
    },
    {
      "cell_type": "code",
      "source": [
        "#extracting month from timestamp\n",
        "df['month'] = pd.to_datetime(df['timestamp']).dt.month\n",
        "df['month']"
      ],
      "metadata": {
        "colab": {
          "base_uri": "https://localhost:8080/"
        },
        "id": "6CoFWSrdojmD",
        "outputId": "7d0a8663-d9d9-44cb-f0d9-9545774c769a"
      },
      "execution_count": null,
      "outputs": [
        {
          "output_type": "execute_result",
          "data": {
            "text/plain": [
              "0        12\n",
              "1        12\n",
              "2        12\n",
              "3        12\n",
              "4        12\n",
              "         ..\n",
              "99995    11\n",
              "99996    11\n",
              "99997    11\n",
              "99998    11\n",
              "99999    11\n",
              "Name: month, Length: 100000, dtype: int64"
            ]
          },
          "metadata": {},
          "execution_count": 8
        }
      ]
    },
    {
      "cell_type": "code",
      "source": [
        "# dropping the irrelevant columns\n",
        "col=['booking_value', 'log_click_proportion','timestamp','search_id','site_id', 'user_country_id', 'user_hist_stars', 'user_hist_paid','listing_country_id',\n",
        "     'listing_id', 'listing_stars','listing_review_score','location_score1','location_score2', 'log_historical_price', 'listing_position',\n",
        "     'destination_id', 'length_of_stay','distance_to_dest','competitor1_rate', 'competitor1_has_availability','competitor1_price_percent_diff',\n",
        "     'competitor2_rate','competitor2_has_availability', 'competitor2_price_percent_diff','competitor3_rate','competitor3_has_availability',\n",
        "     'competitor3_price_percent_diff', 'competitor4_rate','competitor4_has_availability', 'competitor4_price_percent_diff',\n",
        "       'competitor5_rate', 'competitor5_has_availability','competitor5_price_percent_diff', 'competitor6_rate','competitor6_has_availability', \n",
        "     'competitor6_price_percent_diff','competitor7_rate', 'competitor7_has_availability','competitor7_price_percent_diff', 'competitor8_rate',\n",
        "     'competitor8_has_availability', 'competitor8_price_percent_diff']\n",
        "df = df.drop(col, axis=1)"
      ],
      "metadata": {
        "id": "eTF4D8a7oV9a"
      },
      "execution_count": null,
      "outputs": []
    },
    {
      "cell_type": "code",
      "source": [
        "df.head()"
      ],
      "metadata": {
        "colab": {
          "base_uri": "https://localhost:8080/",
          "height": 270
        },
        "id": "H1upl-cXweQE",
        "outputId": "aaba8018-3813-4cd8-a06f-47cbee562626"
      },
      "execution_count": null,
      "outputs": [
        {
          "output_type": "execute_result",
          "data": {
            "text/plain": [
              "   is_brand  price_usd  has_promotion  booking_window  num_adults  num_kids  \\\n",
              "0         0      295.0              0              46           1         0   \n",
              "1         0      299.0              0              46           1         0   \n",
              "2         1      373.0              1              46           1         0   \n",
              "3         0      329.0              0              46           1         0   \n",
              "4         0      600.0              0              46           1         0   \n",
              "\n",
              "   num_rooms  stay_on_saturday  random_sort  clicked  booked  year  month  \n",
              "0          1                 1            1        0       0  2012     12  \n",
              "1          1                 1            1        0       0  2012     12  \n",
              "2          1                 1            1        0       0  2012     12  \n",
              "3          1                 1            1        0       0  2012     12  \n",
              "4          1                 1            1        0       0  2012     12  "
            ],
            "text/html": [
              "\n",
              "  <div id=\"df-b107c573-a007-4523-bd06-eced684dc423\">\n",
              "    <div class=\"colab-df-container\">\n",
              "      <div>\n",
              "<style scoped>\n",
              "    .dataframe tbody tr th:only-of-type {\n",
              "        vertical-align: middle;\n",
              "    }\n",
              "\n",
              "    .dataframe tbody tr th {\n",
              "        vertical-align: top;\n",
              "    }\n",
              "\n",
              "    .dataframe thead th {\n",
              "        text-align: right;\n",
              "    }\n",
              "</style>\n",
              "<table border=\"1\" class=\"dataframe\">\n",
              "  <thead>\n",
              "    <tr style=\"text-align: right;\">\n",
              "      <th></th>\n",
              "      <th>is_brand</th>\n",
              "      <th>price_usd</th>\n",
              "      <th>has_promotion</th>\n",
              "      <th>booking_window</th>\n",
              "      <th>num_adults</th>\n",
              "      <th>num_kids</th>\n",
              "      <th>num_rooms</th>\n",
              "      <th>stay_on_saturday</th>\n",
              "      <th>random_sort</th>\n",
              "      <th>clicked</th>\n",
              "      <th>booked</th>\n",
              "      <th>year</th>\n",
              "      <th>month</th>\n",
              "    </tr>\n",
              "  </thead>\n",
              "  <tbody>\n",
              "    <tr>\n",
              "      <th>0</th>\n",
              "      <td>0</td>\n",
              "      <td>295.0</td>\n",
              "      <td>0</td>\n",
              "      <td>46</td>\n",
              "      <td>1</td>\n",
              "      <td>0</td>\n",
              "      <td>1</td>\n",
              "      <td>1</td>\n",
              "      <td>1</td>\n",
              "      <td>0</td>\n",
              "      <td>0</td>\n",
              "      <td>2012</td>\n",
              "      <td>12</td>\n",
              "    </tr>\n",
              "    <tr>\n",
              "      <th>1</th>\n",
              "      <td>0</td>\n",
              "      <td>299.0</td>\n",
              "      <td>0</td>\n",
              "      <td>46</td>\n",
              "      <td>1</td>\n",
              "      <td>0</td>\n",
              "      <td>1</td>\n",
              "      <td>1</td>\n",
              "      <td>1</td>\n",
              "      <td>0</td>\n",
              "      <td>0</td>\n",
              "      <td>2012</td>\n",
              "      <td>12</td>\n",
              "    </tr>\n",
              "    <tr>\n",
              "      <th>2</th>\n",
              "      <td>1</td>\n",
              "      <td>373.0</td>\n",
              "      <td>1</td>\n",
              "      <td>46</td>\n",
              "      <td>1</td>\n",
              "      <td>0</td>\n",
              "      <td>1</td>\n",
              "      <td>1</td>\n",
              "      <td>1</td>\n",
              "      <td>0</td>\n",
              "      <td>0</td>\n",
              "      <td>2012</td>\n",
              "      <td>12</td>\n",
              "    </tr>\n",
              "    <tr>\n",
              "      <th>3</th>\n",
              "      <td>0</td>\n",
              "      <td>329.0</td>\n",
              "      <td>0</td>\n",
              "      <td>46</td>\n",
              "      <td>1</td>\n",
              "      <td>0</td>\n",
              "      <td>1</td>\n",
              "      <td>1</td>\n",
              "      <td>1</td>\n",
              "      <td>0</td>\n",
              "      <td>0</td>\n",
              "      <td>2012</td>\n",
              "      <td>12</td>\n",
              "    </tr>\n",
              "    <tr>\n",
              "      <th>4</th>\n",
              "      <td>0</td>\n",
              "      <td>600.0</td>\n",
              "      <td>0</td>\n",
              "      <td>46</td>\n",
              "      <td>1</td>\n",
              "      <td>0</td>\n",
              "      <td>1</td>\n",
              "      <td>1</td>\n",
              "      <td>1</td>\n",
              "      <td>0</td>\n",
              "      <td>0</td>\n",
              "      <td>2012</td>\n",
              "      <td>12</td>\n",
              "    </tr>\n",
              "  </tbody>\n",
              "</table>\n",
              "</div>\n",
              "      <button class=\"colab-df-convert\" onclick=\"convertToInteractive('df-b107c573-a007-4523-bd06-eced684dc423')\"\n",
              "              title=\"Convert this dataframe to an interactive table.\"\n",
              "              style=\"display:none;\">\n",
              "        \n",
              "  <svg xmlns=\"http://www.w3.org/2000/svg\" height=\"24px\"viewBox=\"0 0 24 24\"\n",
              "       width=\"24px\">\n",
              "    <path d=\"M0 0h24v24H0V0z\" fill=\"none\"/>\n",
              "    <path d=\"M18.56 5.44l.94 2.06.94-2.06 2.06-.94-2.06-.94-.94-2.06-.94 2.06-2.06.94zm-11 1L8.5 8.5l.94-2.06 2.06-.94-2.06-.94L8.5 2.5l-.94 2.06-2.06.94zm10 10l.94 2.06.94-2.06 2.06-.94-2.06-.94-.94-2.06-.94 2.06-2.06.94z\"/><path d=\"M17.41 7.96l-1.37-1.37c-.4-.4-.92-.59-1.43-.59-.52 0-1.04.2-1.43.59L10.3 9.45l-7.72 7.72c-.78.78-.78 2.05 0 2.83L4 21.41c.39.39.9.59 1.41.59.51 0 1.02-.2 1.41-.59l7.78-7.78 2.81-2.81c.8-.78.8-2.07 0-2.86zM5.41 20L4 18.59l7.72-7.72 1.47 1.35L5.41 20z\"/>\n",
              "  </svg>\n",
              "      </button>\n",
              "      \n",
              "  <style>\n",
              "    .colab-df-container {\n",
              "      display:flex;\n",
              "      flex-wrap:wrap;\n",
              "      gap: 12px;\n",
              "    }\n",
              "\n",
              "    .colab-df-convert {\n",
              "      background-color: #E8F0FE;\n",
              "      border: none;\n",
              "      border-radius: 50%;\n",
              "      cursor: pointer;\n",
              "      display: none;\n",
              "      fill: #1967D2;\n",
              "      height: 32px;\n",
              "      padding: 0 0 0 0;\n",
              "      width: 32px;\n",
              "    }\n",
              "\n",
              "    .colab-df-convert:hover {\n",
              "      background-color: #E2EBFA;\n",
              "      box-shadow: 0px 1px 2px rgba(60, 64, 67, 0.3), 0px 1px 3px 1px rgba(60, 64, 67, 0.15);\n",
              "      fill: #174EA6;\n",
              "    }\n",
              "\n",
              "    [theme=dark] .colab-df-convert {\n",
              "      background-color: #3B4455;\n",
              "      fill: #D2E3FC;\n",
              "    }\n",
              "\n",
              "    [theme=dark] .colab-df-convert:hover {\n",
              "      background-color: #434B5C;\n",
              "      box-shadow: 0px 1px 3px 1px rgba(0, 0, 0, 0.15);\n",
              "      filter: drop-shadow(0px 1px 2px rgba(0, 0, 0, 0.3));\n",
              "      fill: #FFFFFF;\n",
              "    }\n",
              "  </style>\n",
              "\n",
              "      <script>\n",
              "        const buttonEl =\n",
              "          document.querySelector('#df-b107c573-a007-4523-bd06-eced684dc423 button.colab-df-convert');\n",
              "        buttonEl.style.display =\n",
              "          google.colab.kernel.accessAllowed ? 'block' : 'none';\n",
              "\n",
              "        async function convertToInteractive(key) {\n",
              "          const element = document.querySelector('#df-b107c573-a007-4523-bd06-eced684dc423');\n",
              "          const dataTable =\n",
              "            await google.colab.kernel.invokeFunction('convertToInteractive',\n",
              "                                                     [key], {});\n",
              "          if (!dataTable) return;\n",
              "\n",
              "          const docLinkHtml = 'Like what you see? Visit the ' +\n",
              "            '<a target=\"_blank\" href=https://colab.research.google.com/notebooks/data_table.ipynb>data table notebook</a>'\n",
              "            + ' to learn more about interactive tables.';\n",
              "          element.innerHTML = '';\n",
              "          dataTable['output_type'] = 'display_data';\n",
              "          await google.colab.output.renderOutput(dataTable, element);\n",
              "          const docLink = document.createElement('div');\n",
              "          docLink.innerHTML = docLinkHtml;\n",
              "          element.appendChild(docLink);\n",
              "        }\n",
              "      </script>\n",
              "    </div>\n",
              "  </div>\n",
              "  "
            ]
          },
          "metadata": {},
          "execution_count": 10
        }
      ]
    },
    {
      "cell_type": "code",
      "source": [
        "# To know more about the datase\n",
        "df.info()"
      ],
      "metadata": {
        "colab": {
          "base_uri": "https://localhost:8080/"
        },
        "id": "DZ7RyUy8Kiev",
        "outputId": "3d0bda43-48f2-450d-cb26-5f666328e3c5"
      },
      "execution_count": null,
      "outputs": [
        {
          "output_type": "stream",
          "name": "stdout",
          "text": [
            "<class 'pandas.core.frame.DataFrame'>\n",
            "RangeIndex: 100000 entries, 0 to 99999\n",
            "Data columns (total 13 columns):\n",
            " #   Column            Non-Null Count   Dtype  \n",
            "---  ------            --------------   -----  \n",
            " 0   is_brand          100000 non-null  int64  \n",
            " 1   price_usd         100000 non-null  float64\n",
            " 2   has_promotion     100000 non-null  int64  \n",
            " 3   booking_window    100000 non-null  int64  \n",
            " 4   num_adults        100000 non-null  int64  \n",
            " 5   num_kids          100000 non-null  int64  \n",
            " 6   num_rooms         100000 non-null  int64  \n",
            " 7   stay_on_saturday  100000 non-null  int64  \n",
            " 8   random_sort       100000 non-null  int64  \n",
            " 9   clicked           100000 non-null  int64  \n",
            " 10  booked            100000 non-null  int64  \n",
            " 11  year              100000 non-null  int64  \n",
            " 12  month             100000 non-null  int64  \n",
            "dtypes: float64(1), int64(12)\n",
            "memory usage: 9.9 MB\n"
          ]
        }
      ]
    },
    {
      "cell_type": "code",
      "source": [
        "# To understand some statistical measurements\n",
        "df.describe()"
      ],
      "metadata": {
        "colab": {
          "base_uri": "https://localhost:8080/",
          "height": 364
        },
        "id": "yzoo2zKrLDTv",
        "outputId": "9ddca270-8a4f-416d-d8af-0c2a6a87532f"
      },
      "execution_count": null,
      "outputs": [
        {
          "output_type": "execute_result",
          "data": {
            "text/plain": [
              "            is_brand      price_usd  has_promotion  booking_window  \\\n",
              "count  100000.000000  100000.000000  100000.000000   100000.000000   \n",
              "mean        0.642680     199.174000       0.215000       36.827360   \n",
              "std         0.479213    2039.638371       0.410824       50.644796   \n",
              "min         0.000000       0.690000       0.000000        0.000000   \n",
              "25%         0.000000      85.340000       0.000000        4.000000   \n",
              "50%         1.000000     123.000000       0.000000       17.000000   \n",
              "75%         1.000000     186.000000       0.000000       47.000000   \n",
              "max         1.000000  258254.510000       1.000000      364.000000   \n",
              "\n",
              "         num_adults       num_kids     num_rooms  stay_on_saturday  \\\n",
              "count  100000.00000  100000.000000  100000.00000     100000.000000   \n",
              "mean        1.95104       0.346130       1.10449          0.502210   \n",
              "std         0.84550       0.709344       0.39874          0.499998   \n",
              "min         1.00000       0.000000       1.00000          0.000000   \n",
              "25%         2.00000       0.000000       1.00000          0.000000   \n",
              "50%         2.00000       0.000000       1.00000          1.000000   \n",
              "75%         2.00000       0.000000       1.00000          1.000000   \n",
              "max         9.00000       6.000000       8.00000          1.000000   \n",
              "\n",
              "         random_sort        clicked         booked           year  \\\n",
              "count  100000.000000  100000.000000  100000.000000  100000.000000   \n",
              "mean        0.299260       0.045320       0.027610    2012.799190   \n",
              "std         0.457936       0.208006       0.163853       0.400608   \n",
              "min         0.000000       0.000000       0.000000    2012.000000   \n",
              "25%         0.000000       0.000000       0.000000    2013.000000   \n",
              "50%         0.000000       0.000000       0.000000    2013.000000   \n",
              "75%         1.000000       0.000000       0.000000    2013.000000   \n",
              "max         1.000000       1.000000       1.000000    2013.000000   \n",
              "\n",
              "               month  \n",
              "count  100000.000000  \n",
              "mean        5.172110  \n",
              "std         3.516324  \n",
              "min         1.000000  \n",
              "25%         3.000000  \n",
              "50%         4.000000  \n",
              "75%         6.000000  \n",
              "max        12.000000  "
            ],
            "text/html": [
              "\n",
              "  <div id=\"df-08dc5a2d-1f97-40af-805d-0d8ae9f5c358\">\n",
              "    <div class=\"colab-df-container\">\n",
              "      <div>\n",
              "<style scoped>\n",
              "    .dataframe tbody tr th:only-of-type {\n",
              "        vertical-align: middle;\n",
              "    }\n",
              "\n",
              "    .dataframe tbody tr th {\n",
              "        vertical-align: top;\n",
              "    }\n",
              "\n",
              "    .dataframe thead th {\n",
              "        text-align: right;\n",
              "    }\n",
              "</style>\n",
              "<table border=\"1\" class=\"dataframe\">\n",
              "  <thead>\n",
              "    <tr style=\"text-align: right;\">\n",
              "      <th></th>\n",
              "      <th>is_brand</th>\n",
              "      <th>price_usd</th>\n",
              "      <th>has_promotion</th>\n",
              "      <th>booking_window</th>\n",
              "      <th>num_adults</th>\n",
              "      <th>num_kids</th>\n",
              "      <th>num_rooms</th>\n",
              "      <th>stay_on_saturday</th>\n",
              "      <th>random_sort</th>\n",
              "      <th>clicked</th>\n",
              "      <th>booked</th>\n",
              "      <th>year</th>\n",
              "      <th>month</th>\n",
              "    </tr>\n",
              "  </thead>\n",
              "  <tbody>\n",
              "    <tr>\n",
              "      <th>count</th>\n",
              "      <td>100000.000000</td>\n",
              "      <td>100000.000000</td>\n",
              "      <td>100000.000000</td>\n",
              "      <td>100000.000000</td>\n",
              "      <td>100000.00000</td>\n",
              "      <td>100000.000000</td>\n",
              "      <td>100000.00000</td>\n",
              "      <td>100000.000000</td>\n",
              "      <td>100000.000000</td>\n",
              "      <td>100000.000000</td>\n",
              "      <td>100000.000000</td>\n",
              "      <td>100000.000000</td>\n",
              "      <td>100000.000000</td>\n",
              "    </tr>\n",
              "    <tr>\n",
              "      <th>mean</th>\n",
              "      <td>0.642680</td>\n",
              "      <td>199.174000</td>\n",
              "      <td>0.215000</td>\n",
              "      <td>36.827360</td>\n",
              "      <td>1.95104</td>\n",
              "      <td>0.346130</td>\n",
              "      <td>1.10449</td>\n",
              "      <td>0.502210</td>\n",
              "      <td>0.299260</td>\n",
              "      <td>0.045320</td>\n",
              "      <td>0.027610</td>\n",
              "      <td>2012.799190</td>\n",
              "      <td>5.172110</td>\n",
              "    </tr>\n",
              "    <tr>\n",
              "      <th>std</th>\n",
              "      <td>0.479213</td>\n",
              "      <td>2039.638371</td>\n",
              "      <td>0.410824</td>\n",
              "      <td>50.644796</td>\n",
              "      <td>0.84550</td>\n",
              "      <td>0.709344</td>\n",
              "      <td>0.39874</td>\n",
              "      <td>0.499998</td>\n",
              "      <td>0.457936</td>\n",
              "      <td>0.208006</td>\n",
              "      <td>0.163853</td>\n",
              "      <td>0.400608</td>\n",
              "      <td>3.516324</td>\n",
              "    </tr>\n",
              "    <tr>\n",
              "      <th>min</th>\n",
              "      <td>0.000000</td>\n",
              "      <td>0.690000</td>\n",
              "      <td>0.000000</td>\n",
              "      <td>0.000000</td>\n",
              "      <td>1.00000</td>\n",
              "      <td>0.000000</td>\n",
              "      <td>1.00000</td>\n",
              "      <td>0.000000</td>\n",
              "      <td>0.000000</td>\n",
              "      <td>0.000000</td>\n",
              "      <td>0.000000</td>\n",
              "      <td>2012.000000</td>\n",
              "      <td>1.000000</td>\n",
              "    </tr>\n",
              "    <tr>\n",
              "      <th>25%</th>\n",
              "      <td>0.000000</td>\n",
              "      <td>85.340000</td>\n",
              "      <td>0.000000</td>\n",
              "      <td>4.000000</td>\n",
              "      <td>2.00000</td>\n",
              "      <td>0.000000</td>\n",
              "      <td>1.00000</td>\n",
              "      <td>0.000000</td>\n",
              "      <td>0.000000</td>\n",
              "      <td>0.000000</td>\n",
              "      <td>0.000000</td>\n",
              "      <td>2013.000000</td>\n",
              "      <td>3.000000</td>\n",
              "    </tr>\n",
              "    <tr>\n",
              "      <th>50%</th>\n",
              "      <td>1.000000</td>\n",
              "      <td>123.000000</td>\n",
              "      <td>0.000000</td>\n",
              "      <td>17.000000</td>\n",
              "      <td>2.00000</td>\n",
              "      <td>0.000000</td>\n",
              "      <td>1.00000</td>\n",
              "      <td>1.000000</td>\n",
              "      <td>0.000000</td>\n",
              "      <td>0.000000</td>\n",
              "      <td>0.000000</td>\n",
              "      <td>2013.000000</td>\n",
              "      <td>4.000000</td>\n",
              "    </tr>\n",
              "    <tr>\n",
              "      <th>75%</th>\n",
              "      <td>1.000000</td>\n",
              "      <td>186.000000</td>\n",
              "      <td>0.000000</td>\n",
              "      <td>47.000000</td>\n",
              "      <td>2.00000</td>\n",
              "      <td>0.000000</td>\n",
              "      <td>1.00000</td>\n",
              "      <td>1.000000</td>\n",
              "      <td>1.000000</td>\n",
              "      <td>0.000000</td>\n",
              "      <td>0.000000</td>\n",
              "      <td>2013.000000</td>\n",
              "      <td>6.000000</td>\n",
              "    </tr>\n",
              "    <tr>\n",
              "      <th>max</th>\n",
              "      <td>1.000000</td>\n",
              "      <td>258254.510000</td>\n",
              "      <td>1.000000</td>\n",
              "      <td>364.000000</td>\n",
              "      <td>9.00000</td>\n",
              "      <td>6.000000</td>\n",
              "      <td>8.00000</td>\n",
              "      <td>1.000000</td>\n",
              "      <td>1.000000</td>\n",
              "      <td>1.000000</td>\n",
              "      <td>1.000000</td>\n",
              "      <td>2013.000000</td>\n",
              "      <td>12.000000</td>\n",
              "    </tr>\n",
              "  </tbody>\n",
              "</table>\n",
              "</div>\n",
              "      <button class=\"colab-df-convert\" onclick=\"convertToInteractive('df-08dc5a2d-1f97-40af-805d-0d8ae9f5c358')\"\n",
              "              title=\"Convert this dataframe to an interactive table.\"\n",
              "              style=\"display:none;\">\n",
              "        \n",
              "  <svg xmlns=\"http://www.w3.org/2000/svg\" height=\"24px\"viewBox=\"0 0 24 24\"\n",
              "       width=\"24px\">\n",
              "    <path d=\"M0 0h24v24H0V0z\" fill=\"none\"/>\n",
              "    <path d=\"M18.56 5.44l.94 2.06.94-2.06 2.06-.94-2.06-.94-.94-2.06-.94 2.06-2.06.94zm-11 1L8.5 8.5l.94-2.06 2.06-.94-2.06-.94L8.5 2.5l-.94 2.06-2.06.94zm10 10l.94 2.06.94-2.06 2.06-.94-2.06-.94-.94-2.06-.94 2.06-2.06.94z\"/><path d=\"M17.41 7.96l-1.37-1.37c-.4-.4-.92-.59-1.43-.59-.52 0-1.04.2-1.43.59L10.3 9.45l-7.72 7.72c-.78.78-.78 2.05 0 2.83L4 21.41c.39.39.9.59 1.41.59.51 0 1.02-.2 1.41-.59l7.78-7.78 2.81-2.81c.8-.78.8-2.07 0-2.86zM5.41 20L4 18.59l7.72-7.72 1.47 1.35L5.41 20z\"/>\n",
              "  </svg>\n",
              "      </button>\n",
              "      \n",
              "  <style>\n",
              "    .colab-df-container {\n",
              "      display:flex;\n",
              "      flex-wrap:wrap;\n",
              "      gap: 12px;\n",
              "    }\n",
              "\n",
              "    .colab-df-convert {\n",
              "      background-color: #E8F0FE;\n",
              "      border: none;\n",
              "      border-radius: 50%;\n",
              "      cursor: pointer;\n",
              "      display: none;\n",
              "      fill: #1967D2;\n",
              "      height: 32px;\n",
              "      padding: 0 0 0 0;\n",
              "      width: 32px;\n",
              "    }\n",
              "\n",
              "    .colab-df-convert:hover {\n",
              "      background-color: #E2EBFA;\n",
              "      box-shadow: 0px 1px 2px rgba(60, 64, 67, 0.3), 0px 1px 3px 1px rgba(60, 64, 67, 0.15);\n",
              "      fill: #174EA6;\n",
              "    }\n",
              "\n",
              "    [theme=dark] .colab-df-convert {\n",
              "      background-color: #3B4455;\n",
              "      fill: #D2E3FC;\n",
              "    }\n",
              "\n",
              "    [theme=dark] .colab-df-convert:hover {\n",
              "      background-color: #434B5C;\n",
              "      box-shadow: 0px 1px 3px 1px rgba(0, 0, 0, 0.15);\n",
              "      filter: drop-shadow(0px 1px 2px rgba(0, 0, 0, 0.3));\n",
              "      fill: #FFFFFF;\n",
              "    }\n",
              "  </style>\n",
              "\n",
              "      <script>\n",
              "        const buttonEl =\n",
              "          document.querySelector('#df-08dc5a2d-1f97-40af-805d-0d8ae9f5c358 button.colab-df-convert');\n",
              "        buttonEl.style.display =\n",
              "          google.colab.kernel.accessAllowed ? 'block' : 'none';\n",
              "\n",
              "        async function convertToInteractive(key) {\n",
              "          const element = document.querySelector('#df-08dc5a2d-1f97-40af-805d-0d8ae9f5c358');\n",
              "          const dataTable =\n",
              "            await google.colab.kernel.invokeFunction('convertToInteractive',\n",
              "                                                     [key], {});\n",
              "          if (!dataTable) return;\n",
              "\n",
              "          const docLinkHtml = 'Like what you see? Visit the ' +\n",
              "            '<a target=\"_blank\" href=https://colab.research.google.com/notebooks/data_table.ipynb>data table notebook</a>'\n",
              "            + ' to learn more about interactive tables.';\n",
              "          element.innerHTML = '';\n",
              "          dataTable['output_type'] = 'display_data';\n",
              "          await google.colab.output.renderOutput(dataTable, element);\n",
              "          const docLink = document.createElement('div');\n",
              "          docLink.innerHTML = docLinkHtml;\n",
              "          element.appendChild(docLink);\n",
              "        }\n",
              "      </script>\n",
              "    </div>\n",
              "  </div>\n",
              "  "
            ]
          },
          "metadata": {},
          "execution_count": 12
        }
      ]
    },
    {
      "cell_type": "code",
      "source": [
        "#checking the null values\n",
        "df.isnull().sum()"
      ],
      "metadata": {
        "colab": {
          "base_uri": "https://localhost:8080/"
        },
        "id": "B1kFwCLBxI0e",
        "outputId": "e0cb10ca-0a3c-4705-80c7-fbff57d4c87c"
      },
      "execution_count": null,
      "outputs": [
        {
          "output_type": "execute_result",
          "data": {
            "text/plain": [
              "is_brand            0\n",
              "price_usd           0\n",
              "has_promotion       0\n",
              "booking_window      0\n",
              "num_adults          0\n",
              "num_kids            0\n",
              "num_rooms           0\n",
              "stay_on_saturday    0\n",
              "random_sort         0\n",
              "clicked             0\n",
              "booked              0\n",
              "year                0\n",
              "month               0\n",
              "dtype: int64"
            ]
          },
          "metadata": {},
          "execution_count": 13
        }
      ]
    },
    {
      "cell_type": "code",
      "source": [
        "X = df.drop('booked',axis=1)\n",
        "Y = df['booked']\n"
      ],
      "metadata": {
        "id": "bzJKfOhvH0aN"
      },
      "execution_count": null,
      "outputs": []
    },
    {
      "cell_type": "markdown",
      "source": [
        "Feature Selection"
      ],
      "metadata": {
        "id": "oddgIC40-LdQ"
      }
    },
    {
      "cell_type": "code",
      "source": [
        "BestFeatures = SelectKBest(score_func=chi2, k=5)\n",
        "fit = BestFeatures.fit(X,Y)"
      ],
      "metadata": {
        "id": "g1CbREXwH8AE"
      },
      "execution_count": null,
      "outputs": []
    },
    {
      "cell_type": "code",
      "source": [
        "df_scores = pd.DataFrame(fit.scores_)\n",
        "df_columns = pd.DataFrame(X.columns)\n",
        "\n",
        "#concatenating two dataframes \n",
        "\n",
        "f_Scores = pd.concat([df_columns,df_scores],axis=1)               \n",
        "f_Scores.columns = ['Specs','Score'] \n",
        "f_Scores"
      ],
      "metadata": {
        "id": "UExnCf7DKTLb",
        "colab": {
          "base_uri": "https://localhost:8080/",
          "height": 425
        },
        "outputId": "e0210e5d-326f-4dd5-cdcd-f9b961141162"
      },
      "execution_count": null,
      "outputs": [
        {
          "output_type": "execute_result",
          "data": {
            "text/plain": [
              "               Specs         Score\n",
              "0           is_brand      1.256417\n",
              "1          price_usd   7860.272721\n",
              "2      has_promotion     81.116453\n",
              "3     booking_window   2906.234413\n",
              "4         num_adults      0.158584\n",
              "5           num_kids      1.664998\n",
              "6          num_rooms      1.821976\n",
              "7   stay_on_saturday      0.877564\n",
              "8        random_sort    559.148254\n",
              "9            clicked  57102.046110\n",
              "10              year      0.000017\n",
              "11             month      2.513038"
            ],
            "text/html": [
              "\n",
              "  <div id=\"df-5618b696-8095-4144-be8e-949a9154edbe\">\n",
              "    <div class=\"colab-df-container\">\n",
              "      <div>\n",
              "<style scoped>\n",
              "    .dataframe tbody tr th:only-of-type {\n",
              "        vertical-align: middle;\n",
              "    }\n",
              "\n",
              "    .dataframe tbody tr th {\n",
              "        vertical-align: top;\n",
              "    }\n",
              "\n",
              "    .dataframe thead th {\n",
              "        text-align: right;\n",
              "    }\n",
              "</style>\n",
              "<table border=\"1\" class=\"dataframe\">\n",
              "  <thead>\n",
              "    <tr style=\"text-align: right;\">\n",
              "      <th></th>\n",
              "      <th>Specs</th>\n",
              "      <th>Score</th>\n",
              "    </tr>\n",
              "  </thead>\n",
              "  <tbody>\n",
              "    <tr>\n",
              "      <th>0</th>\n",
              "      <td>is_brand</td>\n",
              "      <td>1.256417</td>\n",
              "    </tr>\n",
              "    <tr>\n",
              "      <th>1</th>\n",
              "      <td>price_usd</td>\n",
              "      <td>7860.272721</td>\n",
              "    </tr>\n",
              "    <tr>\n",
              "      <th>2</th>\n",
              "      <td>has_promotion</td>\n",
              "      <td>81.116453</td>\n",
              "    </tr>\n",
              "    <tr>\n",
              "      <th>3</th>\n",
              "      <td>booking_window</td>\n",
              "      <td>2906.234413</td>\n",
              "    </tr>\n",
              "    <tr>\n",
              "      <th>4</th>\n",
              "      <td>num_adults</td>\n",
              "      <td>0.158584</td>\n",
              "    </tr>\n",
              "    <tr>\n",
              "      <th>5</th>\n",
              "      <td>num_kids</td>\n",
              "      <td>1.664998</td>\n",
              "    </tr>\n",
              "    <tr>\n",
              "      <th>6</th>\n",
              "      <td>num_rooms</td>\n",
              "      <td>1.821976</td>\n",
              "    </tr>\n",
              "    <tr>\n",
              "      <th>7</th>\n",
              "      <td>stay_on_saturday</td>\n",
              "      <td>0.877564</td>\n",
              "    </tr>\n",
              "    <tr>\n",
              "      <th>8</th>\n",
              "      <td>random_sort</td>\n",
              "      <td>559.148254</td>\n",
              "    </tr>\n",
              "    <tr>\n",
              "      <th>9</th>\n",
              "      <td>clicked</td>\n",
              "      <td>57102.046110</td>\n",
              "    </tr>\n",
              "    <tr>\n",
              "      <th>10</th>\n",
              "      <td>year</td>\n",
              "      <td>0.000017</td>\n",
              "    </tr>\n",
              "    <tr>\n",
              "      <th>11</th>\n",
              "      <td>month</td>\n",
              "      <td>2.513038</td>\n",
              "    </tr>\n",
              "  </tbody>\n",
              "</table>\n",
              "</div>\n",
              "      <button class=\"colab-df-convert\" onclick=\"convertToInteractive('df-5618b696-8095-4144-be8e-949a9154edbe')\"\n",
              "              title=\"Convert this dataframe to an interactive table.\"\n",
              "              style=\"display:none;\">\n",
              "        \n",
              "  <svg xmlns=\"http://www.w3.org/2000/svg\" height=\"24px\"viewBox=\"0 0 24 24\"\n",
              "       width=\"24px\">\n",
              "    <path d=\"M0 0h24v24H0V0z\" fill=\"none\"/>\n",
              "    <path d=\"M18.56 5.44l.94 2.06.94-2.06 2.06-.94-2.06-.94-.94-2.06-.94 2.06-2.06.94zm-11 1L8.5 8.5l.94-2.06 2.06-.94-2.06-.94L8.5 2.5l-.94 2.06-2.06.94zm10 10l.94 2.06.94-2.06 2.06-.94-2.06-.94-.94-2.06-.94 2.06-2.06.94z\"/><path d=\"M17.41 7.96l-1.37-1.37c-.4-.4-.92-.59-1.43-.59-.52 0-1.04.2-1.43.59L10.3 9.45l-7.72 7.72c-.78.78-.78 2.05 0 2.83L4 21.41c.39.39.9.59 1.41.59.51 0 1.02-.2 1.41-.59l7.78-7.78 2.81-2.81c.8-.78.8-2.07 0-2.86zM5.41 20L4 18.59l7.72-7.72 1.47 1.35L5.41 20z\"/>\n",
              "  </svg>\n",
              "      </button>\n",
              "      \n",
              "  <style>\n",
              "    .colab-df-container {\n",
              "      display:flex;\n",
              "      flex-wrap:wrap;\n",
              "      gap: 12px;\n",
              "    }\n",
              "\n",
              "    .colab-df-convert {\n",
              "      background-color: #E8F0FE;\n",
              "      border: none;\n",
              "      border-radius: 50%;\n",
              "      cursor: pointer;\n",
              "      display: none;\n",
              "      fill: #1967D2;\n",
              "      height: 32px;\n",
              "      padding: 0 0 0 0;\n",
              "      width: 32px;\n",
              "    }\n",
              "\n",
              "    .colab-df-convert:hover {\n",
              "      background-color: #E2EBFA;\n",
              "      box-shadow: 0px 1px 2px rgba(60, 64, 67, 0.3), 0px 1px 3px 1px rgba(60, 64, 67, 0.15);\n",
              "      fill: #174EA6;\n",
              "    }\n",
              "\n",
              "    [theme=dark] .colab-df-convert {\n",
              "      background-color: #3B4455;\n",
              "      fill: #D2E3FC;\n",
              "    }\n",
              "\n",
              "    [theme=dark] .colab-df-convert:hover {\n",
              "      background-color: #434B5C;\n",
              "      box-shadow: 0px 1px 3px 1px rgba(0, 0, 0, 0.15);\n",
              "      filter: drop-shadow(0px 1px 2px rgba(0, 0, 0, 0.3));\n",
              "      fill: #FFFFFF;\n",
              "    }\n",
              "  </style>\n",
              "\n",
              "      <script>\n",
              "        const buttonEl =\n",
              "          document.querySelector('#df-5618b696-8095-4144-be8e-949a9154edbe button.colab-df-convert');\n",
              "        buttonEl.style.display =\n",
              "          google.colab.kernel.accessAllowed ? 'block' : 'none';\n",
              "\n",
              "        async function convertToInteractive(key) {\n",
              "          const element = document.querySelector('#df-5618b696-8095-4144-be8e-949a9154edbe');\n",
              "          const dataTable =\n",
              "            await google.colab.kernel.invokeFunction('convertToInteractive',\n",
              "                                                     [key], {});\n",
              "          if (!dataTable) return;\n",
              "\n",
              "          const docLinkHtml = 'Like what you see? Visit the ' +\n",
              "            '<a target=\"_blank\" href=https://colab.research.google.com/notebooks/data_table.ipynb>data table notebook</a>'\n",
              "            + ' to learn more about interactive tables.';\n",
              "          element.innerHTML = '';\n",
              "          dataTable['output_type'] = 'display_data';\n",
              "          await google.colab.output.renderOutput(dataTable, element);\n",
              "          const docLink = document.createElement('div');\n",
              "          docLink.innerHTML = docLinkHtml;\n",
              "          element.appendChild(docLink);\n",
              "        }\n",
              "      </script>\n",
              "    </div>\n",
              "  </div>\n",
              "  "
            ]
          },
          "metadata": {},
          "execution_count": 16
        }
      ]
    },
    {
      "cell_type": "code",
      "source": [
        "# print 10 best features in descending order\n",
        "print(f_Scores.nlargest(6,'Score'))"
      ],
      "metadata": {
        "colab": {
          "base_uri": "https://localhost:8080/"
        },
        "id": "0SS4h0U6u0p1",
        "outputId": "75bdca6c-29f2-4665-ffb8-f0311f20d3a5"
      },
      "execution_count": null,
      "outputs": [
        {
          "output_type": "stream",
          "name": "stdout",
          "text": [
            "             Specs         Score\n",
            "9          clicked  57102.046110\n",
            "1        price_usd   7860.272721\n",
            "3   booking_window   2906.234413\n",
            "8      random_sort    559.148254\n",
            "2    has_promotion     81.116453\n",
            "11           month      2.513038\n"
          ]
        }
      ]
    },
    {
      "cell_type": "code",
      "source": [
        "#checking the skewness\n",
        "df.skew()"
      ],
      "metadata": {
        "colab": {
          "base_uri": "https://localhost:8080/"
        },
        "id": "71Ey612g6JCQ",
        "outputId": "0140f6b8-77bb-4247-a04f-c9da49775d69"
      },
      "execution_count": null,
      "outputs": [
        {
          "output_type": "execute_result",
          "data": {
            "text/plain": [
              "is_brand            -0.595489\n",
              "price_usd           72.153486\n",
              "has_promotion        1.387482\n",
              "booking_window       2.347770\n",
              "num_adults           2.339620\n",
              "num_kids             2.335835\n",
              "num_rooms            6.258685\n",
              "stay_on_saturday    -0.008840\n",
              "random_sort          0.876734\n",
              "clicked              4.371883\n",
              "booked               5.766121\n",
              "year                -1.493709\n",
              "month                0.852843\n",
              "dtype: float64"
            ]
          },
          "metadata": {},
          "execution_count": 18
        }
      ]
    },
    {
      "cell_type": "code",
      "source": [
        "df['booked'].value_counts()"
      ],
      "metadata": {
        "colab": {
          "base_uri": "https://localhost:8080/"
        },
        "id": "5ksfE9p0vQJz",
        "outputId": "12158614-e34f-4aa1-eec8-9f5e0ef49bd7"
      },
      "execution_count": null,
      "outputs": [
        {
          "output_type": "execute_result",
          "data": {
            "text/plain": [
              "0    97239\n",
              "1     2761\n",
              "Name: booked, dtype: int64"
            ]
          },
          "metadata": {},
          "execution_count": 19
        }
      ]
    },
    {
      "cell_type": "code",
      "source": [
        "#checking the correlation \n",
        "df.corr()"
      ],
      "metadata": {
        "colab": {
          "base_uri": "https://localhost:8080/",
          "height": 521
        },
        "id": "yeKtexsb0VNM",
        "outputId": "2f306e5a-e6ec-470a-8a10-c14d619d13fc"
      },
      "execution_count": null,
      "outputs": [
        {
          "output_type": "execute_result",
          "data": {
            "text/plain": [
              "                  is_brand  price_usd  has_promotion  booking_window  \\\n",
              "is_brand          1.000000  -0.006623      -0.101926       -0.098115   \n",
              "price_usd        -0.006623   1.000000       0.025047       -0.005148   \n",
              "has_promotion    -0.101926   0.025047       1.000000        0.026435   \n",
              "booking_window   -0.098115  -0.005148       0.026435        1.000000   \n",
              "num_adults        0.016205  -0.012062       0.015507        0.119342   \n",
              "num_kids          0.017796   0.016953       0.003164        0.056369   \n",
              "num_rooms         0.016257   0.041693       0.016816        0.048783   \n",
              "stay_on_saturday  0.079756  -0.017207      -0.048319       -0.090619   \n",
              "random_sort      -0.033805  -0.006032      -0.028762        0.146233   \n",
              "clicked          -0.004276  -0.003049       0.037052       -0.000740   \n",
              "booked            0.005930  -0.001940       0.032145       -0.020428   \n",
              "year             -0.007675   0.008430      -0.010304        0.039359   \n",
              "month             0.017203  -0.006723       0.004836       -0.075062   \n",
              "\n",
              "                  num_adults  num_kids  num_rooms  stay_on_saturday  \\\n",
              "is_brand            0.016205  0.017796   0.016257          0.079756   \n",
              "price_usd          -0.012062  0.016953   0.041693         -0.017207   \n",
              "has_promotion       0.015507  0.003164   0.016816         -0.048319   \n",
              "booking_window      0.119342  0.056369   0.048783         -0.090619   \n",
              "num_adults          1.000000  0.053967   0.414100          0.089293   \n",
              "num_kids            0.053967  1.000000   0.109612          0.000677   \n",
              "num_rooms           0.414100  0.109612   1.000000         -0.006801   \n",
              "stay_on_saturday    0.089293  0.000677  -0.006801          1.000000   \n",
              "random_sort         0.049000  0.006610  -0.004653         -0.013283   \n",
              "clicked             0.006760  0.004293   0.010785         -0.000194   \n",
              "booked             -0.002080  0.003384   0.011250          0.004199   \n",
              "year                0.050805  0.057594   0.024181          0.005885   \n",
              "month              -0.037027 -0.043649  -0.014474         -0.012613   \n",
              "\n",
              "                  random_sort   clicked    booked      year     month  \n",
              "is_brand            -0.033805 -0.004276  0.005930 -0.007675  0.017203  \n",
              "price_usd           -0.006032 -0.003049 -0.001940  0.008430 -0.006723  \n",
              "has_promotion       -0.028762  0.037052  0.032145 -0.010304  0.004836  \n",
              "booking_window       0.146233 -0.000740 -0.020428  0.039359 -0.075062  \n",
              "num_adults           0.049000  0.006760 -0.002080  0.050805 -0.037027  \n",
              "num_kids             0.006610  0.004293  0.003384  0.057594 -0.043649  \n",
              "num_rooms           -0.004653  0.010785  0.011250  0.024181 -0.014474  \n",
              "stay_on_saturday    -0.013283 -0.000194  0.004199  0.005885 -0.012613  \n",
              "random_sort          1.000000  0.005118 -0.089327 -0.005918  0.001766  \n",
              "clicked              0.005118  1.000000  0.773387  0.002289 -0.002844  \n",
              "booked              -0.089327  0.773387  1.000000 -0.001457  0.003242  \n",
              "year                -0.005918  0.002289 -0.001457  1.000000 -0.899986  \n",
              "month                0.001766 -0.002844  0.003242 -0.899986  1.000000  "
            ],
            "text/html": [
              "\n",
              "  <div id=\"df-2e5ec9b8-5f03-4125-8c1a-e2052012ce4c\">\n",
              "    <div class=\"colab-df-container\">\n",
              "      <div>\n",
              "<style scoped>\n",
              "    .dataframe tbody tr th:only-of-type {\n",
              "        vertical-align: middle;\n",
              "    }\n",
              "\n",
              "    .dataframe tbody tr th {\n",
              "        vertical-align: top;\n",
              "    }\n",
              "\n",
              "    .dataframe thead th {\n",
              "        text-align: right;\n",
              "    }\n",
              "</style>\n",
              "<table border=\"1\" class=\"dataframe\">\n",
              "  <thead>\n",
              "    <tr style=\"text-align: right;\">\n",
              "      <th></th>\n",
              "      <th>is_brand</th>\n",
              "      <th>price_usd</th>\n",
              "      <th>has_promotion</th>\n",
              "      <th>booking_window</th>\n",
              "      <th>num_adults</th>\n",
              "      <th>num_kids</th>\n",
              "      <th>num_rooms</th>\n",
              "      <th>stay_on_saturday</th>\n",
              "      <th>random_sort</th>\n",
              "      <th>clicked</th>\n",
              "      <th>booked</th>\n",
              "      <th>year</th>\n",
              "      <th>month</th>\n",
              "    </tr>\n",
              "  </thead>\n",
              "  <tbody>\n",
              "    <tr>\n",
              "      <th>is_brand</th>\n",
              "      <td>1.000000</td>\n",
              "      <td>-0.006623</td>\n",
              "      <td>-0.101926</td>\n",
              "      <td>-0.098115</td>\n",
              "      <td>0.016205</td>\n",
              "      <td>0.017796</td>\n",
              "      <td>0.016257</td>\n",
              "      <td>0.079756</td>\n",
              "      <td>-0.033805</td>\n",
              "      <td>-0.004276</td>\n",
              "      <td>0.005930</td>\n",
              "      <td>-0.007675</td>\n",
              "      <td>0.017203</td>\n",
              "    </tr>\n",
              "    <tr>\n",
              "      <th>price_usd</th>\n",
              "      <td>-0.006623</td>\n",
              "      <td>1.000000</td>\n",
              "      <td>0.025047</td>\n",
              "      <td>-0.005148</td>\n",
              "      <td>-0.012062</td>\n",
              "      <td>0.016953</td>\n",
              "      <td>0.041693</td>\n",
              "      <td>-0.017207</td>\n",
              "      <td>-0.006032</td>\n",
              "      <td>-0.003049</td>\n",
              "      <td>-0.001940</td>\n",
              "      <td>0.008430</td>\n",
              "      <td>-0.006723</td>\n",
              "    </tr>\n",
              "    <tr>\n",
              "      <th>has_promotion</th>\n",
              "      <td>-0.101926</td>\n",
              "      <td>0.025047</td>\n",
              "      <td>1.000000</td>\n",
              "      <td>0.026435</td>\n",
              "      <td>0.015507</td>\n",
              "      <td>0.003164</td>\n",
              "      <td>0.016816</td>\n",
              "      <td>-0.048319</td>\n",
              "      <td>-0.028762</td>\n",
              "      <td>0.037052</td>\n",
              "      <td>0.032145</td>\n",
              "      <td>-0.010304</td>\n",
              "      <td>0.004836</td>\n",
              "    </tr>\n",
              "    <tr>\n",
              "      <th>booking_window</th>\n",
              "      <td>-0.098115</td>\n",
              "      <td>-0.005148</td>\n",
              "      <td>0.026435</td>\n",
              "      <td>1.000000</td>\n",
              "      <td>0.119342</td>\n",
              "      <td>0.056369</td>\n",
              "      <td>0.048783</td>\n",
              "      <td>-0.090619</td>\n",
              "      <td>0.146233</td>\n",
              "      <td>-0.000740</td>\n",
              "      <td>-0.020428</td>\n",
              "      <td>0.039359</td>\n",
              "      <td>-0.075062</td>\n",
              "    </tr>\n",
              "    <tr>\n",
              "      <th>num_adults</th>\n",
              "      <td>0.016205</td>\n",
              "      <td>-0.012062</td>\n",
              "      <td>0.015507</td>\n",
              "      <td>0.119342</td>\n",
              "      <td>1.000000</td>\n",
              "      <td>0.053967</td>\n",
              "      <td>0.414100</td>\n",
              "      <td>0.089293</td>\n",
              "      <td>0.049000</td>\n",
              "      <td>0.006760</td>\n",
              "      <td>-0.002080</td>\n",
              "      <td>0.050805</td>\n",
              "      <td>-0.037027</td>\n",
              "    </tr>\n",
              "    <tr>\n",
              "      <th>num_kids</th>\n",
              "      <td>0.017796</td>\n",
              "      <td>0.016953</td>\n",
              "      <td>0.003164</td>\n",
              "      <td>0.056369</td>\n",
              "      <td>0.053967</td>\n",
              "      <td>1.000000</td>\n",
              "      <td>0.109612</td>\n",
              "      <td>0.000677</td>\n",
              "      <td>0.006610</td>\n",
              "      <td>0.004293</td>\n",
              "      <td>0.003384</td>\n",
              "      <td>0.057594</td>\n",
              "      <td>-0.043649</td>\n",
              "    </tr>\n",
              "    <tr>\n",
              "      <th>num_rooms</th>\n",
              "      <td>0.016257</td>\n",
              "      <td>0.041693</td>\n",
              "      <td>0.016816</td>\n",
              "      <td>0.048783</td>\n",
              "      <td>0.414100</td>\n",
              "      <td>0.109612</td>\n",
              "      <td>1.000000</td>\n",
              "      <td>-0.006801</td>\n",
              "      <td>-0.004653</td>\n",
              "      <td>0.010785</td>\n",
              "      <td>0.011250</td>\n",
              "      <td>0.024181</td>\n",
              "      <td>-0.014474</td>\n",
              "    </tr>\n",
              "    <tr>\n",
              "      <th>stay_on_saturday</th>\n",
              "      <td>0.079756</td>\n",
              "      <td>-0.017207</td>\n",
              "      <td>-0.048319</td>\n",
              "      <td>-0.090619</td>\n",
              "      <td>0.089293</td>\n",
              "      <td>0.000677</td>\n",
              "      <td>-0.006801</td>\n",
              "      <td>1.000000</td>\n",
              "      <td>-0.013283</td>\n",
              "      <td>-0.000194</td>\n",
              "      <td>0.004199</td>\n",
              "      <td>0.005885</td>\n",
              "      <td>-0.012613</td>\n",
              "    </tr>\n",
              "    <tr>\n",
              "      <th>random_sort</th>\n",
              "      <td>-0.033805</td>\n",
              "      <td>-0.006032</td>\n",
              "      <td>-0.028762</td>\n",
              "      <td>0.146233</td>\n",
              "      <td>0.049000</td>\n",
              "      <td>0.006610</td>\n",
              "      <td>-0.004653</td>\n",
              "      <td>-0.013283</td>\n",
              "      <td>1.000000</td>\n",
              "      <td>0.005118</td>\n",
              "      <td>-0.089327</td>\n",
              "      <td>-0.005918</td>\n",
              "      <td>0.001766</td>\n",
              "    </tr>\n",
              "    <tr>\n",
              "      <th>clicked</th>\n",
              "      <td>-0.004276</td>\n",
              "      <td>-0.003049</td>\n",
              "      <td>0.037052</td>\n",
              "      <td>-0.000740</td>\n",
              "      <td>0.006760</td>\n",
              "      <td>0.004293</td>\n",
              "      <td>0.010785</td>\n",
              "      <td>-0.000194</td>\n",
              "      <td>0.005118</td>\n",
              "      <td>1.000000</td>\n",
              "      <td>0.773387</td>\n",
              "      <td>0.002289</td>\n",
              "      <td>-0.002844</td>\n",
              "    </tr>\n",
              "    <tr>\n",
              "      <th>booked</th>\n",
              "      <td>0.005930</td>\n",
              "      <td>-0.001940</td>\n",
              "      <td>0.032145</td>\n",
              "      <td>-0.020428</td>\n",
              "      <td>-0.002080</td>\n",
              "      <td>0.003384</td>\n",
              "      <td>0.011250</td>\n",
              "      <td>0.004199</td>\n",
              "      <td>-0.089327</td>\n",
              "      <td>0.773387</td>\n",
              "      <td>1.000000</td>\n",
              "      <td>-0.001457</td>\n",
              "      <td>0.003242</td>\n",
              "    </tr>\n",
              "    <tr>\n",
              "      <th>year</th>\n",
              "      <td>-0.007675</td>\n",
              "      <td>0.008430</td>\n",
              "      <td>-0.010304</td>\n",
              "      <td>0.039359</td>\n",
              "      <td>0.050805</td>\n",
              "      <td>0.057594</td>\n",
              "      <td>0.024181</td>\n",
              "      <td>0.005885</td>\n",
              "      <td>-0.005918</td>\n",
              "      <td>0.002289</td>\n",
              "      <td>-0.001457</td>\n",
              "      <td>1.000000</td>\n",
              "      <td>-0.899986</td>\n",
              "    </tr>\n",
              "    <tr>\n",
              "      <th>month</th>\n",
              "      <td>0.017203</td>\n",
              "      <td>-0.006723</td>\n",
              "      <td>0.004836</td>\n",
              "      <td>-0.075062</td>\n",
              "      <td>-0.037027</td>\n",
              "      <td>-0.043649</td>\n",
              "      <td>-0.014474</td>\n",
              "      <td>-0.012613</td>\n",
              "      <td>0.001766</td>\n",
              "      <td>-0.002844</td>\n",
              "      <td>0.003242</td>\n",
              "      <td>-0.899986</td>\n",
              "      <td>1.000000</td>\n",
              "    </tr>\n",
              "  </tbody>\n",
              "</table>\n",
              "</div>\n",
              "      <button class=\"colab-df-convert\" onclick=\"convertToInteractive('df-2e5ec9b8-5f03-4125-8c1a-e2052012ce4c')\"\n",
              "              title=\"Convert this dataframe to an interactive table.\"\n",
              "              style=\"display:none;\">\n",
              "        \n",
              "  <svg xmlns=\"http://www.w3.org/2000/svg\" height=\"24px\"viewBox=\"0 0 24 24\"\n",
              "       width=\"24px\">\n",
              "    <path d=\"M0 0h24v24H0V0z\" fill=\"none\"/>\n",
              "    <path d=\"M18.56 5.44l.94 2.06.94-2.06 2.06-.94-2.06-.94-.94-2.06-.94 2.06-2.06.94zm-11 1L8.5 8.5l.94-2.06 2.06-.94-2.06-.94L8.5 2.5l-.94 2.06-2.06.94zm10 10l.94 2.06.94-2.06 2.06-.94-2.06-.94-.94-2.06-.94 2.06-2.06.94z\"/><path d=\"M17.41 7.96l-1.37-1.37c-.4-.4-.92-.59-1.43-.59-.52 0-1.04.2-1.43.59L10.3 9.45l-7.72 7.72c-.78.78-.78 2.05 0 2.83L4 21.41c.39.39.9.59 1.41.59.51 0 1.02-.2 1.41-.59l7.78-7.78 2.81-2.81c.8-.78.8-2.07 0-2.86zM5.41 20L4 18.59l7.72-7.72 1.47 1.35L5.41 20z\"/>\n",
              "  </svg>\n",
              "      </button>\n",
              "      \n",
              "  <style>\n",
              "    .colab-df-container {\n",
              "      display:flex;\n",
              "      flex-wrap:wrap;\n",
              "      gap: 12px;\n",
              "    }\n",
              "\n",
              "    .colab-df-convert {\n",
              "      background-color: #E8F0FE;\n",
              "      border: none;\n",
              "      border-radius: 50%;\n",
              "      cursor: pointer;\n",
              "      display: none;\n",
              "      fill: #1967D2;\n",
              "      height: 32px;\n",
              "      padding: 0 0 0 0;\n",
              "      width: 32px;\n",
              "    }\n",
              "\n",
              "    .colab-df-convert:hover {\n",
              "      background-color: #E2EBFA;\n",
              "      box-shadow: 0px 1px 2px rgba(60, 64, 67, 0.3), 0px 1px 3px 1px rgba(60, 64, 67, 0.15);\n",
              "      fill: #174EA6;\n",
              "    }\n",
              "\n",
              "    [theme=dark] .colab-df-convert {\n",
              "      background-color: #3B4455;\n",
              "      fill: #D2E3FC;\n",
              "    }\n",
              "\n",
              "    [theme=dark] .colab-df-convert:hover {\n",
              "      background-color: #434B5C;\n",
              "      box-shadow: 0px 1px 3px 1px rgba(0, 0, 0, 0.15);\n",
              "      filter: drop-shadow(0px 1px 2px rgba(0, 0, 0, 0.3));\n",
              "      fill: #FFFFFF;\n",
              "    }\n",
              "  </style>\n",
              "\n",
              "      <script>\n",
              "        const buttonEl =\n",
              "          document.querySelector('#df-2e5ec9b8-5f03-4125-8c1a-e2052012ce4c button.colab-df-convert');\n",
              "        buttonEl.style.display =\n",
              "          google.colab.kernel.accessAllowed ? 'block' : 'none';\n",
              "\n",
              "        async function convertToInteractive(key) {\n",
              "          const element = document.querySelector('#df-2e5ec9b8-5f03-4125-8c1a-e2052012ce4c');\n",
              "          const dataTable =\n",
              "            await google.colab.kernel.invokeFunction('convertToInteractive',\n",
              "                                                     [key], {});\n",
              "          if (!dataTable) return;\n",
              "\n",
              "          const docLinkHtml = 'Like what you see? Visit the ' +\n",
              "            '<a target=\"_blank\" href=https://colab.research.google.com/notebooks/data_table.ipynb>data table notebook</a>'\n",
              "            + ' to learn more about interactive tables.';\n",
              "          element.innerHTML = '';\n",
              "          dataTable['output_type'] = 'display_data';\n",
              "          await google.colab.output.renderOutput(dataTable, element);\n",
              "          const docLink = document.createElement('div');\n",
              "          docLink.innerHTML = docLinkHtml;\n",
              "          element.appendChild(docLink);\n",
              "        }\n",
              "      </script>\n",
              "    </div>\n",
              "  </div>\n",
              "  "
            ]
          },
          "metadata": {},
          "execution_count": 20
        }
      ]
    },
    {
      "cell_type": "code",
      "source": [
        "#plotting the correlation\n",
        "plt.figure(figsize=(15,7))\n",
        "sns.heatmap(df.corr(), annot=True)"
      ],
      "metadata": {
        "colab": {
          "base_uri": "https://localhost:8080/",
          "height": 495
        },
        "id": "XSI7fQBA0gOO",
        "outputId": "dc7ce86d-d4c3-4641-c7f3-37b3ae2fb931"
      },
      "execution_count": null,
      "outputs": [
        {
          "output_type": "execute_result",
          "data": {
            "text/plain": [
              "<matplotlib.axes._subplots.AxesSubplot at 0x7f25db4d8ed0>"
            ]
          },
          "metadata": {},
          "execution_count": 21
        },
        {
          "output_type": "display_data",
          "data": {
            "text/plain": [
              "<Figure size 1080x504 with 2 Axes>"
            ],
            "image/png": "[encoded data removed]"
          },
          "metadata": {
            "needs_background": "light"
          }
        }
      ]
    },
    {
      "cell_type": "code",
      "source": [
        "sns.countplot(x='is_brand',hue='booked', data=df)"
      ],
      "metadata": {
        "colab": {
          "base_uri": "https://localhost:8080/",
          "height": 298
        },
        "id": "shPOTD11C6od",
        "outputId": "1a3309ff-e7fc-4528-904f-49e590092239"
      },
      "execution_count": null,
      "outputs": [
        {
          "output_type": "execute_result",
          "data": {
            "text/plain": [
              "<matplotlib.axes._subplots.AxesSubplot at 0x7f25d85d7d10>"
            ]
          },
          "metadata": {},
          "execution_count": 22
        },
        {
          "output_type": "display_data",
          "data": {
            "text/plain": [
              "<Figure size 432x288 with 1 Axes>"
            ],
            "image/png": "[encoded data removed]"
          },
          "metadata": {
            "needs_background": "light"
          }
        }
      ]
    },
    {
      "cell_type": "code",
      "source": [
        "plt.figure(figsize=(15,7))\n",
        "sns.distplot(df['price_usd'])\n",
        "plt.title(\"Distribution plot for price_usd\")\n",
        "plt.show()"
      ],
      "metadata": {
        "colab": {
          "base_uri": "https://localhost:8080/",
          "height": 411
        },
        "id": "Vqon8Pd9ClFr",
        "outputId": "5883280a-4e0b-4a86-c858-b1b9ff324b0f"
      },
      "execution_count": null,
      "outputs": [
        {
          "output_type": "display_data",
          "data": {
            "text/plain": [
              "<Figure size 1080x504 with 1 Axes>"
            ],
            "image/png": "[encoded data removed]"
          },
          "metadata": {
            "needs_background": "light"
          }
        }
      ]
    },
    {
      "cell_type": "code",
      "source": [
        "sns.countplot(x='has_promotion', hue='booked', data=df)\n",
        "plt.title(\"countplot for has_promotion per class\")\n",
        "plt.show()"
      ],
      "metadata": {
        "colab": {
          "base_uri": "https://localhost:8080/",
          "height": 296
        },
        "id": "HLsGJDOf-2tw",
        "outputId": "a4729d1f-b3ec-448c-fbf3-9c8cf7af9440"
      },
      "execution_count": null,
      "outputs": [
        {
          "output_type": "display_data",
          "data": {
            "text/plain": [
              "<Figure size 432x288 with 1 Axes>"
            ],
            "image/png": "[encoded data removed]"
          },
          "metadata": {
            "needs_background": "light"
          }
        }
      ]
    },
    {
      "cell_type": "code",
      "source": [
        "plt.figure(figsize=(27,17))\n",
        "sns.countplot(x='booking_window', hue='booked', data=df)\n",
        "plt.title(\"countplot for booking_window per class\")\n",
        "plt.show()"
      ],
      "metadata": {
        "colab": {
          "base_uri": "https://localhost:8080/",
          "height": 530
        },
        "id": "X_8gXXR_-2mB",
        "outputId": "151ceba8-68d2-48b8-eb9f-5c1e4dcaa5b0"
      },
      "execution_count": null,
      "outputs": [
        {
          "output_type": "display_data",
          "data": {
            "text/plain": [
              "<Figure size 1944x1224 with 1 Axes>"
            ],
            "image/png": "[encoded data removed]"
          },
          "metadata": {
            "needs_background": "light"
          }
        }
      ]
    },
    {
      "cell_type": "code",
      "source": [
        "sns.countplot(x='clicked', hue='booked', data=df)\n",
        "plt.title(\"countplot for clicked per class\")\n",
        "plt.show()"
      ],
      "metadata": {
        "colab": {
          "base_uri": "https://localhost:8080/",
          "height": 295
        },
        "id": "nHnWSZD2-2d4",
        "outputId": "0a48514d-1f0b-4619-aefb-f14bd645bbc6"
      },
      "execution_count": null,
      "outputs": [
        {
          "output_type": "display_data",
          "data": {
            "text/plain": [
              "<Figure size 432x288 with 1 Axes>"
            ],
            "image/png": "[encoded data removed]"
          },
          "metadata": {
            "needs_background": "light"
          }
        }
      ]
    },
    {
      "cell_type": "code",
      "source": [
        "sns.countplot(x='random_sort', hue='booked', data=df)\n",
        "plt.title(\"countplot for random_sort per class\")\n",
        "plt.show()"
      ],
      "metadata": {
        "colab": {
          "base_uri": "https://localhost:8080/",
          "height": 296
        },
        "id": "JdHqNvnU-2WF",
        "outputId": "e8f71908-788a-4c7e-aeeb-074294c6d592"
      },
      "execution_count": null,
      "outputs": [
        {
          "output_type": "display_data",
          "data": {
            "text/plain": [
              "<Figure size 432x288 with 1 Axes>"
            ],
            "image/png": "[encoded data removed]"
          },
          "metadata": {
            "needs_background": "light"
          }
        }
      ]
    },
    {
      "cell_type": "code",
      "source": [
        "sns.countplot(x='month', hue='booked', data=df)\n",
        "plt.title(\"countplot for month per class\")\n",
        "plt.show()"
      ],
      "metadata": {
        "colab": {
          "base_uri": "https://localhost:8080/",
          "height": 295
        },
        "id": "HNgO7hxL-2PU",
        "outputId": "82679302-62f8-4497-c07f-ee798d48d799"
      },
      "execution_count": null,
      "outputs": [
        {
          "output_type": "display_data",
          "data": {
            "text/plain": [
              "<Figure size 432x288 with 1 Axes>"
            ],
            "image/png": "[encoded data removed]"
          },
          "metadata": {
            "needs_background": "light"
          }
        }
      ]
    },
    {
      "cell_type": "code",
      "source": [],
      "metadata": {
        "id": "s_E3oUxAt8IZ"
      },
      "execution_count": null,
      "outputs": []
    },
    {
      "cell_type": "code",
      "source": [
        "col = ['clicked','price_usd','booking_window','random_sort','has_promotion','month']\n",
        "x=df[col]\n",
        "y=df['booked']"
      ],
      "metadata": {
        "id": "DR5A5T8ku-hu"
      },
      "execution_count": null,
      "outputs": []
    },
    {
      "cell_type": "code",
      "source": [
        "print(x)"
      ],
      "metadata": {
        "colab": {
          "base_uri": "https://localhost:8080/"
        },
        "id": "N7S5ObJNv5s4",
        "outputId": "726aa889-d362-4da6-839e-ea8fc9589286"
      },
      "execution_count": null,
      "outputs": [
        {
          "output_type": "stream",
          "name": "stdout",
          "text": [
            "       clicked  price_usd  booking_window  random_sort  has_promotion  month\n",
            "0            0     295.00              46            1              0     12\n",
            "1            0     299.00              46            1              0     12\n",
            "2            0     373.00              46            1              1     12\n",
            "3            0     329.00              46            1              0     12\n",
            "4            0     600.00              46            1              0     12\n",
            "...        ...        ...             ...          ...            ...    ...\n",
            "99995        0     182.78               6            1              0     11\n",
            "99996        0     118.86               6            1              1     11\n",
            "99997        0      97.88               6            1              0     11\n",
            "99998        0      74.91               6            1              1     11\n",
            "99999        0     195.77               6            1              0     11\n",
            "\n",
            "[100000 rows x 6 columns]\n"
          ]
        }
      ]
    },
    {
      "cell_type": "code",
      "source": [
        "print(y)"
      ],
      "metadata": {
        "colab": {
          "base_uri": "https://localhost:8080/"
        },
        "id": "NRJaiCnAv7kZ",
        "outputId": "75495765-2c11-4920-ab25-4aca97b6c880"
      },
      "execution_count": null,
      "outputs": [
        {
          "output_type": "stream",
          "name": "stdout",
          "text": [
            "0        0\n",
            "1        0\n",
            "2        0\n",
            "3        0\n",
            "4        0\n",
            "        ..\n",
            "99995    0\n",
            "99996    0\n",
            "99997    0\n",
            "99998    0\n",
            "99999    0\n",
            "Name: booked, Length: 100000, dtype: int64\n"
          ]
        }
      ]
    },
    {
      "cell_type": "markdown",
      "source": [
        "Oversampling"
      ],
      "metadata": {
        "id": "ZPBt5xQhvBHs"
      }
    },
    {
      "cell_type": "code",
      "source": [
        "# plot before sampling\n",
        "sns.countplot(df['booked'])\n",
        "plt.title(\"before sampling\")\n",
        "plt.show()"
      ],
      "metadata": {
        "colab": {
          "base_uri": "https://localhost:8080/",
          "height": 295
        },
        "id": "nNeIOp3EulOP",
        "outputId": "232cac66-b86e-4010-a110-49e3ad59e73b"
      },
      "execution_count": null,
      "outputs": [
        {
          "output_type": "display_data",
          "data": {
            "text/plain": [
              "<Figure size 432x288 with 1 Axes>"
            ],
            "image/png": "[encoded data removed]"
          },
          "metadata": {
            "needs_background": "light"
          }
        }
      ]
    },
    {
      "cell_type": "code",
      "source": [
        "# Oversampling\n",
        "ros = RandomOverSampler(random_state=42)\n",
        "ros.fit(x,y)"
      ],
      "metadata": {
        "colab": {
          "base_uri": "https://localhost:8080/"
        },
        "id": "aL5KH129wAfT",
        "outputId": "bb2ade70-6482-458f-cf1b-be3f77a2807d"
      },
      "execution_count": null,
      "outputs": [
        {
          "output_type": "execute_result",
          "data": {
            "text/plain": [
              "RandomOverSampler(random_state=42)"
            ]
          },
          "metadata": {},
          "execution_count": 39
        }
      ]
    },
    {
      "cell_type": "code",
      "source": [
        "x_resampled, y_resampled  = ros.fit_resample(x,y)\n"
      ],
      "metadata": {
        "id": "yH3X-Xh2uRt8"
      },
      "execution_count": null,
      "outputs": []
    },
    {
      "cell_type": "code",
      "source": [
        "# plot after sampling\n",
        "sns.countplot(y_resampled)\n",
        "plt.title(\"after sampling\")\n",
        "plt.show()"
      ],
      "metadata": {
        "colab": {
          "base_uri": "https://localhost:8080/",
          "height": 295
        },
        "id": "DOnaUu1KuWj1",
        "outputId": "591d28e0-567f-441c-f86b-21344c5cfe0d"
      },
      "execution_count": null,
      "outputs": [
        {
          "output_type": "display_data",
          "data": {
            "text/plain": [
              "<Figure size 432x288 with 1 Axes>"
            ],
            "image/png": "[encoded data removed]"
          },
          "metadata": {
            "needs_background": "light"
          }
        }
      ]
    },
    {
      "cell_type": "code",
      "source": [
        "#Splitting data into train and test\n",
        "x_train, x_test, y_train, y_test = train_test_split(x_resampled, y_resampled, test_size=0.2, random_state= 8)\n",
        "print(x.shape, x_train.shape, x_test.shape)"
      ],
      "metadata": {
        "colab": {
          "base_uri": "https://localhost:8080/"
        },
        "id": "mLdidACbvmAn",
        "outputId": "228d80f2-31e0-4e8e-debc-9f8e8a7d443f"
      },
      "execution_count": null,
      "outputs": [
        {
          "output_type": "stream",
          "name": "stdout",
          "text": [
            "(100000, 6) (155582, 6) (38896, 6)\n"
          ]
        }
      ]
    },
    {
      "cell_type": "markdown",
      "source": [
        "Feature Selection"
      ],
      "metadata": {
        "id": "_Z_4p9g2kN_J"
      }
    },
    {
      "cell_type": "code",
      "source": [
        "# define min max scaler\n",
        "scaler = MinMaxScaler()\n",
        "# transform data\n",
        "scaled = scaler.fit_transform(df)\n",
        "print(scaled)"
      ],
      "metadata": {
        "colab": {
          "base_uri": "https://localhost:8080/"
        },
        "id": "4pLxjd8mkDrw",
        "outputId": "9f6e0bf6-b85d-4e06-8fd1-ac065ac5c435"
      },
      "execution_count": null,
      "outputs": [
        {
          "output_type": "stream",
          "name": "stdout",
          "text": [
            "[[0.00000000e+00 1.13961528e-03 0.00000000e+00 ... 0.00000000e+00\n",
            "  0.00000000e+00 1.00000000e+00]\n",
            " [0.00000000e+00 1.15510392e-03 0.00000000e+00 ... 0.00000000e+00\n",
            "  0.00000000e+00 1.00000000e+00]\n",
            " [1.00000000e+00 1.44164373e-03 1.00000000e+00 ... 0.00000000e+00\n",
            "  0.00000000e+00 1.00000000e+00]\n",
            " ...\n",
            " [1.00000000e+00 3.76335188e-04 0.00000000e+00 ... 0.00000000e+00\n",
            "  0.00000000e+00 9.09090909e-01]\n",
            " [1.00000000e+00 2.87391683e-04 1.00000000e+00 ... 0.00000000e+00\n",
            "  0.00000000e+00 9.09090909e-01]\n",
            " [1.00000000e+00 7.55380888e-04 0.00000000e+00 ... 0.00000000e+00\n",
            "  0.00000000e+00 9.09090909e-01]]\n"
          ]
        }
      ]
    },
    {
      "cell_type": "markdown",
      "source": [
        "PCA"
      ],
      "metadata": {
        "id": "71PQbFMCwAxv"
      }
    },
    {
      "cell_type": "code",
      "source": [
        "pca = PCA()\n",
        "x_train = pca.fit_transform(x_train)\n",
        "x_test = pca.fit_transform(x_test)"
      ],
      "metadata": {
        "id": "oqjHpXDMvw8-"
      },
      "execution_count": null,
      "outputs": []
    },
    {
      "cell_type": "markdown",
      "source": [
        "Logistic Regression"
      ],
      "metadata": {
        "id": "WUXObW89wF_3"
      }
    },
    {
      "cell_type": "code",
      "source": [
        "LR = LogisticRegression()\n",
        "LR.fit(x_train,y_train)"
      ],
      "metadata": {
        "colab": {
          "base_uri": "https://localhost:8080/"
        },
        "id": "DJeD4Zh2wCii",
        "outputId": "bd90d58e-a10d-43da-a9a4-62f9a4f6a3de"
      },
      "execution_count": null,
      "outputs": [
        {
          "output_type": "execute_result",
          "data": {
            "text/plain": [
              "LogisticRegression()"
            ]
          },
          "metadata": {},
          "execution_count": 104
        }
      ]
    },
    {
      "cell_type": "code",
      "source": [
        "#accuracy on training data\n",
        "x_train_prediction = LR.predict(x_train)\n",
        "training_data_accuracy = accuracy_score(x_train_prediction,y_train)\n",
        "print('Accuracy on training data:',training_data_accuracy)\n",
        "\n",
        "#Accuracy on test data\n",
        "x_test_prediction = LR.predict(x_test)\n",
        "test_data_accuracy = accuracy_score(x_test_prediction, y_test)\n",
        "print('Accuracy on test data:',test_data_accuracy)"
      ],
      "metadata": {
        "colab": {
          "base_uri": "https://localhost:8080/"
        },
        "id": "pjkcEnxXwJQE",
        "outputId": "bb5e7ecc-0ec5-41d8-8a49-f2b34efe0c4f"
      },
      "execution_count": null,
      "outputs": [
        {
          "output_type": "stream",
          "name": "stdout",
          "text": [
            "Accuracy on training data: 0.9910336671337301\n",
            "Accuracy on test data: 0.9776840806252571\n"
          ]
        }
      ]
    },
    {
      "cell_type": "code",
      "source": [
        "#checking the confusion matrix\n",
        "cm = confusion_matrix(x_test_prediction, y_test)\n",
        "print(cm)"
      ],
      "metadata": {
        "colab": {
          "base_uri": "https://localhost:8080/"
        },
        "id": "t1wOQ5ycwagO",
        "outputId": "53bba90a-9896-4474-9183-4eee0f2fe6c7"
      },
      "execution_count": null,
      "outputs": [
        {
          "output_type": "stream",
          "name": "stdout",
          "text": [
            "[[19337   699]\n",
            " [  169 18691]]\n"
          ]
        }
      ]
    },
    {
      "cell_type": "code",
      "source": [
        "#plotting the confusion matrix\n",
        "sns.heatmap(cm, annot=True, cmap='YlGnBu', fmt='d')"
      ],
      "metadata": {
        "colab": {
          "base_uri": "https://localhost:8080/",
          "height": 283
        },
        "id": "wd6rXJgFzoZn",
        "outputId": "faf038e2-8ae0-4c0d-a94d-3007aaacab6f"
      },
      "execution_count": null,
      "outputs": [
        {
          "output_type": "execute_result",
          "data": {
            "text/plain": [
              "<matplotlib.axes._subplots.AxesSubplot at 0x7f25d542ef90>"
            ]
          },
          "metadata": {},
          "execution_count": 108
        },
        {
          "output_type": "display_data",
          "data": {
            "text/plain": [
              "<Figure size 432x288 with 2 Axes>"
            ],
            "image/png": "[encoded data removed]"
          },
          "metadata": {
            "needs_background": "light"
          }
        }
      ]
    },
    {
      "cell_type": "code",
      "source": [
        "#printing classification report precision, recall, f1-score   \n",
        "print(classification_report(x_test_prediction, y_test))"
      ],
      "metadata": {
        "colab": {
          "base_uri": "https://localhost:8080/"
        },
        "id": "C5SsHTP-zrPg",
        "outputId": "1a0977aa-28c1-4f84-a00a-c9b7a5ad3849"
      },
      "execution_count": null,
      "outputs": [
        {
          "output_type": "stream",
          "name": "stdout",
          "text": [
            "              precision    recall  f1-score   support\n",
            "\n",
            "           0       0.99      0.97      0.98     20036\n",
            "           1       0.96      0.99      0.98     18860\n",
            "\n",
            "    accuracy                           0.98     38896\n",
            "   macro avg       0.98      0.98      0.98     38896\n",
            "weighted avg       0.98      0.98      0.98     38896\n",
            "\n"
          ]
        }
      ]
    },
    {
      "cell_type": "code",
      "source": [
        "# cross validation score\n",
        "scores = cross_val_score(LR, x_train,y_train,cv=5)\n",
        "print(\"cross-validation_scores: \",scores)\n",
        "print(\"%0.2f accuracy with a standard deviation of %0.2f\" % (scores.mean(), scores.std()))"
      ],
      "metadata": {
        "colab": {
          "base_uri": "https://localhost:8080/"
        },
        "id": "DQdL1eOY5OfS",
        "outputId": "e93506a9-b42e-4d09-a024-620a51b554db"
      },
      "execution_count": null,
      "outputs": [
        {
          "output_type": "stream",
          "name": "stdout",
          "text": [
            "cross-validation_scores:  [0.99061606 0.99042324 0.99093714 0.99151562 0.99167631]\n",
            "0.99 accuracy with a standard deviation of 0.00\n"
          ]
        }
      ]
    },
    {
      "cell_type": "code",
      "source": [
        "#calculating the predicted probability for Logistic Regression\n",
        "y_hat = LR.predict_proba(x_test)[:,1]\n",
        "\n",
        "#defining thresold score\n",
        "thresholds = np.linspace(0,1,100)\n",
        "\n",
        "#defining fpr and tpr\n",
        "fpr, tpr, thresold = roc_curve(y_test, y_hat)\n",
        "\n",
        "#roc_auc_score\n",
        "LR_roc_auc = roc_auc_score(y_test, LR.predict(x_test))\n",
        "LR_roc_auc"
      ],
      "metadata": {
        "colab": {
          "base_uri": "https://localhost:8080/"
        },
        "id": "4dP5WeMBzxMu",
        "outputId": "9db7011a-e84b-4d3a-e452-a593e87e9ad9"
      },
      "execution_count": null,
      "outputs": [
        {
          "output_type": "execute_result",
          "data": {
            "text/plain": [
              "0.9776432445615045"
            ]
          },
          "metadata": {},
          "execution_count": 111
        }
      ]
    },
    {
      "cell_type": "code",
      "source": [
        "# plotting the roc curve\n",
        "plt.figure()\n",
        "plt.plot(fpr, tpr, label='Logistic Regression (senstivity = %0.3f)',color='r' %LR_roc_auc)\n",
        "plt.plot([0,1],[0,1], 'g--')\n",
        "plt.xlabel('False positive rate')\n",
        "plt.ylabel('True positive rate')\n",
        "plt.title(\"Receiver operating characteristics\")\n",
        "plt.legend(loc=\"lower right\")"
      ],
      "metadata": {
        "colab": {
          "base_uri": "https://localhost:8080/",
          "height": 313
        },
        "id": "8MMyEVivz40a",
        "outputId": "eb867dea-9966-4ff4-fc8f-7a4ad9e748d9"
      },
      "execution_count": null,
      "outputs": [
        {
          "output_type": "execute_result",
          "data": {
            "text/plain": [
              "<matplotlib.legend.Legend at 0x7f25d56a7c90>"
            ]
          },
          "metadata": {},
          "execution_count": 112
        },
        {
          "output_type": "display_data",
          "data": {
            "text/plain": [
              "<Figure size 432x288 with 1 Axes>"
            ],
            "image/png": "[encoded data removed]"
          },
          "metadata": {
            "needs_background": "light"
          }
        }
      ]
    },
    {
      "cell_type": "markdown",
      "source": [
        "Naive Bayes"
      ],
      "metadata": {
        "id": "aDVY3KReCt0_"
      }
    },
    {
      "cell_type": "code",
      "source": [
        "NB = GaussianNB()\n",
        "NB.fit(x_train, y_train)"
      ],
      "metadata": {
        "colab": {
          "base_uri": "https://localhost:8080/"
        },
        "id": "qAdkayOf0Aay",
        "outputId": "b54d10b0-36f1-43da-b15a-72fc8cb92f5b"
      },
      "execution_count": null,
      "outputs": [
        {
          "output_type": "execute_result",
          "data": {
            "text/plain": [
              "GaussianNB()"
            ]
          },
          "metadata": {},
          "execution_count": 113
        }
      ]
    },
    {
      "cell_type": "code",
      "source": [
        "#accuracy on training data\n",
        "x_train_prediction = NB.predict(x_train)\n",
        "training_data_accuracy = accuracy_score(x_train_prediction,y_train)\n",
        "print('Accuracy on training data:',training_data_accuracy)\n",
        "\n",
        "#Accuracy on test data\n",
        "x_test_prediction = NB.predict(x_test)\n",
        "test_data_accuracy = accuracy_score(x_test_prediction, y_test)\n",
        "print('Accuracy on test data:',test_data_accuracy)"
      ],
      "metadata": {
        "colab": {
          "base_uri": "https://localhost:8080/"
        },
        "id": "i7G0vhlADwfd",
        "outputId": "0e50bf8d-5b4b-450a-8871-2cb86e03b4de"
      },
      "execution_count": null,
      "outputs": [
        {
          "output_type": "stream",
          "name": "stdout",
          "text": [
            "Accuracy on training data: 0.9734737951691069\n",
            "Accuracy on test data: 0.9736219662690251\n"
          ]
        }
      ]
    },
    {
      "cell_type": "code",
      "source": [
        "#printing classification report precision, recall, f1-score   \n",
        "print(classification_report(x_test_prediction, y_test))"
      ],
      "metadata": {
        "colab": {
          "base_uri": "https://localhost:8080/"
        },
        "id": "OaXK2swlEVhw",
        "outputId": "7c6783a3-584e-4b0b-bc4f-78c5ac18656b"
      },
      "execution_count": null,
      "outputs": [
        {
          "output_type": "stream",
          "name": "stdout",
          "text": [
            "              precision    recall  f1-score   support\n",
            "\n",
            "           0       0.99      0.96      0.97     20212\n",
            "           1       0.96      0.99      0.97     18684\n",
            "\n",
            "    accuracy                           0.97     38896\n",
            "   macro avg       0.97      0.97      0.97     38896\n",
            "weighted avg       0.97      0.97      0.97     38896\n",
            "\n"
          ]
        }
      ]
    },
    {
      "cell_type": "code",
      "source": [
        "# cross validation score\n",
        "scores = cross_val_score(NB, x_train,y_train,cv=5)\n",
        "print(\"cross-validation_scores: \",scores)\n",
        "print(\"%0.2f accuracy with a standard deviation of %0.2f\" % (scores.mean(), scores.std()))"
      ],
      "metadata": {
        "colab": {
          "base_uri": "https://localhost:8080/"
        },
        "id": "ezGoUljWE8bH",
        "outputId": "83f0c124-2fbc-4128-ce4d-3410a4adcbb4"
      },
      "execution_count": null,
      "outputs": [
        {
          "output_type": "stream",
          "name": "stdout",
          "text": [
            "cross-validation_scores:  [0.97265161 0.97348716 0.97348631 0.97448258 0.97303638]\n",
            "0.97 accuracy with a standard deviation of 0.00\n"
          ]
        }
      ]
    },
    {
      "cell_type": "code",
      "source": [
        "#checking the confusion matrix\n",
        "cm = confusion_matrix(x_test_prediction, y_test)\n",
        "print(cm)"
      ],
      "metadata": {
        "colab": {
          "base_uri": "https://localhost:8080/"
        },
        "id": "gXNWc0GDEo8O",
        "outputId": "8edaac8e-75bb-4e99-81dc-760f614b34b0"
      },
      "execution_count": null,
      "outputs": [
        {
          "output_type": "stream",
          "name": "stdout",
          "text": [
            "[[19346   866]\n",
            " [  160 18524]]\n"
          ]
        }
      ]
    },
    {
      "cell_type": "code",
      "source": [
        "#plotting the confusion matrix\n",
        "sns.heatmap(cm, annot=True, cmap='YlGnBu', fmt='d')"
      ],
      "metadata": {
        "colab": {
          "base_uri": "https://localhost:8080/",
          "height": 283
        },
        "id": "gXuIKR24Et9C",
        "outputId": "3d2212cf-4664-43e7-cc0d-33799d000e0e"
      },
      "execution_count": null,
      "outputs": [
        {
          "output_type": "execute_result",
          "data": {
            "text/plain": [
              "<matplotlib.axes._subplots.AxesSubplot at 0x7f25d57b2ed0>"
            ]
          },
          "metadata": {},
          "execution_count": 118
        },
        {
          "output_type": "display_data",
          "data": {
            "text/plain": [
              "<Figure size 432x288 with 2 Axes>"
            ],
            "image/png": "[encoded data removed]"
          },
          "metadata": {
            "needs_background": "light"
          }
        }
      ]
    },
    {
      "cell_type": "code",
      "source": [
        "#calculating the predicted probability for Logistic Regression\n",
        "y_hat = NB.predict_proba(x_test)[:,1]\n",
        "\n",
        "#defining thresold score\n",
        "thresholds = np.linspace(0,1,100)\n",
        "\n",
        "#defining fpr and tpr\n",
        "fpr, tpr, thresold = roc_curve(y_test, y_hat)\n",
        "\n",
        "#roc_auc_score\n",
        "NB_roc_auc = roc_auc_score(y_test, NB.predict(x_test))\n",
        "NB_roc_auc"
      ],
      "metadata": {
        "colab": {
          "base_uri": "https://localhost:8080/"
        },
        "id": "Tpp69WT8Ezyz",
        "outputId": "27d48051-9627-4941-e73f-dc43e5f4b27d"
      },
      "execution_count": null,
      "outputs": [
        {
          "output_type": "execute_result",
          "data": {
            "text/plain": [
              "0.9735675993321794"
            ]
          },
          "metadata": {},
          "execution_count": 119
        }
      ]
    },
    {
      "cell_type": "code",
      "source": [
        "# plotting the roc curve\n",
        "plt.figure()\n",
        "plt.plot(fpr, tpr, label='Naive Bayes (senstivity = %0.3f)',color='r' %NB_roc_auc)\n",
        "plt.plot([0,1],[0,1], 'g--')\n",
        "plt.xlabel('False positive rate')\n",
        "plt.ylabel('True positive rate')\n",
        "plt.title(\"Receiver operating characteristics\")\n",
        "plt.legend(loc=\"lower right\")"
      ],
      "metadata": {
        "colab": {
          "base_uri": "https://localhost:8080/",
          "height": 313
        },
        "id": "pCnwXr15FJsB",
        "outputId": "46925fb5-e804-46ce-d67c-7aa38049fe74"
      },
      "execution_count": null,
      "outputs": [
        {
          "output_type": "execute_result",
          "data": {
            "text/plain": [
              "<matplotlib.legend.Legend at 0x7f25d58f23d0>"
            ]
          },
          "metadata": {},
          "execution_count": 120
        },
        {
          "output_type": "display_data",
          "data": {
            "text/plain": [
              "<Figure size 432x288 with 1 Axes>"
            ],
            "image/png": "[encoded data removed]"
          },
          "metadata": {
            "needs_background": "light"
          }
        }
      ]
    },
    {
      "cell_type": "markdown",
      "source": [
        "Decision Tree"
      ],
      "metadata": {
        "id": "cLoxTtV3F144"
      }
    },
    {
      "cell_type": "code",
      "source": [
        "DT = DecisionTreeClassifier()\n",
        "DT.fit(x_train,y_train)"
      ],
      "metadata": {
        "colab": {
          "base_uri": "https://localhost:8080/"
        },
        "id": "avnS_OvFFsa0",
        "outputId": "bb7d4138-9784-4112-830d-6da03b89c31d"
      },
      "execution_count": null,
      "outputs": [
        {
          "output_type": "execute_result",
          "data": {
            "text/plain": [
              "DecisionTreeClassifier()"
            ]
          },
          "metadata": {},
          "execution_count": 121
        }
      ]
    },
    {
      "cell_type": "code",
      "source": [
        "#accuracy on training data\n",
        "x_train_prediction = DT.predict(x_train)\n",
        "training_data_accuracy = accuracy_score(x_train_prediction,y_train)\n",
        "print('Accuracy on training data:',training_data_accuracy)\n",
        "\n",
        "#Accuracy on test data\n",
        "x_test_prediction = DT.predict(x_test)\n",
        "test_data_accuracy = accuracy_score(x_test_prediction, y_test)\n",
        "print('Accuracy on test data:',test_data_accuracy)"
      ],
      "metadata": {
        "colab": {
          "base_uri": "https://localhost:8080/"
        },
        "id": "fDPXWJFVGLzs",
        "outputId": "c4bfe398-07f5-482c-8c3a-da688df62ad4"
      },
      "execution_count": null,
      "outputs": [
        {
          "output_type": "stream",
          "name": "stdout",
          "text": [
            "Accuracy on training data: 0.9998907328611278\n",
            "Accuracy on test data: 0.872506170300288\n"
          ]
        }
      ]
    },
    {
      "cell_type": "code",
      "source": [
        "#printing classification report precision, recall, f1-score   \n",
        "print(classification_report(x_test_prediction, y_test))"
      ],
      "metadata": {
        "id": "R_gv3FnwGheX",
        "colab": {
          "base_uri": "https://localhost:8080/"
        },
        "outputId": "78b61944-6d03-4bd5-9064-9a0b0bad7f70"
      },
      "execution_count": null,
      "outputs": [
        {
          "output_type": "stream",
          "name": "stdout",
          "text": [
            "              precision    recall  f1-score   support\n",
            "\n",
            "           0       0.99      0.80      0.89     24239\n",
            "           1       0.75      0.99      0.85     14657\n",
            "\n",
            "    accuracy                           0.87     38896\n",
            "   macro avg       0.87      0.90      0.87     38896\n",
            "weighted avg       0.90      0.87      0.87     38896\n",
            "\n"
          ]
        }
      ]
    },
    {
      "cell_type": "code",
      "source": [
        "# cross validation score\n",
        "scores = cross_val_score(DT, x_train,y_train,cv=5)\n",
        "print(\"cross-validation_scores: \",scores)\n",
        "print(\"%0.2f accuracy with a standard deviation of %0.2f\" % (scores.mean(), scores.std()))"
      ],
      "metadata": {
        "colab": {
          "base_uri": "https://localhost:8080/"
        },
        "id": "mWmBootxRFcv",
        "outputId": "53e358a0-9c48-4204-dbde-8f83d57a171a"
      },
      "execution_count": null,
      "outputs": [
        {
          "output_type": "stream",
          "name": "stdout",
          "text": [
            "cross-validation_scores:  [0.99694701 0.99675419 0.99697905 0.99752539 0.99755753]\n",
            "1.00 accuracy with a standard deviation of 0.00\n"
          ]
        }
      ]
    },
    {
      "cell_type": "code",
      "source": [
        "#checking the confusion matrix\n",
        "cm = confusion_matrix(x_test_prediction, y_test)\n",
        "print(cm)"
      ],
      "metadata": {
        "colab": {
          "base_uri": "https://localhost:8080/"
        },
        "id": "boLBXHIFRMAN",
        "outputId": "aae39076-b5ac-4d32-b234-3887b36fd1aa"
      },
      "execution_count": null,
      "outputs": [
        {
          "output_type": "stream",
          "name": "stdout",
          "text": [
            "[[19393  4846]\n",
            " [  113 14544]]\n"
          ]
        }
      ]
    },
    {
      "cell_type": "code",
      "source": [
        "#plotting the confusion matrix\n",
        "sns.heatmap(cm, annot=True, cmap='YlGnBu', fmt='d')"
      ],
      "metadata": {
        "colab": {
          "base_uri": "https://localhost:8080/",
          "height": 283
        },
        "id": "udSxEVAdRX9O",
        "outputId": "fd31f92a-cf8e-4c00-c041-a957a908fd0d"
      },
      "execution_count": null,
      "outputs": [
        {
          "output_type": "execute_result",
          "data": {
            "text/plain": [
              "<matplotlib.axes._subplots.AxesSubplot at 0x7f25d58b0310>"
            ]
          },
          "metadata": {},
          "execution_count": 126
        },
        {
          "output_type": "display_data",
          "data": {
            "text/plain": [
              "<Figure size 432x288 with 2 Axes>"
            ],
            "image/png": "[encoded data removed]"
          },
          "metadata": {
            "needs_background": "light"
          }
        }
      ]
    },
    {
      "cell_type": "code",
      "source": [
        "#calculating the predicted probability for Logistic Regression\n",
        "y_hat = DT.predict_proba(x_test)[:,1]\n",
        "\n",
        "#defining thresold score\n",
        "thresholds = np.linspace(0,1,100)\n",
        "\n",
        "#defining fpr and tpr\n",
        "fpr, tpr, thresold = roc_curve(y_test, y_hat)\n",
        "\n",
        "#roc_auc_score\n",
        "DT_roc_auc = roc_auc_score(y_test, DT.predict(x_test))\n",
        "DT_roc_auc"
      ],
      "metadata": {
        "colab": {
          "base_uri": "https://localhost:8080/"
        },
        "id": "SHcGUHk0ReEQ",
        "outputId": "96d7bca4-2849-4cfd-d1eb-92db04b0e2c9"
      },
      "execution_count": null,
      "outputs": [
        {
          "output_type": "execute_result",
          "data": {
            "text/plain": [
              "0.8721421350788933"
            ]
          },
          "metadata": {},
          "execution_count": 127
        }
      ]
    },
    {
      "cell_type": "code",
      "source": [
        "# plotting the roc curve\n",
        "plt.figure()\n",
        "plt.plot(fpr, tpr, label='Decision Tree (senstivity = %0.3f)',color='y' %NB_roc_auc)\n",
        "plt.plot([0,1],[0,1], 'g--')\n",
        "plt.xlabel('False positive rate')\n",
        "plt.ylabel('True positive rate')\n",
        "plt.title(\"Receiver operating characteristics\")\n",
        "plt.legend(loc=\"lower right\")"
      ],
      "metadata": {
        "colab": {
          "base_uri": "https://localhost:8080/",
          "height": 313
        },
        "id": "l_TjHET7Ro1X",
        "outputId": "b1bd04c3-cedf-41ce-a7a3-d8d33236425b"
      },
      "execution_count": null,
      "outputs": [
        {
          "output_type": "execute_result",
          "data": {
            "text/plain": [
              "<matplotlib.legend.Legend at 0x7f25d57e7f90>"
            ]
          },
          "metadata": {},
          "execution_count": 128
        },
        {
          "output_type": "display_data",
          "data": {
            "text/plain": [
              "<Figure size 432x288 with 1 Axes>"
            ],
            "image/png": "[encoded data removed]"
          },
          "metadata": {
            "needs_background": "light"
          }
        }
      ]
    },
    {
      "cell_type": "markdown",
      "source": [
        "Random Forest"
      ],
      "metadata": {
        "id": "6tdpA5lZR1cW"
      }
    },
    {
      "cell_type": "code",
      "source": [
        "RF = RandomForestClassifier()\n",
        "RF.fit(x_train,y_train)"
      ],
      "metadata": {
        "colab": {
          "base_uri": "https://localhost:8080/"
        },
        "id": "-qHjHnEPRzUy",
        "outputId": "2f02d49c-6f2f-4eb4-f2fe-61869a1d7e48"
      },
      "execution_count": null,
      "outputs": [
        {
          "output_type": "execute_result",
          "data": {
            "text/plain": [
              "RandomForestClassifier()"
            ]
          },
          "metadata": {},
          "execution_count": 129
        }
      ]
    },
    {
      "cell_type": "code",
      "source": [
        "#accuracy on training data\n",
        "x_train_prediction = RF.predict(x_train)\n",
        "training_data_accuracy = accuracy_score(x_train_prediction,y_train)\n",
        "print('Accuracy on training data:',training_data_accuracy)\n",
        "\n",
        "#Accuracy on test data\n",
        "x_test_prediction = RF.predict(x_test)\n",
        "test_data_accuracy = accuracy_score(x_test_prediction, y_test)\n",
        "print('Accuracy on test data:',test_data_accuracy)"
      ],
      "metadata": {
        "colab": {
          "base_uri": "https://localhost:8080/"
        },
        "id": "nR8LqkzbSB50",
        "outputId": "84ee992a-c95f-427f-bee9-27d7ee28ecf2"
      },
      "execution_count": null,
      "outputs": [
        {
          "output_type": "stream",
          "name": "stdout",
          "text": [
            "Accuracy on training data: 0.9998907328611278\n",
            "Accuracy on test data: 0.9624125874125874\n"
          ]
        }
      ]
    },
    {
      "cell_type": "code",
      "source": [
        "#printing classification report precision, recall, f1-score   \n",
        "print(classification_report(x_test_prediction, y_test))"
      ],
      "metadata": {
        "colab": {
          "base_uri": "https://localhost:8080/"
        },
        "id": "yreUOH8KSYR0",
        "outputId": "65c52ce6-037f-49ed-9eac-44b8c3bc6f7a"
      },
      "execution_count": null,
      "outputs": [
        {
          "output_type": "stream",
          "name": "stdout",
          "text": [
            "              precision    recall  f1-score   support\n",
            "\n",
            "           0       0.99      0.93      0.96     20768\n",
            "           1       0.93      0.99      0.96     18128\n",
            "\n",
            "    accuracy                           0.96     38896\n",
            "   macro avg       0.96      0.96      0.96     38896\n",
            "weighted avg       0.96      0.96      0.96     38896\n",
            "\n"
          ]
        }
      ]
    },
    {
      "cell_type": "code",
      "source": [
        "# cross validation score\n",
        "scores = cross_val_score(RF, x_train,y_train,cv=5)\n",
        "print(\"cross-validation_scores: \",scores)\n",
        "print(\"%0.2f accuracy with a standard deviation of %0.2f\" % (scores.mean(), scores.std()))"
      ],
      "metadata": {
        "colab": {
          "base_uri": "https://localhost:8080/"
        },
        "id": "y10--7aYSuO2",
        "outputId": "b4c0ecb7-46a4-418b-d861-c1c686a58929"
      },
      "execution_count": null,
      "outputs": [
        {
          "output_type": "stream",
          "name": "stdout",
          "text": [
            "cross-validation_scores:  [0.99681846 0.99681846 0.99675408 0.99768608 0.99730042]\n",
            "1.00 accuracy with a standard deviation of 0.00\n"
          ]
        }
      ]
    },
    {
      "cell_type": "code",
      "source": [
        "#checking the confusion matrix\n",
        "cm = confusion_matrix(x_test_prediction, y_test)"
      ],
      "metadata": {
        "id": "FVo8ygwhSfIw"
      },
      "execution_count": null,
      "outputs": []
    },
    {
      "cell_type": "code",
      "source": [
        "#plotting the confusion matrix\n",
        "sns.heatmap(cm, annot=True, cmap='YlGnBu', fmt='d')"
      ],
      "metadata": {
        "colab": {
          "base_uri": "https://localhost:8080/",
          "height": 283
        },
        "id": "4Uz4ICnbSkei",
        "outputId": "ecbd032f-c932-456f-ce72-161704345ee7"
      },
      "execution_count": null,
      "outputs": [
        {
          "output_type": "execute_result",
          "data": {
            "text/plain": [
              "<matplotlib.axes._subplots.AxesSubplot at 0x7f25d6740c90>"
            ]
          },
          "metadata": {},
          "execution_count": 134
        },
        {
          "output_type": "display_data",
          "data": {
            "text/plain": [
              "<Figure size 432x288 with 2 Axes>"
            ],
            "image/png": "[encoded data removed]"
          },
          "metadata": {
            "needs_background": "light"
          }
        }
      ]
    },
    {
      "cell_type": "code",
      "source": [
        "#calculating the predicted probability for Logistic Regression\n",
        "y_hat = RF.predict_proba(x_test)[:,1]\n",
        "\n",
        "#defining thresold score\n",
        "thresholds = np.linspace(0,1,100)\n",
        "\n",
        "#defining fpr and tpr\n",
        "fpr, tpr, thresold = roc_curve(y_test, y_hat)\n",
        "\n",
        "#roc_auc_score\n",
        "RF_roc_auc = roc_auc_score(y_test, RF.predict(x_test))\n",
        "RF_roc_auc"
      ],
      "metadata": {
        "colab": {
          "base_uri": "https://localhost:8080/"
        },
        "id": "gSi-UPucS4gs",
        "outputId": "aadc7530-9e11-4477-db02-8f0700582916"
      },
      "execution_count": null,
      "outputs": [
        {
          "output_type": "execute_result",
          "data": {
            "text/plain": [
              "0.9623154896548144"
            ]
          },
          "metadata": {},
          "execution_count": 135
        }
      ]
    },
    {
      "cell_type": "code",
      "source": [
        "# plotting the roc curve\n",
        "plt.figure()\n",
        "plt.plot(fpr, tpr, label='Random Forest (senstivity = %0.2f)',color='g' %RF_roc_auc)\n",
        "plt.plot([0,1],[0,1], 'y--')\n",
        "plt.xlabel('False positive rate')\n",
        "plt.ylabel('True positive rate')\n",
        "plt.title(\"Receiver operating characteristics\")\n",
        "plt.legend(loc=\"lower right\")"
      ],
      "metadata": {
        "colab": {
          "base_uri": "https://localhost:8080/",
          "height": 313
        },
        "id": "p2aOvRtwTEO6",
        "outputId": "eab30580-7ebc-4a2b-bf21-70594264a58f"
      },
      "execution_count": null,
      "outputs": [
        {
          "output_type": "execute_result",
          "data": {
            "text/plain": [
              "<matplotlib.legend.Legend at 0x7f25d51091d0>"
            ]
          },
          "metadata": {},
          "execution_count": 136
        },
        {
          "output_type": "display_data",
          "data": {
            "text/plain": [
              "<Figure size 432x288 with 1 Axes>"
            ],
            "image/png": "[encoded data removed]"
          },
          "metadata": {
            "needs_background": "light"
          }
        }
      ]
    },
    {
      "cell_type": "markdown",
      "source": [
        "XGB"
      ],
      "metadata": {
        "id": "13HmCG1dTUgq"
      }
    },
    {
      "cell_type": "code",
      "source": [
        "xgb = xgb.XGBClassifier()\n",
        "xgb.fit(x_train,y_train)"
      ],
      "metadata": {
        "colab": {
          "base_uri": "https://localhost:8080/"
        },
        "id": "90VSgHXwTPb-",
        "outputId": "4f46d2ed-f5e6-4155-a989-5232d8ed1583"
      },
      "execution_count": null,
      "outputs": [
        {
          "output_type": "execute_result",
          "data": {
            "text/plain": [
              "XGBClassifier()"
            ]
          },
          "metadata": {},
          "execution_count": 137
        }
      ]
    },
    {
      "cell_type": "code",
      "source": [
        "#accuracy on training data\n",
        "x_train_prediction = xgb.predict(x_train)\n",
        "training_data_accuracy = accuracy_score(x_train_prediction,y_train)\n",
        "print('Accuracy on training data:',training_data_accuracy)\n",
        "\n",
        "#Accuracy on test data\n",
        "x_test_prediction = xgb.predict(x_test)\n",
        "test_data_accuracy = accuracy_score(x_test_prediction, y_test)\n",
        "print('Accuracy on test data:',test_data_accuracy)"
      ],
      "metadata": {
        "colab": {
          "base_uri": "https://localhost:8080/"
        },
        "id": "kQPKC8V0TkjE",
        "outputId": "4aade981-e4d7-470f-e0af-fb8ce4646778"
      },
      "execution_count": null,
      "outputs": [
        {
          "output_type": "stream",
          "name": "stdout",
          "text": [
            "Accuracy on training data: 0.992081346171151\n",
            "Accuracy on test data: 0.9902046482928836\n"
          ]
        }
      ]
    },
    {
      "cell_type": "code",
      "source": [
        "#printing classification report precision, recall, f1-score   \n",
        "print(classification_report(x_test_prediction, y_test))"
      ],
      "metadata": {
        "colab": {
          "base_uri": "https://localhost:8080/"
        },
        "id": "9D7ng-UKTuV9",
        "outputId": "e2092c44-f699-4bf2-df5e-d39bc602f0d6"
      },
      "execution_count": null,
      "outputs": [
        {
          "output_type": "stream",
          "name": "stdout",
          "text": [
            "              precision    recall  f1-score   support\n",
            "\n",
            "           0       0.98      1.00      0.99     19235\n",
            "           1       1.00      0.98      0.99     19661\n",
            "\n",
            "    accuracy                           0.99     38896\n",
            "   macro avg       0.99      0.99      0.99     38896\n",
            "weighted avg       0.99      0.99      0.99     38896\n",
            "\n"
          ]
        }
      ]
    },
    {
      "cell_type": "code",
      "source": [
        "# cross validation score\n",
        "scores = cross_val_score(xgb, x_train,y_train,cv=5)\n",
        "print(\"cross-validation_scores: \",scores)\n",
        "print(\"%0.2f accuracy with a standard deviation of %0.2f\" % (scores.mean(), scores.std()))"
      ],
      "metadata": {
        "colab": {
          "base_uri": "https://localhost:8080/"
        },
        "id": "025lJP4tT0uh",
        "outputId": "c51c3143-0ef1-4262-c2f1-9080d28343fd"
      },
      "execution_count": null,
      "outputs": [
        {
          "output_type": "stream",
          "name": "stdout",
          "text": [
            "cross-validation_scores:  [0.99141948 0.99158017 0.99180486 0.99222265 0.99238334]\n",
            "0.99 accuracy with a standard deviation of 0.00\n"
          ]
        }
      ]
    },
    {
      "cell_type": "code",
      "source": [
        "#checking the confusion matrix\n",
        "cm = confusion_matrix(x_test_prediction, y_test)\n",
        "print(cm)\n",
        "\n"
      ],
      "metadata": {
        "colab": {
          "base_uri": "https://localhost:8080/"
        },
        "id": "74QjXxA5T7Qh",
        "outputId": "56aedfbc-5c0a-4c21-a335-4f9640842a4d"
      },
      "execution_count": null,
      "outputs": [
        {
          "output_type": "stream",
          "name": "stdout",
          "text": [
            "[[19180    55]\n",
            " [  326 19335]]\n"
          ]
        }
      ]
    },
    {
      "cell_type": "code",
      "source": [
        "#plotting the confusion matrix\n",
        "sns.heatmap(cm, annot=True, cmap='YlGnBu', fmt='d')"
      ],
      "metadata": {
        "colab": {
          "base_uri": "https://localhost:8080/",
          "height": 283
        },
        "id": "LFhgmIB-UEjU",
        "outputId": "e4a3d426-3ad4-417a-cc66-120c5e7bc908"
      },
      "execution_count": null,
      "outputs": [
        {
          "output_type": "execute_result",
          "data": {
            "text/plain": [
              "<matplotlib.axes._subplots.AxesSubplot at 0x7f25d50db910>"
            ]
          },
          "metadata": {},
          "execution_count": 142
        },
        {
          "output_type": "display_data",
          "data": {
            "text/plain": [
              "<Figure size 432x288 with 2 Axes>"
            ],
            "image/png": "[encoded data removed]"
          },
          "metadata": {
            "needs_background": "light"
          }
        }
      ]
    },
    {
      "cell_type": "code",
      "source": [
        "#calculating the predicted probability for Logistic Regression\n",
        "y_hat = xgb.predict_proba(x_test)[:,1]\n",
        "\n",
        "#defining thresold score\n",
        "thresholds = np.linspace(0,1,100)\n",
        "\n",
        "#defining fpr and tpr\n",
        "fpr, tpr, thresold = roc_curve(y_test, y_hat)\n",
        "\n",
        "#roc_auc_score\n",
        "xgb_roc_auc = roc_auc_score(y_test, xgb.predict(x_test))\n",
        "xgb_roc_auc"
      ],
      "metadata": {
        "colab": {
          "base_uri": "https://localhost:8080/"
        },
        "id": "T4Ks4JfZUI17",
        "outputId": "80cd0273-b9fe-47cd-e416-a9843c933a77"
      },
      "execution_count": null,
      "outputs": [
        {
          "output_type": "execute_result",
          "data": {
            "text/plain": [
              "0.990225340008578"
            ]
          },
          "metadata": {},
          "execution_count": 143
        }
      ]
    },
    {
      "cell_type": "code",
      "source": [
        "# plotting the roc curve\n",
        "plt.figure()\n",
        "plt.plot(fpr, tpr, label='XGB (senstivity = %0.2f)',color='g' %RF_roc_auc)\n",
        "plt.plot([0,1],[0,1], 'r--')\n",
        "plt.xlabel('False positive rate')\n",
        "plt.ylabel('True positive rate')\n",
        "plt.title(\"Receiver operating characteristics\")\n",
        "plt.legend(loc=\"lower right\")"
      ],
      "metadata": {
        "colab": {
          "base_uri": "https://localhost:8080/",
          "height": 313
        },
        "id": "eB4OyfLMUZ3S",
        "outputId": "76621337-57a2-4119-c25a-b139b3af5615"
      },
      "execution_count": null,
      "outputs": [
        {
          "output_type": "execute_result",
          "data": {
            "text/plain": [
              "<matplotlib.legend.Legend at 0x7f25d4fbcb10>"
            ]
          },
          "metadata": {},
          "execution_count": 144
        },
        {
          "output_type": "display_data",
          "data": {
            "text/plain": [
              "<Figure size 432x288 with 1 Axes>"
            ],
            "image/png": "[encoded data removed]"
          },
          "metadata": {
            "needs_background": "light"
          }
        }
      ]
    },
    {
      "cell_type": "markdown",
      "source": [
        "KNN"
      ],
      "metadata": {
        "id": "yZrGo4ZyU4ef"
      }
    },
    {
      "cell_type": "code",
      "source": [
        "KNN = KNeighborsClassifier()\n",
        "KNN.fit(x_train,y_train)"
      ],
      "metadata": {
        "colab": {
          "base_uri": "https://localhost:8080/"
        },
        "id": "gfJfzCRDUxou",
        "outputId": "7ff2babc-0e42-4a10-8b7c-ad147ef86c3b"
      },
      "execution_count": null,
      "outputs": [
        {
          "output_type": "execute_result",
          "data": {
            "text/plain": [
              "KNeighborsClassifier()"
            ]
          },
          "metadata": {},
          "execution_count": 145
        }
      ]
    },
    {
      "cell_type": "code",
      "source": [
        "#accuracy on training data\n",
        "x_train_prediction = KNN.predict(x_train)\n",
        "training_data_accuracy = accuracy_score(x_train_prediction,y_train)\n",
        "print('Accuracy on training data:',training_data_accuracy)\n",
        "\n",
        "#Accuracy on test data\n",
        "x_test_prediction = KNN.predict(x_test)\n",
        "test_data_accuracy = accuracy_score(x_test_prediction, y_test)\n",
        "print('Accuracy on test data:',test_data_accuracy)"
      ],
      "metadata": {
        "colab": {
          "base_uri": "https://localhost:8080/"
        },
        "id": "0WzYamWwVCr7",
        "outputId": "08f3d628-0866-4a61-e71b-14f6329b75cc"
      },
      "execution_count": null,
      "outputs": [
        {
          "output_type": "stream",
          "name": "stdout",
          "text": [
            "Accuracy on training data: 0.9894010875294057\n",
            "Accuracy on test data: 0.612582270670506\n"
          ]
        }
      ]
    },
    {
      "cell_type": "code",
      "source": [
        "#printing classification report precision, recall, f1-score   \n",
        "print(classification_report(x_test_prediction, y_test))"
      ],
      "metadata": {
        "colab": {
          "base_uri": "https://localhost:8080/"
        },
        "id": "PnrwvXt0VLcC",
        "outputId": "61c4a286-7d4d-4182-a32c-3acdc424ab7c"
      },
      "execution_count": null,
      "outputs": [
        {
          "output_type": "stream",
          "name": "stdout",
          "text": [
            "              precision    recall  f1-score   support\n",
            "\n",
            "           0       0.96      0.57      0.71     32911\n",
            "           1       0.27      0.86      0.41      5985\n",
            "\n",
            "    accuracy                           0.61     38896\n",
            "   macro avg       0.61      0.71      0.56     38896\n",
            "weighted avg       0.85      0.61      0.67     38896\n",
            "\n"
          ]
        }
      ]
    },
    {
      "cell_type": "code",
      "source": [
        "# cross validation score\n",
        "scores = cross_val_score(KNN, x_train,y_train,cv=5)\n",
        "print(\"cross-validation_scores: \",scores)\n",
        "print(\"%0.2f accuracy with a standard deviation of %0.2f\" % (scores.mean(), scores.std()))"
      ],
      "metadata": {
        "colab": {
          "base_uri": "https://localhost:8080/"
        },
        "id": "yg6im9bwVQZM",
        "outputId": "699e910c-a1fe-4b01-c5b6-9bbd752a3097"
      },
      "execution_count": null,
      "outputs": [
        {
          "output_type": "stream",
          "name": "stdout",
          "text": [
            "cross-validation_scores:  [0.97695793 0.97644374 0.97711788 0.97618589 0.97666795]\n",
            "0.98 accuracy with a standard deviation of 0.00\n"
          ]
        }
      ]
    },
    {
      "cell_type": "code",
      "source": [
        "#checking the confusion matrix\n",
        "cm = confusion_matrix(x_test_prediction, y_test)\n",
        "print(cm)"
      ],
      "metadata": {
        "colab": {
          "base_uri": "https://localhost:8080/"
        },
        "id": "oCahfuqRVXHS",
        "outputId": "b15ee5ed-fba5-4443-b84d-1332389d44d9"
      },
      "execution_count": null,
      "outputs": [
        {
          "output_type": "stream",
          "name": "stdout",
          "text": [
            "[[18674 14237]\n",
            " [  832  5153]]\n"
          ]
        }
      ]
    },
    {
      "cell_type": "code",
      "source": [
        "#plotting the confusion matrix\n",
        "sns.heatmap(cm, annot=True, cmap='YlGnBu', fmt='d')"
      ],
      "metadata": {
        "colab": {
          "base_uri": "https://localhost:8080/",
          "height": 283
        },
        "id": "369iUxXZVj80",
        "outputId": "60bb09e3-a0a1-4ccb-ea6b-912fb6b3c2f3"
      },
      "execution_count": null,
      "outputs": [
        {
          "output_type": "execute_result",
          "data": {
            "text/plain": [
              "<matplotlib.axes._subplots.AxesSubplot at 0x7f25d4f8b550>"
            ]
          },
          "metadata": {},
          "execution_count": 150
        },
        {
          "output_type": "display_data",
          "data": {
            "text/plain": [
              "<Figure size 432x288 with 2 Axes>"
            ],
            "image/png": "[encoded data removed]"
          },
          "metadata": {
            "needs_background": "light"
          }
        }
      ]
    },
    {
      "cell_type": "code",
      "source": [
        "#calculating the predicted probability for Logistic Regression\n",
        "y_hat = KNN.predict_proba(x_test)[:,1]\n",
        "\n",
        "#defining thresold score\n",
        "thresholds = np.linspace(0,1,100)\n",
        "\n",
        "#defining fpr and tpr\n",
        "fpr, tpr, thresold = roc_curve(y_test, y_hat)\n",
        "\n",
        "#roc_auc_score\n",
        "KNN_roc_auc = roc_auc_score(y_test, KNN.predict(x_test))\n",
        "KNN_roc_auc"
      ],
      "metadata": {
        "colab": {
          "base_uri": "https://localhost:8080/"
        },
        "id": "8F2kgfSgVoD6",
        "outputId": "9cde2243-ef6c-408b-82b2-a6ff4cbfb7ea"
      },
      "execution_count": null,
      "outputs": [
        {
          "output_type": "execute_result",
          "data": {
            "text/plain": [
              "0.6115510007975753"
            ]
          },
          "metadata": {},
          "execution_count": 151
        }
      ]
    },
    {
      "cell_type": "code",
      "source": [
        "# plotting the roc curve\n",
        "plt.figure()\n",
        "plt.plot(fpr, tpr, label='K Nearest Neighbors (senstivity = %0.2f)',color='g' %KNN_roc_auc)\n",
        "plt.plot([0,1],[0,1], 'b--')\n",
        "plt.xlabel('False positive rate')\n",
        "plt.ylabel('True positive rate')\n",
        "plt.title(\"Receiver operating characteristics\")\n",
        "plt.legend(loc=\"lower right\")"
      ],
      "metadata": {
        "colab": {
          "base_uri": "https://localhost:8080/",
          "height": 313
        },
        "id": "k51sSL60Vznj",
        "outputId": "16fa989f-ccb6-4be1-ad99-c7a5626c7fd1"
      },
      "execution_count": null,
      "outputs": [
        {
          "output_type": "execute_result",
          "data": {
            "text/plain": [
              "<matplotlib.legend.Legend at 0x7f25d4eebd90>"
            ]
          },
          "metadata": {},
          "execution_count": 152
        },
        {
          "output_type": "display_data",
          "data": {
            "text/plain": [
              "<Figure size 432x288 with 1 Axes>"
            ],
            "image/png": "[encoded data removed]"
          },
          "metadata": {
            "needs_background": "light"
          }
        }
      ]
    },
    {
      "cell_type": "markdown",
      "source": [
        "Hyper Parameter Tuning"
      ],
      "metadata": {
        "id": "iSUy681e2XpW"
      }
    },
    {
      "cell_type": "code",
      "source": [
        "n_estimators = [int(x) for x in np.linspace(start=40, stop=150, num=15)]\n",
        "max_depth = [int(x) for x in np.linspace(40, 150, num=15)]\n",
        "\n",
        "param_dist = {\n",
        "    'n_estimators': n_estimators,\n",
        "    'max_depth': max_depth,\n",
        "}\n",
        "\n",
        "RF_tuned = RandomForestClassifier(random_state=42)\n",
        "\n",
        "RF_cv = RandomizedSearchCV(\n",
        "    estimator=RF_tuned, param_distributions=param_dist, cv=5, random_state=42)\n",
        "\n",
        "RF_cv.fit(x_train, y_train)"
      ],
      "metadata": {
        "id": "9p8ZlfEPWCcC",
        "colab": {
          "base_uri": "https://localhost:8080/"
        },
        "outputId": "d4d78269-4c5b-44e4-c846-eadafa6d3835"
      },
      "execution_count": null,
      "outputs": [
        {
          "output_type": "execute_result",
          "data": {
            "text/plain": [
              "RandomizedSearchCV(cv=5, estimator=RandomForestClassifier(random_state=42),\n",
              "                   param_distributions={'max_depth': [40, 47, 55, 63, 71, 79,\n",
              "                                                      87, 95, 102, 110, 118,\n",
              "                                                      126, 134, 142, 150],\n",
              "                                        'n_estimators': [40, 47, 55, 63, 71, 79,\n",
              "                                                         87, 95, 102, 110, 118,\n",
              "                                                         126, 134, 142, 150]},\n",
              "                   random_state=42)"
            ]
          },
          "metadata": {},
          "execution_count": 153
        }
      ]
    },
    {
      "cell_type": "code",
      "source": [
        "print(\"Best score: \", RF_cv.best_score_)\n",
        "print(\"Best parameters: \", RF_cv.best_params_)"
      ],
      "metadata": {
        "colab": {
          "base_uri": "https://localhost:8080/"
        },
        "id": "wvPTf5sJ2flR",
        "outputId": "78e58116-e756-4321-9e96-852a4396325b"
      },
      "execution_count": null,
      "outputs": [
        {
          "output_type": "stream",
          "name": "stdout",
          "text": [
            "Best score:  0.9971397750507611\n",
            "Best parameters:  {'n_estimators': 110, 'max_depth': 40}\n"
          ]
        }
      ]
    },
    {
      "cell_type": "code",
      "source": [
        "RF_best = RandomForestClassifier(\n",
        "    max_depth=102, n_estimators=40, random_state=42)"
      ],
      "metadata": {
        "id": "X9lCjUidXyYu"
      },
      "execution_count": null,
      "outputs": []
    },
    {
      "cell_type": "code",
      "source": [
        "RF_best.fit(x_train, y_train)"
      ],
      "metadata": {
        "colab": {
          "base_uri": "https://localhost:8080/"
        },
        "id": "PSp1fU_QdUlH",
        "outputId": "2905b46d-fda7-43a2-af7f-bb7f85d0662f"
      },
      "execution_count": null,
      "outputs": [
        {
          "output_type": "execute_result",
          "data": {
            "text/plain": [
              "RandomForestClassifier(max_depth=102, n_estimators=40, random_state=42)"
            ]
          },
          "metadata": {},
          "execution_count": 156
        }
      ]
    },
    {
      "cell_type": "code",
      "source": [
        "#accuracy on training data\n",
        "x_train_prediction = RF_best.predict(x_train)\n",
        "training_data_accuracy = accuracy_score(x_train_prediction,y_train)\n",
        "print('Accuracy on training data:',training_data_accuracy)\n",
        "\n",
        "#Accuracy on test data\n",
        "x_test_prediction = RF_best.predict(x_test)\n",
        "test_data_accuracy = accuracy_score(x_test_prediction, y_test)\n",
        "print('Accuracy on test data:',test_data_accuracy)"
      ],
      "metadata": {
        "colab": {
          "base_uri": "https://localhost:8080/"
        },
        "id": "vuyC_d10dXSm",
        "outputId": "3dd4d35c-1617-4dfb-f84e-cf63c55625ea"
      },
      "execution_count": null,
      "outputs": [
        {
          "output_type": "stream",
          "name": "stdout",
          "text": [
            "Accuracy on training data: 0.9998521679885848\n",
            "Accuracy on test data: 0.8976244343891403\n"
          ]
        }
      ]
    },
    {
      "cell_type": "code",
      "source": [
        "#printing classification report precision, recall, f1-score   \n",
        "print(classification_report(x_test_prediction, y_test))"
      ],
      "metadata": {
        "colab": {
          "base_uri": "https://localhost:8080/"
        },
        "id": "AXdtWDuudce7",
        "outputId": "47f8f80c-fc84-4e48-b136-9789c117d388"
      },
      "execution_count": null,
      "outputs": [
        {
          "output_type": "stream",
          "name": "stdout",
          "text": [
            "              precision    recall  f1-score   support\n",
            "\n",
            "           0       1.00      0.83      0.91     23358\n",
            "           1       0.80      1.00      0.89     15538\n",
            "\n",
            "    accuracy                           0.90     38896\n",
            "   macro avg       0.90      0.91      0.90     38896\n",
            "weighted avg       0.92      0.90      0.90     38896\n",
            "\n"
          ]
        }
      ]
    },
    {
      "cell_type": "code",
      "source": [],
      "metadata": {
        "id": "rT7JpDtzjb9e"
      },
      "execution_count": null,
      "outputs": []
    }
  ]
}